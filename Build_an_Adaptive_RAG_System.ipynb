{
  "nbformat": 4,
  "nbformat_minor": 0,
  "metadata": {
    "colab": {
      "provenance": []
    },
    "kernelspec": {
      "name": "python3",
      "display_name": "Python 3"
    },
    "language_info": {
      "name": "python"
    }
  },
  "cells": [
    {
      "cell_type": "markdown",
      "source": [
        "# Building an Adaptive RAG System with LangGraph"
      ],
      "metadata": {
        "id": "bghaot7QKkHQ"
      }
    },
    {
      "cell_type": "markdown",
      "source": [
        "This project will cover a full hands-on workflow and demonstration of how to build an Agentic Adaptive RAG System with LangGraph\n",
        "\n",
        "The idea would be to implement the workflow taking inspiration from the [Adaptive-RAG](https://arxiv.org/pdf/2403.14403) research paper.\n",
        "\n",
        "The main challenge of RAG systems include:\n",
        "\n",
        "- Poor Retrieval can lead to issues in LLM response generation\n",
        "- Bad retrieval or lack of information in the vector database can also lead to out of context or hallucinated answers\n",
        "- Even complex RAG Systems like CRAG suffer from the fact that they are fixed flows which will always be executed regardless of query complexity\n",
        "\n",
        "The idea is to build a dynamic agentic RAG system which can adapt based on the input query and route it to the best possible RAG workflow to handle it. In our case we will take a user query and route it either to be handled by the:\n",
        "- Web Search based RAG Flow\n",
        "- Vector DB based RAG flow\n",
        "\n",
        "We will also add in elements of Corrective RAG and Self-Reflective RAG here."
      ],
      "metadata": {
        "id": "HlrCWa9jKulS"
      }
    },
    {
      "cell_type": "markdown",
      "source": [
        "We can build this as an agentic RAG system by having a specific functionality step as a node in the graph and use LangGraph to implement it. Key steps in the node will include prompts being sent to LLMs, tools, DBs to perform specific tasks as seen in the detailed workflow below:\n",
        "\n",
        "![](https://i.imgur.com/ESG2Jc7.png)\n",
        "\n",
        "\n",
        "\n",
        "### Adaptive RAG System with LangGraph\n",
        "\n",
        "This project implements an **Adaptive RAG System** using LangGraph, designed to dynamically route user queries through the most suitable Retrieval-Augmented Generation (RAG) workflow. It supports both **Vector DB-based** and **Web Search-based** retrieval paths and incorporates elements from **Corrective RAG** (document grading) and **Self-Reflective RAG** (hallucination detection and feedback correction).\n",
        "\n",
        "The adaptive workflow includes the following key components:\n",
        "\n",
        "1. **Dynamic Query Routing**:\n",
        "   - A **Query Router Prompt** classifies the user query and decides whether the information should be retrieved from:\n",
        "     - An internal **Vector Database**, or\n",
        "     - A **Web Search** engine.\n",
        "   - Based on the routing decision, the query is rephrased using:\n",
        "     - **VectorDB Rephrase Prompt** for vector-optimized semantic search, or\n",
        "     - **Web Search Rephrase Prompt** for better recall from web sources.\n",
        "\n",
        "2. **Retrieval and Context Preparation**:\n",
        "   - **If the source is Vector DB**:\n",
        "     - Rephrased query is used to retrieve documents from the **Vector Database**.\n",
        "     - Retrieved documents are passed through an **LLM Grader Prompt**, which filters relevant documents using semantic grading (`yes` or `no`).\n",
        "     - If **more than 50%** of documents are relevant, they are forwarded to the next stage.\n",
        "     - If **50% or fewer** documents are relevant, the system switches to the **Web Search** path.\n",
        "     - Any irrelevant documents are removed.\n",
        "\n",
        "   - **If the source is Web Search** (or >=50% docs irrelevant from Vector DB route):\n",
        "     - The rephrased query is used directly to search the web and retrieve external context documents.\n",
        "\n",
        "3. **Answer Generation (RAG Prompt)**:\n",
        "   - Final relevant documents — either from the Vector DB (filtered) and / or Web Search (raw) — are used in the **RAG Prompt**.\n",
        "   - The prompt instructs the LLM to answer only using the provided context.\n",
        "   - If feedback exists (from a prior iteration in case there were hallucinations), it is also included in the prompt to improve the response.\n",
        "\n",
        "4. **Self-Reflective Hallucination Check**:\n",
        "   - The generated answer undergoes evaluation using a **Hallucination Check Prompt**.\n",
        "   - The LLM checks if the answer is grounded in the context documents and returns:\n",
        "     - A **hallucination flag** (`yes` or `no`)\n",
        "     - Optional **feedback** explaining the judgment.\n",
        "\n",
        "5. **Feedback Loop for Regeneration**:\n",
        "   - If the hallucination flag is `no`, the answer is finalized.\n",
        "   - If it is `yes`, the feedback is used to regenerate the response using the same context via the **RAG Prompt**, making the system more reliable and self-correcting.\n",
        "\n",
        "This **Adaptive RAG System** combines adaptive routing, corrective RAG, and self-reflective RAG elements to produce accurate, high-quality answers.\n",
        "\n",
        "___Created By: [Dipanjan (DJ)](https://www.linkedin.com/in/dipanjans/)___"
      ],
      "metadata": {
        "id": "hIfUG-flaSMB"
      }
    },
    {
      "cell_type": "markdown",
      "source": [
        "## Install OpenAI, Tavily, LangGraph and LangChain dependencies\n"
      ],
      "metadata": {
        "id": "YEZgavRjpUy2"
      }
    },
    {
      "cell_type": "code",
      "execution_count": 1,
      "metadata": {
        "colab": {
          "base_uri": "https://localhost:8080/"
        },
        "id": "E5Z0XUbPaI6S",
        "outputId": "b4896678-ebf5-405e-98d2-b64f9aec7ec6"
      },
      "outputs": [
        {
          "output_type": "stream",
          "name": "stdout",
          "text": [
            "Collecting langchain==0.3.20\n",
            "  Downloading langchain-0.3.20-py3-none-any.whl.metadata (7.7 kB)\n",
            "Requirement already satisfied: langchain-core<1.0.0,>=0.3.41 in /usr/local/lib/python3.11/dist-packages (from langchain==0.3.20) (0.3.47)\n",
            "Requirement already satisfied: langchain-text-splitters<1.0.0,>=0.3.6 in /usr/local/lib/python3.11/dist-packages (from langchain==0.3.20) (0.3.7)\n",
            "Requirement already satisfied: langsmith<0.4,>=0.1.17 in /usr/local/lib/python3.11/dist-packages (from langchain==0.3.20) (0.3.18)\n",
            "Requirement already satisfied: pydantic<3.0.0,>=2.7.4 in /usr/local/lib/python3.11/dist-packages (from langchain==0.3.20) (2.10.6)\n",
            "Requirement already satisfied: SQLAlchemy<3,>=1.4 in /usr/local/lib/python3.11/dist-packages (from langchain==0.3.20) (2.0.39)\n",
            "Requirement already satisfied: requests<3,>=2 in /usr/local/lib/python3.11/dist-packages (from langchain==0.3.20) (2.32.3)\n",
            "Requirement already satisfied: PyYAML>=5.3 in /usr/local/lib/python3.11/dist-packages (from langchain==0.3.20) (6.0.2)\n",
            "Requirement already satisfied: tenacity!=8.4.0,<10.0.0,>=8.1.0 in /usr/local/lib/python3.11/dist-packages (from langchain-core<1.0.0,>=0.3.41->langchain==0.3.20) (9.0.0)\n",
            "Requirement already satisfied: jsonpatch<2.0,>=1.33 in /usr/local/lib/python3.11/dist-packages (from langchain-core<1.0.0,>=0.3.41->langchain==0.3.20) (1.33)\n",
            "Requirement already satisfied: packaging<25,>=23.2 in /usr/local/lib/python3.11/dist-packages (from langchain-core<1.0.0,>=0.3.41->langchain==0.3.20) (24.2)\n",
            "Requirement already satisfied: typing-extensions>=4.7 in /usr/local/lib/python3.11/dist-packages (from langchain-core<1.0.0,>=0.3.41->langchain==0.3.20) (4.12.2)\n",
            "Requirement already satisfied: httpx<1,>=0.23.0 in /usr/local/lib/python3.11/dist-packages (from langsmith<0.4,>=0.1.17->langchain==0.3.20) (0.28.1)\n",
            "Requirement already satisfied: orjson<4.0.0,>=3.9.14 in /usr/local/lib/python3.11/dist-packages (from langsmith<0.4,>=0.1.17->langchain==0.3.20) (3.10.15)\n",
            "Requirement already satisfied: requests-toolbelt<2.0.0,>=1.0.0 in /usr/local/lib/python3.11/dist-packages (from langsmith<0.4,>=0.1.17->langchain==0.3.20) (1.0.0)\n",
            "Requirement already satisfied: zstandard<0.24.0,>=0.23.0 in /usr/local/lib/python3.11/dist-packages (from langsmith<0.4,>=0.1.17->langchain==0.3.20) (0.23.0)\n",
            "Requirement already satisfied: annotated-types>=0.6.0 in /usr/local/lib/python3.11/dist-packages (from pydantic<3.0.0,>=2.7.4->langchain==0.3.20) (0.7.0)\n",
            "Requirement already satisfied: pydantic-core==2.27.2 in /usr/local/lib/python3.11/dist-packages (from pydantic<3.0.0,>=2.7.4->langchain==0.3.20) (2.27.2)\n",
            "Requirement already satisfied: charset-normalizer<4,>=2 in /usr/local/lib/python3.11/dist-packages (from requests<3,>=2->langchain==0.3.20) (3.4.1)\n",
            "Requirement already satisfied: idna<4,>=2.5 in /usr/local/lib/python3.11/dist-packages (from requests<3,>=2->langchain==0.3.20) (3.10)\n",
            "Requirement already satisfied: urllib3<3,>=1.21.1 in /usr/local/lib/python3.11/dist-packages (from requests<3,>=2->langchain==0.3.20) (2.3.0)\n",
            "Requirement already satisfied: certifi>=2017.4.17 in /usr/local/lib/python3.11/dist-packages (from requests<3,>=2->langchain==0.3.20) (2025.1.31)\n",
            "Requirement already satisfied: greenlet!=0.4.17 in /usr/local/lib/python3.11/dist-packages (from SQLAlchemy<3,>=1.4->langchain==0.3.20) (3.1.1)\n",
            "Requirement already satisfied: anyio in /usr/local/lib/python3.11/dist-packages (from httpx<1,>=0.23.0->langsmith<0.4,>=0.1.17->langchain==0.3.20) (4.9.0)\n",
            "Requirement already satisfied: httpcore==1.* in /usr/local/lib/python3.11/dist-packages (from httpx<1,>=0.23.0->langsmith<0.4,>=0.1.17->langchain==0.3.20) (1.0.7)\n",
            "Requirement already satisfied: h11<0.15,>=0.13 in /usr/local/lib/python3.11/dist-packages (from httpcore==1.*->httpx<1,>=0.23.0->langsmith<0.4,>=0.1.17->langchain==0.3.20) (0.14.0)\n",
            "Requirement already satisfied: jsonpointer>=1.9 in /usr/local/lib/python3.11/dist-packages (from jsonpatch<2.0,>=1.33->langchain-core<1.0.0,>=0.3.41->langchain==0.3.20) (3.0.0)\n",
            "Requirement already satisfied: sniffio>=1.1 in /usr/local/lib/python3.11/dist-packages (from anyio->httpx<1,>=0.23.0->langsmith<0.4,>=0.1.17->langchain==0.3.20) (1.3.1)\n",
            "Downloading langchain-0.3.20-py3-none-any.whl (1.0 MB)\n",
            "\u001b[2K   \u001b[90m━━━━━━━━━━━━━━━━━━━━━━━━━━━━━━━━━━━━━━━━\u001b[0m \u001b[32m1.0/1.0 MB\u001b[0m \u001b[31m20.3 MB/s\u001b[0m eta \u001b[36m0:00:00\u001b[0m\n",
            "\u001b[?25hInstalling collected packages: langchain\n",
            "  Attempting uninstall: langchain\n",
            "    Found existing installation: langchain 0.3.21\n",
            "    Uninstalling langchain-0.3.21:\n",
            "      Successfully uninstalled langchain-0.3.21\n",
            "Successfully installed langchain-0.3.20\n",
            "Collecting langchain-openai==0.3.9\n",
            "  Downloading langchain_openai-0.3.9-py3-none-any.whl.metadata (2.3 kB)\n",
            "Requirement already satisfied: langchain-core<1.0.0,>=0.3.45 in /usr/local/lib/python3.11/dist-packages (from langchain-openai==0.3.9) (0.3.47)\n",
            "Requirement already satisfied: openai<2.0.0,>=1.66.3 in /usr/local/lib/python3.11/dist-packages (from langchain-openai==0.3.9) (1.68.2)\n",
            "Collecting tiktoken<1,>=0.7 (from langchain-openai==0.3.9)\n",
            "  Downloading tiktoken-0.9.0-cp311-cp311-manylinux_2_17_x86_64.manylinux2014_x86_64.whl.metadata (6.7 kB)\n",
            "Requirement already satisfied: langsmith<0.4,>=0.1.125 in /usr/local/lib/python3.11/dist-packages (from langchain-core<1.0.0,>=0.3.45->langchain-openai==0.3.9) (0.3.18)\n",
            "Requirement already satisfied: tenacity!=8.4.0,<10.0.0,>=8.1.0 in /usr/local/lib/python3.11/dist-packages (from langchain-core<1.0.0,>=0.3.45->langchain-openai==0.3.9) (9.0.0)\n",
            "Requirement already satisfied: jsonpatch<2.0,>=1.33 in /usr/local/lib/python3.11/dist-packages (from langchain-core<1.0.0,>=0.3.45->langchain-openai==0.3.9) (1.33)\n",
            "Requirement already satisfied: PyYAML>=5.3 in /usr/local/lib/python3.11/dist-packages (from langchain-core<1.0.0,>=0.3.45->langchain-openai==0.3.9) (6.0.2)\n",
            "Requirement already satisfied: packaging<25,>=23.2 in /usr/local/lib/python3.11/dist-packages (from langchain-core<1.0.0,>=0.3.45->langchain-openai==0.3.9) (24.2)\n",
            "Requirement already satisfied: typing-extensions>=4.7 in /usr/local/lib/python3.11/dist-packages (from langchain-core<1.0.0,>=0.3.45->langchain-openai==0.3.9) (4.12.2)\n",
            "Requirement already satisfied: pydantic<3.0.0,>=2.5.2 in /usr/local/lib/python3.11/dist-packages (from langchain-core<1.0.0,>=0.3.45->langchain-openai==0.3.9) (2.10.6)\n",
            "Requirement already satisfied: anyio<5,>=3.5.0 in /usr/local/lib/python3.11/dist-packages (from openai<2.0.0,>=1.66.3->langchain-openai==0.3.9) (4.9.0)\n",
            "Requirement already satisfied: distro<2,>=1.7.0 in /usr/local/lib/python3.11/dist-packages (from openai<2.0.0,>=1.66.3->langchain-openai==0.3.9) (1.9.0)\n",
            "Requirement already satisfied: httpx<1,>=0.23.0 in /usr/local/lib/python3.11/dist-packages (from openai<2.0.0,>=1.66.3->langchain-openai==0.3.9) (0.28.1)\n",
            "Requirement already satisfied: jiter<1,>=0.4.0 in /usr/local/lib/python3.11/dist-packages (from openai<2.0.0,>=1.66.3->langchain-openai==0.3.9) (0.9.0)\n",
            "Requirement already satisfied: sniffio in /usr/local/lib/python3.11/dist-packages (from openai<2.0.0,>=1.66.3->langchain-openai==0.3.9) (1.3.1)\n",
            "Requirement already satisfied: tqdm>4 in /usr/local/lib/python3.11/dist-packages (from openai<2.0.0,>=1.66.3->langchain-openai==0.3.9) (4.67.1)\n",
            "Requirement already satisfied: regex>=2022.1.18 in /usr/local/lib/python3.11/dist-packages (from tiktoken<1,>=0.7->langchain-openai==0.3.9) (2024.11.6)\n",
            "Requirement already satisfied: requests>=2.26.0 in /usr/local/lib/python3.11/dist-packages (from tiktoken<1,>=0.7->langchain-openai==0.3.9) (2.32.3)\n",
            "Requirement already satisfied: idna>=2.8 in /usr/local/lib/python3.11/dist-packages (from anyio<5,>=3.5.0->openai<2.0.0,>=1.66.3->langchain-openai==0.3.9) (3.10)\n",
            "Requirement already satisfied: certifi in /usr/local/lib/python3.11/dist-packages (from httpx<1,>=0.23.0->openai<2.0.0,>=1.66.3->langchain-openai==0.3.9) (2025.1.31)\n",
            "Requirement already satisfied: httpcore==1.* in /usr/local/lib/python3.11/dist-packages (from httpx<1,>=0.23.0->openai<2.0.0,>=1.66.3->langchain-openai==0.3.9) (1.0.7)\n",
            "Requirement already satisfied: h11<0.15,>=0.13 in /usr/local/lib/python3.11/dist-packages (from httpcore==1.*->httpx<1,>=0.23.0->openai<2.0.0,>=1.66.3->langchain-openai==0.3.9) (0.14.0)\n",
            "Requirement already satisfied: jsonpointer>=1.9 in /usr/local/lib/python3.11/dist-packages (from jsonpatch<2.0,>=1.33->langchain-core<1.0.0,>=0.3.45->langchain-openai==0.3.9) (3.0.0)\n",
            "Requirement already satisfied: orjson<4.0.0,>=3.9.14 in /usr/local/lib/python3.11/dist-packages (from langsmith<0.4,>=0.1.125->langchain-core<1.0.0,>=0.3.45->langchain-openai==0.3.9) (3.10.15)\n",
            "Requirement already satisfied: requests-toolbelt<2.0.0,>=1.0.0 in /usr/local/lib/python3.11/dist-packages (from langsmith<0.4,>=0.1.125->langchain-core<1.0.0,>=0.3.45->langchain-openai==0.3.9) (1.0.0)\n",
            "Requirement already satisfied: zstandard<0.24.0,>=0.23.0 in /usr/local/lib/python3.11/dist-packages (from langsmith<0.4,>=0.1.125->langchain-core<1.0.0,>=0.3.45->langchain-openai==0.3.9) (0.23.0)\n",
            "Requirement already satisfied: annotated-types>=0.6.0 in /usr/local/lib/python3.11/dist-packages (from pydantic<3.0.0,>=2.5.2->langchain-core<1.0.0,>=0.3.45->langchain-openai==0.3.9) (0.7.0)\n",
            "Requirement already satisfied: pydantic-core==2.27.2 in /usr/local/lib/python3.11/dist-packages (from pydantic<3.0.0,>=2.5.2->langchain-core<1.0.0,>=0.3.45->langchain-openai==0.3.9) (2.27.2)\n",
            "Requirement already satisfied: charset-normalizer<4,>=2 in /usr/local/lib/python3.11/dist-packages (from requests>=2.26.0->tiktoken<1,>=0.7->langchain-openai==0.3.9) (3.4.1)\n",
            "Requirement already satisfied: urllib3<3,>=1.21.1 in /usr/local/lib/python3.11/dist-packages (from requests>=2.26.0->tiktoken<1,>=0.7->langchain-openai==0.3.9) (2.3.0)\n",
            "Downloading langchain_openai-0.3.9-py3-none-any.whl (60 kB)\n",
            "\u001b[2K   \u001b[90m━━━━━━━━━━━━━━━━━━━━━━━━━━━━━━━━━━━━━━━━\u001b[0m \u001b[32m60.9/60.9 kB\u001b[0m \u001b[31m3.5 MB/s\u001b[0m eta \u001b[36m0:00:00\u001b[0m\n",
            "\u001b[?25hDownloading tiktoken-0.9.0-cp311-cp311-manylinux_2_17_x86_64.manylinux2014_x86_64.whl (1.2 MB)\n",
            "\u001b[2K   \u001b[90m━━━━━━━━━━━━━━━━━━━━━━━━━━━━━━━━━━━━━━━━\u001b[0m \u001b[32m1.2/1.2 MB\u001b[0m \u001b[31m27.0 MB/s\u001b[0m eta \u001b[36m0:00:00\u001b[0m\n",
            "\u001b[?25hInstalling collected packages: tiktoken, langchain-openai\n",
            "Successfully installed langchain-openai-0.3.9 tiktoken-0.9.0\n",
            "Collecting langchain-community==0.3.20\n",
            "  Downloading langchain_community-0.3.20-py3-none-any.whl.metadata (2.4 kB)\n",
            "Requirement already satisfied: langchain-core<1.0.0,>=0.3.45 in /usr/local/lib/python3.11/dist-packages (from langchain-community==0.3.20) (0.3.47)\n",
            "Collecting langchain<1.0.0,>=0.3.21 (from langchain-community==0.3.20)\n",
            "  Downloading langchain-0.3.21-py3-none-any.whl.metadata (7.8 kB)\n",
            "Requirement already satisfied: SQLAlchemy<3,>=1.4 in /usr/local/lib/python3.11/dist-packages (from langchain-community==0.3.20) (2.0.39)\n",
            "Requirement already satisfied: requests<3,>=2 in /usr/local/lib/python3.11/dist-packages (from langchain-community==0.3.20) (2.32.3)\n",
            "Requirement already satisfied: PyYAML>=5.3 in /usr/local/lib/python3.11/dist-packages (from langchain-community==0.3.20) (6.0.2)\n",
            "Requirement already satisfied: aiohttp<4.0.0,>=3.8.3 in /usr/local/lib/python3.11/dist-packages (from langchain-community==0.3.20) (3.11.14)\n",
            "Requirement already satisfied: tenacity!=8.4.0,<10,>=8.1.0 in /usr/local/lib/python3.11/dist-packages (from langchain-community==0.3.20) (9.0.0)\n",
            "Collecting dataclasses-json<0.7,>=0.5.7 (from langchain-community==0.3.20)\n",
            "  Downloading dataclasses_json-0.6.7-py3-none-any.whl.metadata (25 kB)\n",
            "Collecting pydantic-settings<3.0.0,>=2.4.0 (from langchain-community==0.3.20)\n",
            "  Downloading pydantic_settings-2.8.1-py3-none-any.whl.metadata (3.5 kB)\n",
            "Requirement already satisfied: langsmith<0.4,>=0.1.125 in /usr/local/lib/python3.11/dist-packages (from langchain-community==0.3.20) (0.3.18)\n",
            "Collecting httpx-sse<1.0.0,>=0.4.0 (from langchain-community==0.3.20)\n",
            "  Downloading httpx_sse-0.4.0-py3-none-any.whl.metadata (9.0 kB)\n",
            "Requirement already satisfied: numpy<3,>=1.26.2 in /usr/local/lib/python3.11/dist-packages (from langchain-community==0.3.20) (2.0.2)\n",
            "Requirement already satisfied: aiohappyeyeballs>=2.3.0 in /usr/local/lib/python3.11/dist-packages (from aiohttp<4.0.0,>=3.8.3->langchain-community==0.3.20) (2.6.1)\n",
            "Requirement already satisfied: aiosignal>=1.1.2 in /usr/local/lib/python3.11/dist-packages (from aiohttp<4.0.0,>=3.8.3->langchain-community==0.3.20) (1.3.2)\n",
            "Requirement already satisfied: attrs>=17.3.0 in /usr/local/lib/python3.11/dist-packages (from aiohttp<4.0.0,>=3.8.3->langchain-community==0.3.20) (25.3.0)\n",
            "Requirement already satisfied: frozenlist>=1.1.1 in /usr/local/lib/python3.11/dist-packages (from aiohttp<4.0.0,>=3.8.3->langchain-community==0.3.20) (1.5.0)\n",
            "Requirement already satisfied: multidict<7.0,>=4.5 in /usr/local/lib/python3.11/dist-packages (from aiohttp<4.0.0,>=3.8.3->langchain-community==0.3.20) (6.2.0)\n",
            "Requirement already satisfied: propcache>=0.2.0 in /usr/local/lib/python3.11/dist-packages (from aiohttp<4.0.0,>=3.8.3->langchain-community==0.3.20) (0.3.0)\n",
            "Requirement already satisfied: yarl<2.0,>=1.17.0 in /usr/local/lib/python3.11/dist-packages (from aiohttp<4.0.0,>=3.8.3->langchain-community==0.3.20) (1.18.3)\n",
            "Collecting marshmallow<4.0.0,>=3.18.0 (from dataclasses-json<0.7,>=0.5.7->langchain-community==0.3.20)\n",
            "  Downloading marshmallow-3.26.1-py3-none-any.whl.metadata (7.3 kB)\n",
            "Collecting typing-inspect<1,>=0.4.0 (from dataclasses-json<0.7,>=0.5.7->langchain-community==0.3.20)\n",
            "  Downloading typing_inspect-0.9.0-py3-none-any.whl.metadata (1.5 kB)\n",
            "Requirement already satisfied: langchain-text-splitters<1.0.0,>=0.3.7 in /usr/local/lib/python3.11/dist-packages (from langchain<1.0.0,>=0.3.21->langchain-community==0.3.20) (0.3.7)\n",
            "Requirement already satisfied: pydantic<3.0.0,>=2.7.4 in /usr/local/lib/python3.11/dist-packages (from langchain<1.0.0,>=0.3.21->langchain-community==0.3.20) (2.10.6)\n",
            "Requirement already satisfied: jsonpatch<2.0,>=1.33 in /usr/local/lib/python3.11/dist-packages (from langchain-core<1.0.0,>=0.3.45->langchain-community==0.3.20) (1.33)\n",
            "Requirement already satisfied: packaging<25,>=23.2 in /usr/local/lib/python3.11/dist-packages (from langchain-core<1.0.0,>=0.3.45->langchain-community==0.3.20) (24.2)\n",
            "Requirement already satisfied: typing-extensions>=4.7 in /usr/local/lib/python3.11/dist-packages (from langchain-core<1.0.0,>=0.3.45->langchain-community==0.3.20) (4.12.2)\n",
            "Requirement already satisfied: httpx<1,>=0.23.0 in /usr/local/lib/python3.11/dist-packages (from langsmith<0.4,>=0.1.125->langchain-community==0.3.20) (0.28.1)\n",
            "Requirement already satisfied: orjson<4.0.0,>=3.9.14 in /usr/local/lib/python3.11/dist-packages (from langsmith<0.4,>=0.1.125->langchain-community==0.3.20) (3.10.15)\n",
            "Requirement already satisfied: requests-toolbelt<2.0.0,>=1.0.0 in /usr/local/lib/python3.11/dist-packages (from langsmith<0.4,>=0.1.125->langchain-community==0.3.20) (1.0.0)\n",
            "Requirement already satisfied: zstandard<0.24.0,>=0.23.0 in /usr/local/lib/python3.11/dist-packages (from langsmith<0.4,>=0.1.125->langchain-community==0.3.20) (0.23.0)\n",
            "Collecting python-dotenv>=0.21.0 (from pydantic-settings<3.0.0,>=2.4.0->langchain-community==0.3.20)\n",
            "  Downloading python_dotenv-1.1.0-py3-none-any.whl.metadata (24 kB)\n",
            "Requirement already satisfied: charset-normalizer<4,>=2 in /usr/local/lib/python3.11/dist-packages (from requests<3,>=2->langchain-community==0.3.20) (3.4.1)\n",
            "Requirement already satisfied: idna<4,>=2.5 in /usr/local/lib/python3.11/dist-packages (from requests<3,>=2->langchain-community==0.3.20) (3.10)\n",
            "Requirement already satisfied: urllib3<3,>=1.21.1 in /usr/local/lib/python3.11/dist-packages (from requests<3,>=2->langchain-community==0.3.20) (2.3.0)\n",
            "Requirement already satisfied: certifi>=2017.4.17 in /usr/local/lib/python3.11/dist-packages (from requests<3,>=2->langchain-community==0.3.20) (2025.1.31)\n",
            "Requirement already satisfied: greenlet!=0.4.17 in /usr/local/lib/python3.11/dist-packages (from SQLAlchemy<3,>=1.4->langchain-community==0.3.20) (3.1.1)\n",
            "Requirement already satisfied: anyio in /usr/local/lib/python3.11/dist-packages (from httpx<1,>=0.23.0->langsmith<0.4,>=0.1.125->langchain-community==0.3.20) (4.9.0)\n",
            "Requirement already satisfied: httpcore==1.* in /usr/local/lib/python3.11/dist-packages (from httpx<1,>=0.23.0->langsmith<0.4,>=0.1.125->langchain-community==0.3.20) (1.0.7)\n",
            "Requirement already satisfied: h11<0.15,>=0.13 in /usr/local/lib/python3.11/dist-packages (from httpcore==1.*->httpx<1,>=0.23.0->langsmith<0.4,>=0.1.125->langchain-community==0.3.20) (0.14.0)\n",
            "Requirement already satisfied: jsonpointer>=1.9 in /usr/local/lib/python3.11/dist-packages (from jsonpatch<2.0,>=1.33->langchain-core<1.0.0,>=0.3.45->langchain-community==0.3.20) (3.0.0)\n",
            "Requirement already satisfied: annotated-types>=0.6.0 in /usr/local/lib/python3.11/dist-packages (from pydantic<3.0.0,>=2.7.4->langchain<1.0.0,>=0.3.21->langchain-community==0.3.20) (0.7.0)\n",
            "Requirement already satisfied: pydantic-core==2.27.2 in /usr/local/lib/python3.11/dist-packages (from pydantic<3.0.0,>=2.7.4->langchain<1.0.0,>=0.3.21->langchain-community==0.3.20) (2.27.2)\n",
            "Collecting mypy-extensions>=0.3.0 (from typing-inspect<1,>=0.4.0->dataclasses-json<0.7,>=0.5.7->langchain-community==0.3.20)\n",
            "  Downloading mypy_extensions-1.0.0-py3-none-any.whl.metadata (1.1 kB)\n",
            "Requirement already satisfied: sniffio>=1.1 in /usr/local/lib/python3.11/dist-packages (from anyio->httpx<1,>=0.23.0->langsmith<0.4,>=0.1.125->langchain-community==0.3.20) (1.3.1)\n",
            "Downloading langchain_community-0.3.20-py3-none-any.whl (2.5 MB)\n",
            "\u001b[2K   \u001b[90m━━━━━━━━━━━━━━━━━━━━━━━━━━━━━━━━━━━━━━━━\u001b[0m \u001b[32m2.5/2.5 MB\u001b[0m \u001b[31m46.7 MB/s\u001b[0m eta \u001b[36m0:00:00\u001b[0m\n",
            "\u001b[?25hDownloading dataclasses_json-0.6.7-py3-none-any.whl (28 kB)\n",
            "Downloading httpx_sse-0.4.0-py3-none-any.whl (7.8 kB)\n",
            "Downloading langchain-0.3.21-py3-none-any.whl (1.0 MB)\n",
            "\u001b[2K   \u001b[90m━━━━━━━━━━━━━━━━━━━━━━━━━━━━━━━━━━━━━━━━\u001b[0m \u001b[32m1.0/1.0 MB\u001b[0m \u001b[31m72.0 MB/s\u001b[0m eta \u001b[36m0:00:00\u001b[0m\n",
            "\u001b[?25hDownloading pydantic_settings-2.8.1-py3-none-any.whl (30 kB)\n",
            "Downloading marshmallow-3.26.1-py3-none-any.whl (50 kB)\n",
            "\u001b[2K   \u001b[90m━━━━━━━━━━━━━━━━━━━━━━━━━━━━━━━━━━━━━━━━\u001b[0m \u001b[32m50.9/50.9 kB\u001b[0m \u001b[31m4.1 MB/s\u001b[0m eta \u001b[36m0:00:00\u001b[0m\n",
            "\u001b[?25hDownloading python_dotenv-1.1.0-py3-none-any.whl (20 kB)\n",
            "Downloading typing_inspect-0.9.0-py3-none-any.whl (8.8 kB)\n",
            "Downloading mypy_extensions-1.0.0-py3-none-any.whl (4.7 kB)\n",
            "Installing collected packages: python-dotenv, mypy-extensions, marshmallow, httpx-sse, typing-inspect, pydantic-settings, dataclasses-json, langchain, langchain-community\n",
            "  Attempting uninstall: langchain\n",
            "    Found existing installation: langchain 0.3.20\n",
            "    Uninstalling langchain-0.3.20:\n",
            "      Successfully uninstalled langchain-0.3.20\n",
            "Successfully installed dataclasses-json-0.6.7 httpx-sse-0.4.0 langchain-0.3.21 langchain-community-0.3.20 marshmallow-3.26.1 mypy-extensions-1.0.0 pydantic-settings-2.8.1 python-dotenv-1.1.0 typing-inspect-0.9.0\n",
            "Collecting langgraph==0.3.18\n",
            "  Downloading langgraph-0.3.18-py3-none-any.whl.metadata (7.5 kB)\n",
            "Requirement already satisfied: langchain-core<0.4,>=0.1 in /usr/local/lib/python3.11/dist-packages (from langgraph==0.3.18) (0.3.47)\n",
            "Collecting langgraph-checkpoint<3.0.0,>=2.0.10 (from langgraph==0.3.18)\n",
            "  Downloading langgraph_checkpoint-2.0.23-py3-none-any.whl.metadata (4.6 kB)\n",
            "Collecting langgraph-prebuilt<0.2,>=0.1.1 (from langgraph==0.3.18)\n",
            "  Downloading langgraph_prebuilt-0.1.7-py3-none-any.whl.metadata (5.0 kB)\n",
            "Collecting langgraph-sdk<0.2.0,>=0.1.42 (from langgraph==0.3.18)\n",
            "  Downloading langgraph_sdk-0.1.60-py3-none-any.whl.metadata (1.8 kB)\n",
            "Requirement already satisfied: langsmith<0.4,>=0.1.125 in /usr/local/lib/python3.11/dist-packages (from langchain-core<0.4,>=0.1->langgraph==0.3.18) (0.3.18)\n",
            "Requirement already satisfied: tenacity!=8.4.0,<10.0.0,>=8.1.0 in /usr/local/lib/python3.11/dist-packages (from langchain-core<0.4,>=0.1->langgraph==0.3.18) (9.0.0)\n",
            "Requirement already satisfied: jsonpatch<2.0,>=1.33 in /usr/local/lib/python3.11/dist-packages (from langchain-core<0.4,>=0.1->langgraph==0.3.18) (1.33)\n",
            "Requirement already satisfied: PyYAML>=5.3 in /usr/local/lib/python3.11/dist-packages (from langchain-core<0.4,>=0.1->langgraph==0.3.18) (6.0.2)\n",
            "Requirement already satisfied: packaging<25,>=23.2 in /usr/local/lib/python3.11/dist-packages (from langchain-core<0.4,>=0.1->langgraph==0.3.18) (24.2)\n",
            "Requirement already satisfied: typing-extensions>=4.7 in /usr/local/lib/python3.11/dist-packages (from langchain-core<0.4,>=0.1->langgraph==0.3.18) (4.12.2)\n",
            "Requirement already satisfied: pydantic<3.0.0,>=2.5.2 in /usr/local/lib/python3.11/dist-packages (from langchain-core<0.4,>=0.1->langgraph==0.3.18) (2.10.6)\n",
            "Collecting ormsgpack<2.0.0,>=1.8.0 (from langgraph-checkpoint<3.0.0,>=2.0.10->langgraph==0.3.18)\n",
            "  Downloading ormsgpack-1.9.1-cp311-cp311-manylinux_2_17_x86_64.manylinux2014_x86_64.whl.metadata (43 kB)\n",
            "\u001b[2K     \u001b[90m━━━━━━━━━━━━━━━━━━━━━━━━━━━━━━━━━━━━━━━━\u001b[0m \u001b[32m43.5/43.5 kB\u001b[0m \u001b[31m2.8 MB/s\u001b[0m eta \u001b[36m0:00:00\u001b[0m\n",
            "\u001b[?25hRequirement already satisfied: httpx>=0.25.2 in /usr/local/lib/python3.11/dist-packages (from langgraph-sdk<0.2.0,>=0.1.42->langgraph==0.3.18) (0.28.1)\n",
            "Requirement already satisfied: orjson>=3.10.1 in /usr/local/lib/python3.11/dist-packages (from langgraph-sdk<0.2.0,>=0.1.42->langgraph==0.3.18) (3.10.15)\n",
            "Requirement already satisfied: anyio in /usr/local/lib/python3.11/dist-packages (from httpx>=0.25.2->langgraph-sdk<0.2.0,>=0.1.42->langgraph==0.3.18) (4.9.0)\n",
            "Requirement already satisfied: certifi in /usr/local/lib/python3.11/dist-packages (from httpx>=0.25.2->langgraph-sdk<0.2.0,>=0.1.42->langgraph==0.3.18) (2025.1.31)\n",
            "Requirement already satisfied: httpcore==1.* in /usr/local/lib/python3.11/dist-packages (from httpx>=0.25.2->langgraph-sdk<0.2.0,>=0.1.42->langgraph==0.3.18) (1.0.7)\n",
            "Requirement already satisfied: idna in /usr/local/lib/python3.11/dist-packages (from httpx>=0.25.2->langgraph-sdk<0.2.0,>=0.1.42->langgraph==0.3.18) (3.10)\n",
            "Requirement already satisfied: h11<0.15,>=0.13 in /usr/local/lib/python3.11/dist-packages (from httpcore==1.*->httpx>=0.25.2->langgraph-sdk<0.2.0,>=0.1.42->langgraph==0.3.18) (0.14.0)\n",
            "Requirement already satisfied: jsonpointer>=1.9 in /usr/local/lib/python3.11/dist-packages (from jsonpatch<2.0,>=1.33->langchain-core<0.4,>=0.1->langgraph==0.3.18) (3.0.0)\n",
            "Requirement already satisfied: requests<3,>=2 in /usr/local/lib/python3.11/dist-packages (from langsmith<0.4,>=0.1.125->langchain-core<0.4,>=0.1->langgraph==0.3.18) (2.32.3)\n",
            "Requirement already satisfied: requests-toolbelt<2.0.0,>=1.0.0 in /usr/local/lib/python3.11/dist-packages (from langsmith<0.4,>=0.1.125->langchain-core<0.4,>=0.1->langgraph==0.3.18) (1.0.0)\n",
            "Requirement already satisfied: zstandard<0.24.0,>=0.23.0 in /usr/local/lib/python3.11/dist-packages (from langsmith<0.4,>=0.1.125->langchain-core<0.4,>=0.1->langgraph==0.3.18) (0.23.0)\n",
            "Requirement already satisfied: annotated-types>=0.6.0 in /usr/local/lib/python3.11/dist-packages (from pydantic<3.0.0,>=2.5.2->langchain-core<0.4,>=0.1->langgraph==0.3.18) (0.7.0)\n",
            "Requirement already satisfied: pydantic-core==2.27.2 in /usr/local/lib/python3.11/dist-packages (from pydantic<3.0.0,>=2.5.2->langchain-core<0.4,>=0.1->langgraph==0.3.18) (2.27.2)\n",
            "Requirement already satisfied: charset-normalizer<4,>=2 in /usr/local/lib/python3.11/dist-packages (from requests<3,>=2->langsmith<0.4,>=0.1.125->langchain-core<0.4,>=0.1->langgraph==0.3.18) (3.4.1)\n",
            "Requirement already satisfied: urllib3<3,>=1.21.1 in /usr/local/lib/python3.11/dist-packages (from requests<3,>=2->langsmith<0.4,>=0.1.125->langchain-core<0.4,>=0.1->langgraph==0.3.18) (2.3.0)\n",
            "Requirement already satisfied: sniffio>=1.1 in /usr/local/lib/python3.11/dist-packages (from anyio->httpx>=0.25.2->langgraph-sdk<0.2.0,>=0.1.42->langgraph==0.3.18) (1.3.1)\n",
            "Downloading langgraph-0.3.18-py3-none-any.whl (136 kB)\n",
            "\u001b[2K   \u001b[90m━━━━━━━━━━━━━━━━━━━━━━━━━━━━━━━━━━━━━━━━\u001b[0m \u001b[32m136.5/136.5 kB\u001b[0m \u001b[31m9.2 MB/s\u001b[0m eta \u001b[36m0:00:00\u001b[0m\n",
            "\u001b[?25hDownloading langgraph_checkpoint-2.0.23-py3-none-any.whl (41 kB)\n",
            "\u001b[2K   \u001b[90m━━━━━━━━━━━━━━━━━━━━━━━━━━━━━━━━━━━━━━━━\u001b[0m \u001b[32m41.9/41.9 kB\u001b[0m \u001b[31m4.1 MB/s\u001b[0m eta \u001b[36m0:00:00\u001b[0m\n",
            "\u001b[?25hDownloading langgraph_prebuilt-0.1.7-py3-none-any.whl (25 kB)\n",
            "Downloading langgraph_sdk-0.1.60-py3-none-any.whl (47 kB)\n",
            "\u001b[2K   \u001b[90m━━━━━━━━━━━━━━━━━━━━━━━━━━━━━━━━━━━━━━━━\u001b[0m \u001b[32m47.1/47.1 kB\u001b[0m \u001b[31m4.7 MB/s\u001b[0m eta \u001b[36m0:00:00\u001b[0m\n",
            "\u001b[?25hDownloading ormsgpack-1.9.1-cp311-cp311-manylinux_2_17_x86_64.manylinux2014_x86_64.whl (223 kB)\n",
            "\u001b[2K   \u001b[90m━━━━━━━━━━━━━━━━━━━━━━━━━━━━━━━━━━━━━━━━\u001b[0m \u001b[32m223.6/223.6 kB\u001b[0m \u001b[31m12.9 MB/s\u001b[0m eta \u001b[36m0:00:00\u001b[0m\n",
            "\u001b[?25hInstalling collected packages: ormsgpack, langgraph-sdk, langgraph-checkpoint, langgraph-prebuilt, langgraph\n",
            "Successfully installed langgraph-0.3.18 langgraph-checkpoint-2.0.23 langgraph-prebuilt-0.1.7 langgraph-sdk-0.1.60 ormsgpack-1.9.1\n",
            "Collecting langchain-tavily==0.1.5\n",
            "  Downloading langchain_tavily-0.1.5-py3-none-any.whl.metadata (11 kB)\n",
            "Requirement already satisfied: aiohttp<4.0.0,>=3.11.14 in /usr/local/lib/python3.11/dist-packages (from langchain-tavily==0.1.5) (3.11.14)\n",
            "Requirement already satisfied: langchain<0.4.0,>=0.3.20 in /usr/local/lib/python3.11/dist-packages (from langchain-tavily==0.1.5) (0.3.21)\n",
            "Requirement already satisfied: langchain-core<0.4.0,>=0.3.15 in /usr/local/lib/python3.11/dist-packages (from langchain-tavily==0.1.5) (0.3.47)\n",
            "Collecting mypy<2.0.0,>=1.15.0 (from langchain-tavily==0.1.5)\n",
            "  Downloading mypy-1.15.0-cp311-cp311-manylinux_2_17_x86_64.manylinux2014_x86_64.manylinux_2_28_x86_64.whl.metadata (2.1 kB)\n",
            "Requirement already satisfied: aiohappyeyeballs>=2.3.0 in /usr/local/lib/python3.11/dist-packages (from aiohttp<4.0.0,>=3.11.14->langchain-tavily==0.1.5) (2.6.1)\n",
            "Requirement already satisfied: aiosignal>=1.1.2 in /usr/local/lib/python3.11/dist-packages (from aiohttp<4.0.0,>=3.11.14->langchain-tavily==0.1.5) (1.3.2)\n",
            "Requirement already satisfied: attrs>=17.3.0 in /usr/local/lib/python3.11/dist-packages (from aiohttp<4.0.0,>=3.11.14->langchain-tavily==0.1.5) (25.3.0)\n",
            "Requirement already satisfied: frozenlist>=1.1.1 in /usr/local/lib/python3.11/dist-packages (from aiohttp<4.0.0,>=3.11.14->langchain-tavily==0.1.5) (1.5.0)\n",
            "Requirement already satisfied: multidict<7.0,>=4.5 in /usr/local/lib/python3.11/dist-packages (from aiohttp<4.0.0,>=3.11.14->langchain-tavily==0.1.5) (6.2.0)\n",
            "Requirement already satisfied: propcache>=0.2.0 in /usr/local/lib/python3.11/dist-packages (from aiohttp<4.0.0,>=3.11.14->langchain-tavily==0.1.5) (0.3.0)\n",
            "Requirement already satisfied: yarl<2.0,>=1.17.0 in /usr/local/lib/python3.11/dist-packages (from aiohttp<4.0.0,>=3.11.14->langchain-tavily==0.1.5) (1.18.3)\n",
            "Requirement already satisfied: langchain-text-splitters<1.0.0,>=0.3.7 in /usr/local/lib/python3.11/dist-packages (from langchain<0.4.0,>=0.3.20->langchain-tavily==0.1.5) (0.3.7)\n",
            "Requirement already satisfied: langsmith<0.4,>=0.1.17 in /usr/local/lib/python3.11/dist-packages (from langchain<0.4.0,>=0.3.20->langchain-tavily==0.1.5) (0.3.18)\n",
            "Requirement already satisfied: pydantic<3.0.0,>=2.7.4 in /usr/local/lib/python3.11/dist-packages (from langchain<0.4.0,>=0.3.20->langchain-tavily==0.1.5) (2.10.6)\n",
            "Requirement already satisfied: SQLAlchemy<3,>=1.4 in /usr/local/lib/python3.11/dist-packages (from langchain<0.4.0,>=0.3.20->langchain-tavily==0.1.5) (2.0.39)\n",
            "Requirement already satisfied: requests<3,>=2 in /usr/local/lib/python3.11/dist-packages (from langchain<0.4.0,>=0.3.20->langchain-tavily==0.1.5) (2.32.3)\n",
            "Requirement already satisfied: PyYAML>=5.3 in /usr/local/lib/python3.11/dist-packages (from langchain<0.4.0,>=0.3.20->langchain-tavily==0.1.5) (6.0.2)\n",
            "Requirement already satisfied: tenacity!=8.4.0,<10.0.0,>=8.1.0 in /usr/local/lib/python3.11/dist-packages (from langchain-core<0.4.0,>=0.3.15->langchain-tavily==0.1.5) (9.0.0)\n",
            "Requirement already satisfied: jsonpatch<2.0,>=1.33 in /usr/local/lib/python3.11/dist-packages (from langchain-core<0.4.0,>=0.3.15->langchain-tavily==0.1.5) (1.33)\n",
            "Requirement already satisfied: packaging<25,>=23.2 in /usr/local/lib/python3.11/dist-packages (from langchain-core<0.4.0,>=0.3.15->langchain-tavily==0.1.5) (24.2)\n",
            "Requirement already satisfied: typing-extensions>=4.7 in /usr/local/lib/python3.11/dist-packages (from langchain-core<0.4.0,>=0.3.15->langchain-tavily==0.1.5) (4.12.2)\n",
            "Requirement already satisfied: mypy_extensions>=1.0.0 in /usr/local/lib/python3.11/dist-packages (from mypy<2.0.0,>=1.15.0->langchain-tavily==0.1.5) (1.0.0)\n",
            "Requirement already satisfied: jsonpointer>=1.9 in /usr/local/lib/python3.11/dist-packages (from jsonpatch<2.0,>=1.33->langchain-core<0.4.0,>=0.3.15->langchain-tavily==0.1.5) (3.0.0)\n",
            "Requirement already satisfied: httpx<1,>=0.23.0 in /usr/local/lib/python3.11/dist-packages (from langsmith<0.4,>=0.1.17->langchain<0.4.0,>=0.3.20->langchain-tavily==0.1.5) (0.28.1)\n",
            "Requirement already satisfied: orjson<4.0.0,>=3.9.14 in /usr/local/lib/python3.11/dist-packages (from langsmith<0.4,>=0.1.17->langchain<0.4.0,>=0.3.20->langchain-tavily==0.1.5) (3.10.15)\n",
            "Requirement already satisfied: requests-toolbelt<2.0.0,>=1.0.0 in /usr/local/lib/python3.11/dist-packages (from langsmith<0.4,>=0.1.17->langchain<0.4.0,>=0.3.20->langchain-tavily==0.1.5) (1.0.0)\n",
            "Requirement already satisfied: zstandard<0.24.0,>=0.23.0 in /usr/local/lib/python3.11/dist-packages (from langsmith<0.4,>=0.1.17->langchain<0.4.0,>=0.3.20->langchain-tavily==0.1.5) (0.23.0)\n",
            "Requirement already satisfied: annotated-types>=0.6.0 in /usr/local/lib/python3.11/dist-packages (from pydantic<3.0.0,>=2.7.4->langchain<0.4.0,>=0.3.20->langchain-tavily==0.1.5) (0.7.0)\n",
            "Requirement already satisfied: pydantic-core==2.27.2 in /usr/local/lib/python3.11/dist-packages (from pydantic<3.0.0,>=2.7.4->langchain<0.4.0,>=0.3.20->langchain-tavily==0.1.5) (2.27.2)\n",
            "Requirement already satisfied: charset-normalizer<4,>=2 in /usr/local/lib/python3.11/dist-packages (from requests<3,>=2->langchain<0.4.0,>=0.3.20->langchain-tavily==0.1.5) (3.4.1)\n",
            "Requirement already satisfied: idna<4,>=2.5 in /usr/local/lib/python3.11/dist-packages (from requests<3,>=2->langchain<0.4.0,>=0.3.20->langchain-tavily==0.1.5) (3.10)\n",
            "Requirement already satisfied: urllib3<3,>=1.21.1 in /usr/local/lib/python3.11/dist-packages (from requests<3,>=2->langchain<0.4.0,>=0.3.20->langchain-tavily==0.1.5) (2.3.0)\n",
            "Requirement already satisfied: certifi>=2017.4.17 in /usr/local/lib/python3.11/dist-packages (from requests<3,>=2->langchain<0.4.0,>=0.3.20->langchain-tavily==0.1.5) (2025.1.31)\n",
            "Requirement already satisfied: greenlet!=0.4.17 in /usr/local/lib/python3.11/dist-packages (from SQLAlchemy<3,>=1.4->langchain<0.4.0,>=0.3.20->langchain-tavily==0.1.5) (3.1.1)\n",
            "Requirement already satisfied: anyio in /usr/local/lib/python3.11/dist-packages (from httpx<1,>=0.23.0->langsmith<0.4,>=0.1.17->langchain<0.4.0,>=0.3.20->langchain-tavily==0.1.5) (4.9.0)\n",
            "Requirement already satisfied: httpcore==1.* in /usr/local/lib/python3.11/dist-packages (from httpx<1,>=0.23.0->langsmith<0.4,>=0.1.17->langchain<0.4.0,>=0.3.20->langchain-tavily==0.1.5) (1.0.7)\n",
            "Requirement already satisfied: h11<0.15,>=0.13 in /usr/local/lib/python3.11/dist-packages (from httpcore==1.*->httpx<1,>=0.23.0->langsmith<0.4,>=0.1.17->langchain<0.4.0,>=0.3.20->langchain-tavily==0.1.5) (0.14.0)\n",
            "Requirement already satisfied: sniffio>=1.1 in /usr/local/lib/python3.11/dist-packages (from anyio->httpx<1,>=0.23.0->langsmith<0.4,>=0.1.17->langchain<0.4.0,>=0.3.20->langchain-tavily==0.1.5) (1.3.1)\n",
            "Downloading langchain_tavily-0.1.5-py3-none-any.whl (14 kB)\n",
            "Downloading mypy-1.15.0-cp311-cp311-manylinux_2_17_x86_64.manylinux2014_x86_64.manylinux_2_28_x86_64.whl (12.3 MB)\n",
            "\u001b[2K   \u001b[90m━━━━━━━━━━━━━━━━━━━━━━━━━━━━━━━━━━━━━━━━\u001b[0m \u001b[32m12.3/12.3 MB\u001b[0m \u001b[31m127.0 MB/s\u001b[0m eta \u001b[36m0:00:00\u001b[0m\n",
            "\u001b[?25hInstalling collected packages: mypy, langchain-tavily\n",
            "Successfully installed langchain-tavily-0.1.5 mypy-1.15.0\n"
          ]
        }
      ],
      "source": [
        "!pip install langchain==0.3.20\n",
        "!pip install langchain-openai==0.3.9\n",
        "!pip install langchain-community==0.3.20\n",
        "!pip install langgraph==0.3.18\n",
        "!pip install langchain-tavily==0.1.5"
      ]
    },
    {
      "cell_type": "markdown",
      "source": [
        "## Install PyMuPDF for loading PDF documents"
      ],
      "metadata": {
        "id": "s38ofVuySJCr"
      }
    },
    {
      "cell_type": "code",
      "source": [
        "!pip install pymupdf==1.25.4"
      ],
      "metadata": {
        "colab": {
          "base_uri": "https://localhost:8080/"
        },
        "id": "7HIvpdTHSovm",
        "outputId": "888e80f4-9d20-42fd-bc63-327e2bf81dca"
      },
      "execution_count": 2,
      "outputs": [
        {
          "output_type": "stream",
          "name": "stdout",
          "text": [
            "Collecting pymupdf==1.25.4\n",
            "  Downloading pymupdf-1.25.4-cp39-abi3-manylinux2014_x86_64.manylinux_2_17_x86_64.whl.metadata (3.4 kB)\n",
            "Downloading pymupdf-1.25.4-cp39-abi3-manylinux2014_x86_64.manylinux_2_17_x86_64.whl (20.0 MB)\n",
            "\u001b[2K   \u001b[90m━━━━━━━━━━━━━━━━━━━━━━━━━━━━━━━━━━━━━━━━\u001b[0m \u001b[32m20.0/20.0 MB\u001b[0m \u001b[31m43.2 MB/s\u001b[0m eta \u001b[36m0:00:00\u001b[0m\n",
            "\u001b[?25hInstalling collected packages: pymupdf\n",
            "Successfully installed pymupdf-1.25.4\n"
          ]
        }
      ]
    },
    {
      "cell_type": "markdown",
      "source": [
        "## Install ChromaDB LangChain Wrapper for Vector DB"
      ],
      "metadata": {
        "id": "hCu8VZzeSN5A"
      }
    },
    {
      "cell_type": "code",
      "source": [
        "!pip install langchain-chroma==0.2.2"
      ],
      "metadata": {
        "colab": {
          "base_uri": "https://localhost:8080/"
        },
        "id": "-igNmKAdSphZ",
        "outputId": "714d7514-add6-4233-841f-48befe5486b6"
      },
      "execution_count": 3,
      "outputs": [
        {
          "output_type": "stream",
          "name": "stdout",
          "text": [
            "Collecting langchain-chroma==0.2.2\n",
            "  Downloading langchain_chroma-0.2.2-py3-none-any.whl.metadata (1.3 kB)\n",
            "Requirement already satisfied: langchain-core!=0.3.0,!=0.3.1,!=0.3.10,!=0.3.11,!=0.3.12,!=0.3.13,!=0.3.14,!=0.3.2,!=0.3.3,!=0.3.4,!=0.3.5,!=0.3.6,!=0.3.7,!=0.3.8,!=0.3.9,<0.4.0,>=0.2.43 in /usr/local/lib/python3.11/dist-packages (from langchain-chroma==0.2.2) (0.3.47)\n",
            "Collecting numpy<2.0.0,>=1.22.4 (from langchain-chroma==0.2.2)\n",
            "  Downloading numpy-1.26.4-cp311-cp311-manylinux_2_17_x86_64.manylinux2014_x86_64.whl.metadata (61 kB)\n",
            "\u001b[2K     \u001b[90m━━━━━━━━━━━━━━━━━━━━━━━━━━━━━━━━━━━━━━━━\u001b[0m \u001b[32m61.0/61.0 kB\u001b[0m \u001b[31m367.8 kB/s\u001b[0m eta \u001b[36m0:00:00\u001b[0m\n",
            "\u001b[?25hCollecting chromadb!=0.5.10,!=0.5.11,!=0.5.12,!=0.5.4,!=0.5.5,!=0.5.7,!=0.5.9,<0.7.0,>=0.4.0 (from langchain-chroma==0.2.2)\n",
            "  Downloading chromadb-0.6.3-py3-none-any.whl.metadata (6.8 kB)\n",
            "Collecting build>=1.0.3 (from chromadb!=0.5.10,!=0.5.11,!=0.5.12,!=0.5.4,!=0.5.5,!=0.5.7,!=0.5.9,<0.7.0,>=0.4.0->langchain-chroma==0.2.2)\n",
            "  Downloading build-1.2.2.post1-py3-none-any.whl.metadata (6.5 kB)\n",
            "Requirement already satisfied: pydantic>=1.9 in /usr/local/lib/python3.11/dist-packages (from chromadb!=0.5.10,!=0.5.11,!=0.5.12,!=0.5.4,!=0.5.5,!=0.5.7,!=0.5.9,<0.7.0,>=0.4.0->langchain-chroma==0.2.2) (2.10.6)\n",
            "Collecting chroma-hnswlib==0.7.6 (from chromadb!=0.5.10,!=0.5.11,!=0.5.12,!=0.5.4,!=0.5.5,!=0.5.7,!=0.5.9,<0.7.0,>=0.4.0->langchain-chroma==0.2.2)\n",
            "  Downloading chroma_hnswlib-0.7.6-cp311-cp311-manylinux_2_17_x86_64.manylinux2014_x86_64.whl.metadata (252 bytes)\n",
            "Collecting fastapi>=0.95.2 (from chromadb!=0.5.10,!=0.5.11,!=0.5.12,!=0.5.4,!=0.5.5,!=0.5.7,!=0.5.9,<0.7.0,>=0.4.0->langchain-chroma==0.2.2)\n",
            "  Downloading fastapi-0.115.12-py3-none-any.whl.metadata (27 kB)\n",
            "Collecting uvicorn>=0.18.3 (from uvicorn[standard]>=0.18.3->chromadb!=0.5.10,!=0.5.11,!=0.5.12,!=0.5.4,!=0.5.5,!=0.5.7,!=0.5.9,<0.7.0,>=0.4.0->langchain-chroma==0.2.2)\n",
            "  Downloading uvicorn-0.34.0-py3-none-any.whl.metadata (6.5 kB)\n",
            "Collecting posthog>=2.4.0 (from chromadb!=0.5.10,!=0.5.11,!=0.5.12,!=0.5.4,!=0.5.5,!=0.5.7,!=0.5.9,<0.7.0,>=0.4.0->langchain-chroma==0.2.2)\n",
            "  Downloading posthog-3.23.0-py2.py3-none-any.whl.metadata (3.0 kB)\n",
            "Requirement already satisfied: typing_extensions>=4.5.0 in /usr/local/lib/python3.11/dist-packages (from chromadb!=0.5.10,!=0.5.11,!=0.5.12,!=0.5.4,!=0.5.5,!=0.5.7,!=0.5.9,<0.7.0,>=0.4.0->langchain-chroma==0.2.2) (4.12.2)\n",
            "Collecting onnxruntime>=1.14.1 (from chromadb!=0.5.10,!=0.5.11,!=0.5.12,!=0.5.4,!=0.5.5,!=0.5.7,!=0.5.9,<0.7.0,>=0.4.0->langchain-chroma==0.2.2)\n",
            "  Downloading onnxruntime-1.21.0-cp311-cp311-manylinux_2_27_x86_64.manylinux_2_28_x86_64.whl.metadata (4.5 kB)\n",
            "Requirement already satisfied: opentelemetry-api>=1.2.0 in /usr/local/lib/python3.11/dist-packages (from chromadb!=0.5.10,!=0.5.11,!=0.5.12,!=0.5.4,!=0.5.5,!=0.5.7,!=0.5.9,<0.7.0,>=0.4.0->langchain-chroma==0.2.2) (1.31.1)\n",
            "Collecting opentelemetry-exporter-otlp-proto-grpc>=1.2.0 (from chromadb!=0.5.10,!=0.5.11,!=0.5.12,!=0.5.4,!=0.5.5,!=0.5.7,!=0.5.9,<0.7.0,>=0.4.0->langchain-chroma==0.2.2)\n",
            "  Downloading opentelemetry_exporter_otlp_proto_grpc-1.31.1-py3-none-any.whl.metadata (2.5 kB)\n",
            "Collecting opentelemetry-instrumentation-fastapi>=0.41b0 (from chromadb!=0.5.10,!=0.5.11,!=0.5.12,!=0.5.4,!=0.5.5,!=0.5.7,!=0.5.9,<0.7.0,>=0.4.0->langchain-chroma==0.2.2)\n",
            "  Downloading opentelemetry_instrumentation_fastapi-0.52b1-py3-none-any.whl.metadata (2.2 kB)\n",
            "Requirement already satisfied: opentelemetry-sdk>=1.2.0 in /usr/local/lib/python3.11/dist-packages (from chromadb!=0.5.10,!=0.5.11,!=0.5.12,!=0.5.4,!=0.5.5,!=0.5.7,!=0.5.9,<0.7.0,>=0.4.0->langchain-chroma==0.2.2) (1.31.1)\n",
            "Requirement already satisfied: tokenizers>=0.13.2 in /usr/local/lib/python3.11/dist-packages (from chromadb!=0.5.10,!=0.5.11,!=0.5.12,!=0.5.4,!=0.5.5,!=0.5.7,!=0.5.9,<0.7.0,>=0.4.0->langchain-chroma==0.2.2) (0.21.1)\n",
            "Collecting pypika>=0.48.9 (from chromadb!=0.5.10,!=0.5.11,!=0.5.12,!=0.5.4,!=0.5.5,!=0.5.7,!=0.5.9,<0.7.0,>=0.4.0->langchain-chroma==0.2.2)\n",
            "  Downloading PyPika-0.48.9.tar.gz (67 kB)\n",
            "\u001b[2K     \u001b[90m━━━━━━━━━━━━━━━━━━━━━━━━━━━━━━━━━━━━━━━━\u001b[0m \u001b[32m67.3/67.3 kB\u001b[0m \u001b[31m5.4 MB/s\u001b[0m eta \u001b[36m0:00:00\u001b[0m\n",
            "\u001b[?25h  Installing build dependencies ... \u001b[?25l\u001b[?25hdone\n",
            "  Getting requirements to build wheel ... \u001b[?25l\u001b[?25hdone\n",
            "  Preparing metadata (pyproject.toml) ... \u001b[?25l\u001b[?25hdone\n",
            "Requirement already satisfied: tqdm>=4.65.0 in /usr/local/lib/python3.11/dist-packages (from chromadb!=0.5.10,!=0.5.11,!=0.5.12,!=0.5.4,!=0.5.5,!=0.5.7,!=0.5.9,<0.7.0,>=0.4.0->langchain-chroma==0.2.2) (4.67.1)\n",
            "Collecting overrides>=7.3.1 (from chromadb!=0.5.10,!=0.5.11,!=0.5.12,!=0.5.4,!=0.5.5,!=0.5.7,!=0.5.9,<0.7.0,>=0.4.0->langchain-chroma==0.2.2)\n",
            "  Downloading overrides-7.7.0-py3-none-any.whl.metadata (5.8 kB)\n",
            "Requirement already satisfied: importlib-resources in /usr/local/lib/python3.11/dist-packages (from chromadb!=0.5.10,!=0.5.11,!=0.5.12,!=0.5.4,!=0.5.5,!=0.5.7,!=0.5.9,<0.7.0,>=0.4.0->langchain-chroma==0.2.2) (6.5.2)\n",
            "Requirement already satisfied: grpcio>=1.58.0 in /usr/local/lib/python3.11/dist-packages (from chromadb!=0.5.10,!=0.5.11,!=0.5.12,!=0.5.4,!=0.5.5,!=0.5.7,!=0.5.9,<0.7.0,>=0.4.0->langchain-chroma==0.2.2) (1.71.0)\n",
            "Collecting bcrypt>=4.0.1 (from chromadb!=0.5.10,!=0.5.11,!=0.5.12,!=0.5.4,!=0.5.5,!=0.5.7,!=0.5.9,<0.7.0,>=0.4.0->langchain-chroma==0.2.2)\n",
            "  Downloading bcrypt-4.3.0-cp39-abi3-manylinux_2_34_x86_64.whl.metadata (10 kB)\n",
            "Requirement already satisfied: typer>=0.9.0 in /usr/local/lib/python3.11/dist-packages (from chromadb!=0.5.10,!=0.5.11,!=0.5.12,!=0.5.4,!=0.5.5,!=0.5.7,!=0.5.9,<0.7.0,>=0.4.0->langchain-chroma==0.2.2) (0.15.2)\n",
            "Collecting kubernetes>=28.1.0 (from chromadb!=0.5.10,!=0.5.11,!=0.5.12,!=0.5.4,!=0.5.5,!=0.5.7,!=0.5.9,<0.7.0,>=0.4.0->langchain-chroma==0.2.2)\n",
            "  Downloading kubernetes-32.0.1-py2.py3-none-any.whl.metadata (1.7 kB)\n",
            "Requirement already satisfied: tenacity>=8.2.3 in /usr/local/lib/python3.11/dist-packages (from chromadb!=0.5.10,!=0.5.11,!=0.5.12,!=0.5.4,!=0.5.5,!=0.5.7,!=0.5.9,<0.7.0,>=0.4.0->langchain-chroma==0.2.2) (9.0.0)\n",
            "Requirement already satisfied: PyYAML>=6.0.0 in /usr/local/lib/python3.11/dist-packages (from chromadb!=0.5.10,!=0.5.11,!=0.5.12,!=0.5.4,!=0.5.5,!=0.5.7,!=0.5.9,<0.7.0,>=0.4.0->langchain-chroma==0.2.2) (6.0.2)\n",
            "Collecting mmh3>=4.0.1 (from chromadb!=0.5.10,!=0.5.11,!=0.5.12,!=0.5.4,!=0.5.5,!=0.5.7,!=0.5.9,<0.7.0,>=0.4.0->langchain-chroma==0.2.2)\n",
            "  Downloading mmh3-5.1.0-cp311-cp311-manylinux_2_5_x86_64.manylinux1_x86_64.manylinux_2_17_x86_64.manylinux2014_x86_64.whl.metadata (16 kB)\n",
            "Requirement already satisfied: orjson>=3.9.12 in /usr/local/lib/python3.11/dist-packages (from chromadb!=0.5.10,!=0.5.11,!=0.5.12,!=0.5.4,!=0.5.5,!=0.5.7,!=0.5.9,<0.7.0,>=0.4.0->langchain-chroma==0.2.2) (3.10.15)\n",
            "Requirement already satisfied: httpx>=0.27.0 in /usr/local/lib/python3.11/dist-packages (from chromadb!=0.5.10,!=0.5.11,!=0.5.12,!=0.5.4,!=0.5.5,!=0.5.7,!=0.5.9,<0.7.0,>=0.4.0->langchain-chroma==0.2.2) (0.28.1)\n",
            "Requirement already satisfied: rich>=10.11.0 in /usr/local/lib/python3.11/dist-packages (from chromadb!=0.5.10,!=0.5.11,!=0.5.12,!=0.5.4,!=0.5.5,!=0.5.7,!=0.5.9,<0.7.0,>=0.4.0->langchain-chroma==0.2.2) (13.9.4)\n",
            "Requirement already satisfied: langsmith<0.4,>=0.1.125 in /usr/local/lib/python3.11/dist-packages (from langchain-core!=0.3.0,!=0.3.1,!=0.3.10,!=0.3.11,!=0.3.12,!=0.3.13,!=0.3.14,!=0.3.2,!=0.3.3,!=0.3.4,!=0.3.5,!=0.3.6,!=0.3.7,!=0.3.8,!=0.3.9,<0.4.0,>=0.2.43->langchain-chroma==0.2.2) (0.3.18)\n",
            "Requirement already satisfied: jsonpatch<2.0,>=1.33 in /usr/local/lib/python3.11/dist-packages (from langchain-core!=0.3.0,!=0.3.1,!=0.3.10,!=0.3.11,!=0.3.12,!=0.3.13,!=0.3.14,!=0.3.2,!=0.3.3,!=0.3.4,!=0.3.5,!=0.3.6,!=0.3.7,!=0.3.8,!=0.3.9,<0.4.0,>=0.2.43->langchain-chroma==0.2.2) (1.33)\n",
            "Requirement already satisfied: packaging<25,>=23.2 in /usr/local/lib/python3.11/dist-packages (from langchain-core!=0.3.0,!=0.3.1,!=0.3.10,!=0.3.11,!=0.3.12,!=0.3.13,!=0.3.14,!=0.3.2,!=0.3.3,!=0.3.4,!=0.3.5,!=0.3.6,!=0.3.7,!=0.3.8,!=0.3.9,<0.4.0,>=0.2.43->langchain-chroma==0.2.2) (24.2)\n",
            "Collecting pyproject_hooks (from build>=1.0.3->chromadb!=0.5.10,!=0.5.11,!=0.5.12,!=0.5.4,!=0.5.5,!=0.5.7,!=0.5.9,<0.7.0,>=0.4.0->langchain-chroma==0.2.2)\n",
            "  Downloading pyproject_hooks-1.2.0-py3-none-any.whl.metadata (1.3 kB)\n",
            "Collecting starlette<0.47.0,>=0.40.0 (from fastapi>=0.95.2->chromadb!=0.5.10,!=0.5.11,!=0.5.12,!=0.5.4,!=0.5.5,!=0.5.7,!=0.5.9,<0.7.0,>=0.4.0->langchain-chroma==0.2.2)\n",
            "  Downloading starlette-0.46.1-py3-none-any.whl.metadata (6.2 kB)\n",
            "Requirement already satisfied: anyio in /usr/local/lib/python3.11/dist-packages (from httpx>=0.27.0->chromadb!=0.5.10,!=0.5.11,!=0.5.12,!=0.5.4,!=0.5.5,!=0.5.7,!=0.5.9,<0.7.0,>=0.4.0->langchain-chroma==0.2.2) (4.9.0)\n",
            "Requirement already satisfied: certifi in /usr/local/lib/python3.11/dist-packages (from httpx>=0.27.0->chromadb!=0.5.10,!=0.5.11,!=0.5.12,!=0.5.4,!=0.5.5,!=0.5.7,!=0.5.9,<0.7.0,>=0.4.0->langchain-chroma==0.2.2) (2025.1.31)\n",
            "Requirement already satisfied: httpcore==1.* in /usr/local/lib/python3.11/dist-packages (from httpx>=0.27.0->chromadb!=0.5.10,!=0.5.11,!=0.5.12,!=0.5.4,!=0.5.5,!=0.5.7,!=0.5.9,<0.7.0,>=0.4.0->langchain-chroma==0.2.2) (1.0.7)\n",
            "Requirement already satisfied: idna in /usr/local/lib/python3.11/dist-packages (from httpx>=0.27.0->chromadb!=0.5.10,!=0.5.11,!=0.5.12,!=0.5.4,!=0.5.5,!=0.5.7,!=0.5.9,<0.7.0,>=0.4.0->langchain-chroma==0.2.2) (3.10)\n",
            "Requirement already satisfied: h11<0.15,>=0.13 in /usr/local/lib/python3.11/dist-packages (from httpcore==1.*->httpx>=0.27.0->chromadb!=0.5.10,!=0.5.11,!=0.5.12,!=0.5.4,!=0.5.5,!=0.5.7,!=0.5.9,<0.7.0,>=0.4.0->langchain-chroma==0.2.2) (0.14.0)\n",
            "Requirement already satisfied: jsonpointer>=1.9 in /usr/local/lib/python3.11/dist-packages (from jsonpatch<2.0,>=1.33->langchain-core!=0.3.0,!=0.3.1,!=0.3.10,!=0.3.11,!=0.3.12,!=0.3.13,!=0.3.14,!=0.3.2,!=0.3.3,!=0.3.4,!=0.3.5,!=0.3.6,!=0.3.7,!=0.3.8,!=0.3.9,<0.4.0,>=0.2.43->langchain-chroma==0.2.2) (3.0.0)\n",
            "Requirement already satisfied: six>=1.9.0 in /usr/local/lib/python3.11/dist-packages (from kubernetes>=28.1.0->chromadb!=0.5.10,!=0.5.11,!=0.5.12,!=0.5.4,!=0.5.5,!=0.5.7,!=0.5.9,<0.7.0,>=0.4.0->langchain-chroma==0.2.2) (1.17.0)\n",
            "Requirement already satisfied: python-dateutil>=2.5.3 in /usr/local/lib/python3.11/dist-packages (from kubernetes>=28.1.0->chromadb!=0.5.10,!=0.5.11,!=0.5.12,!=0.5.4,!=0.5.5,!=0.5.7,!=0.5.9,<0.7.0,>=0.4.0->langchain-chroma==0.2.2) (2.8.2)\n",
            "Requirement already satisfied: google-auth>=1.0.1 in /usr/local/lib/python3.11/dist-packages (from kubernetes>=28.1.0->chromadb!=0.5.10,!=0.5.11,!=0.5.12,!=0.5.4,!=0.5.5,!=0.5.7,!=0.5.9,<0.7.0,>=0.4.0->langchain-chroma==0.2.2) (2.38.0)\n",
            "Requirement already satisfied: websocket-client!=0.40.0,!=0.41.*,!=0.42.*,>=0.32.0 in /usr/local/lib/python3.11/dist-packages (from kubernetes>=28.1.0->chromadb!=0.5.10,!=0.5.11,!=0.5.12,!=0.5.4,!=0.5.5,!=0.5.7,!=0.5.9,<0.7.0,>=0.4.0->langchain-chroma==0.2.2) (1.8.0)\n",
            "Requirement already satisfied: requests in /usr/local/lib/python3.11/dist-packages (from kubernetes>=28.1.0->chromadb!=0.5.10,!=0.5.11,!=0.5.12,!=0.5.4,!=0.5.5,!=0.5.7,!=0.5.9,<0.7.0,>=0.4.0->langchain-chroma==0.2.2) (2.32.3)\n",
            "Requirement already satisfied: requests-oauthlib in /usr/local/lib/python3.11/dist-packages (from kubernetes>=28.1.0->chromadb!=0.5.10,!=0.5.11,!=0.5.12,!=0.5.4,!=0.5.5,!=0.5.7,!=0.5.9,<0.7.0,>=0.4.0->langchain-chroma==0.2.2) (2.0.0)\n",
            "Requirement already satisfied: oauthlib>=3.2.2 in /usr/local/lib/python3.11/dist-packages (from kubernetes>=28.1.0->chromadb!=0.5.10,!=0.5.11,!=0.5.12,!=0.5.4,!=0.5.5,!=0.5.7,!=0.5.9,<0.7.0,>=0.4.0->langchain-chroma==0.2.2) (3.2.2)\n",
            "Requirement already satisfied: urllib3>=1.24.2 in /usr/local/lib/python3.11/dist-packages (from kubernetes>=28.1.0->chromadb!=0.5.10,!=0.5.11,!=0.5.12,!=0.5.4,!=0.5.5,!=0.5.7,!=0.5.9,<0.7.0,>=0.4.0->langchain-chroma==0.2.2) (2.3.0)\n",
            "Collecting durationpy>=0.7 (from kubernetes>=28.1.0->chromadb!=0.5.10,!=0.5.11,!=0.5.12,!=0.5.4,!=0.5.5,!=0.5.7,!=0.5.9,<0.7.0,>=0.4.0->langchain-chroma==0.2.2)\n",
            "  Downloading durationpy-0.9-py3-none-any.whl.metadata (338 bytes)\n",
            "Requirement already satisfied: requests-toolbelt<2.0.0,>=1.0.0 in /usr/local/lib/python3.11/dist-packages (from langsmith<0.4,>=0.1.125->langchain-core!=0.3.0,!=0.3.1,!=0.3.10,!=0.3.11,!=0.3.12,!=0.3.13,!=0.3.14,!=0.3.2,!=0.3.3,!=0.3.4,!=0.3.5,!=0.3.6,!=0.3.7,!=0.3.8,!=0.3.9,<0.4.0,>=0.2.43->langchain-chroma==0.2.2) (1.0.0)\n",
            "Requirement already satisfied: zstandard<0.24.0,>=0.23.0 in /usr/local/lib/python3.11/dist-packages (from langsmith<0.4,>=0.1.125->langchain-core!=0.3.0,!=0.3.1,!=0.3.10,!=0.3.11,!=0.3.12,!=0.3.13,!=0.3.14,!=0.3.2,!=0.3.3,!=0.3.4,!=0.3.5,!=0.3.6,!=0.3.7,!=0.3.8,!=0.3.9,<0.4.0,>=0.2.43->langchain-chroma==0.2.2) (0.23.0)\n",
            "Collecting coloredlogs (from onnxruntime>=1.14.1->chromadb!=0.5.10,!=0.5.11,!=0.5.12,!=0.5.4,!=0.5.5,!=0.5.7,!=0.5.9,<0.7.0,>=0.4.0->langchain-chroma==0.2.2)\n",
            "  Downloading coloredlogs-15.0.1-py2.py3-none-any.whl.metadata (12 kB)\n",
            "Requirement already satisfied: flatbuffers in /usr/local/lib/python3.11/dist-packages (from onnxruntime>=1.14.1->chromadb!=0.5.10,!=0.5.11,!=0.5.12,!=0.5.4,!=0.5.5,!=0.5.7,!=0.5.9,<0.7.0,>=0.4.0->langchain-chroma==0.2.2) (25.2.10)\n",
            "Requirement already satisfied: protobuf in /usr/local/lib/python3.11/dist-packages (from onnxruntime>=1.14.1->chromadb!=0.5.10,!=0.5.11,!=0.5.12,!=0.5.4,!=0.5.5,!=0.5.7,!=0.5.9,<0.7.0,>=0.4.0->langchain-chroma==0.2.2) (5.29.4)\n",
            "Requirement already satisfied: sympy in /usr/local/lib/python3.11/dist-packages (from onnxruntime>=1.14.1->chromadb!=0.5.10,!=0.5.11,!=0.5.12,!=0.5.4,!=0.5.5,!=0.5.7,!=0.5.9,<0.7.0,>=0.4.0->langchain-chroma==0.2.2) (1.13.1)\n",
            "Requirement already satisfied: deprecated>=1.2.6 in /usr/local/lib/python3.11/dist-packages (from opentelemetry-api>=1.2.0->chromadb!=0.5.10,!=0.5.11,!=0.5.12,!=0.5.4,!=0.5.5,!=0.5.7,!=0.5.9,<0.7.0,>=0.4.0->langchain-chroma==0.2.2) (1.2.18)\n",
            "Requirement already satisfied: importlib-metadata<8.7.0,>=6.0 in /usr/local/lib/python3.11/dist-packages (from opentelemetry-api>=1.2.0->chromadb!=0.5.10,!=0.5.11,!=0.5.12,!=0.5.4,!=0.5.5,!=0.5.7,!=0.5.9,<0.7.0,>=0.4.0->langchain-chroma==0.2.2) (8.6.1)\n",
            "Requirement already satisfied: googleapis-common-protos~=1.52 in /usr/local/lib/python3.11/dist-packages (from opentelemetry-exporter-otlp-proto-grpc>=1.2.0->chromadb!=0.5.10,!=0.5.11,!=0.5.12,!=0.5.4,!=0.5.5,!=0.5.7,!=0.5.9,<0.7.0,>=0.4.0->langchain-chroma==0.2.2) (1.69.2)\n",
            "Collecting opentelemetry-exporter-otlp-proto-common==1.31.1 (from opentelemetry-exporter-otlp-proto-grpc>=1.2.0->chromadb!=0.5.10,!=0.5.11,!=0.5.12,!=0.5.4,!=0.5.5,!=0.5.7,!=0.5.9,<0.7.0,>=0.4.0->langchain-chroma==0.2.2)\n",
            "  Downloading opentelemetry_exporter_otlp_proto_common-1.31.1-py3-none-any.whl.metadata (1.9 kB)\n",
            "Collecting opentelemetry-proto==1.31.1 (from opentelemetry-exporter-otlp-proto-grpc>=1.2.0->chromadb!=0.5.10,!=0.5.11,!=0.5.12,!=0.5.4,!=0.5.5,!=0.5.7,!=0.5.9,<0.7.0,>=0.4.0->langchain-chroma==0.2.2)\n",
            "  Downloading opentelemetry_proto-1.31.1-py3-none-any.whl.metadata (2.4 kB)\n",
            "Collecting opentelemetry-instrumentation-asgi==0.52b1 (from opentelemetry-instrumentation-fastapi>=0.41b0->chromadb!=0.5.10,!=0.5.11,!=0.5.12,!=0.5.4,!=0.5.5,!=0.5.7,!=0.5.9,<0.7.0,>=0.4.0->langchain-chroma==0.2.2)\n",
            "  Downloading opentelemetry_instrumentation_asgi-0.52b1-py3-none-any.whl.metadata (2.1 kB)\n",
            "Collecting opentelemetry-instrumentation==0.52b1 (from opentelemetry-instrumentation-fastapi>=0.41b0->chromadb!=0.5.10,!=0.5.11,!=0.5.12,!=0.5.4,!=0.5.5,!=0.5.7,!=0.5.9,<0.7.0,>=0.4.0->langchain-chroma==0.2.2)\n",
            "  Downloading opentelemetry_instrumentation-0.52b1-py3-none-any.whl.metadata (6.8 kB)\n",
            "Requirement already satisfied: opentelemetry-semantic-conventions==0.52b1 in /usr/local/lib/python3.11/dist-packages (from opentelemetry-instrumentation-fastapi>=0.41b0->chromadb!=0.5.10,!=0.5.11,!=0.5.12,!=0.5.4,!=0.5.5,!=0.5.7,!=0.5.9,<0.7.0,>=0.4.0->langchain-chroma==0.2.2) (0.52b1)\n",
            "Collecting opentelemetry-util-http==0.52b1 (from opentelemetry-instrumentation-fastapi>=0.41b0->chromadb!=0.5.10,!=0.5.11,!=0.5.12,!=0.5.4,!=0.5.5,!=0.5.7,!=0.5.9,<0.7.0,>=0.4.0->langchain-chroma==0.2.2)\n",
            "  Downloading opentelemetry_util_http-0.52b1-py3-none-any.whl.metadata (2.6 kB)\n",
            "Requirement already satisfied: wrapt<2.0.0,>=1.0.0 in /usr/local/lib/python3.11/dist-packages (from opentelemetry-instrumentation==0.52b1->opentelemetry-instrumentation-fastapi>=0.41b0->chromadb!=0.5.10,!=0.5.11,!=0.5.12,!=0.5.4,!=0.5.5,!=0.5.7,!=0.5.9,<0.7.0,>=0.4.0->langchain-chroma==0.2.2) (1.17.2)\n",
            "Collecting asgiref~=3.0 (from opentelemetry-instrumentation-asgi==0.52b1->opentelemetry-instrumentation-fastapi>=0.41b0->chromadb!=0.5.10,!=0.5.11,!=0.5.12,!=0.5.4,!=0.5.5,!=0.5.7,!=0.5.9,<0.7.0,>=0.4.0->langchain-chroma==0.2.2)\n",
            "  Downloading asgiref-3.8.1-py3-none-any.whl.metadata (9.3 kB)\n",
            "Collecting monotonic>=1.5 (from posthog>=2.4.0->chromadb!=0.5.10,!=0.5.11,!=0.5.12,!=0.5.4,!=0.5.5,!=0.5.7,!=0.5.9,<0.7.0,>=0.4.0->langchain-chroma==0.2.2)\n",
            "  Downloading monotonic-1.6-py2.py3-none-any.whl.metadata (1.5 kB)\n",
            "Collecting backoff>=1.10.0 (from posthog>=2.4.0->chromadb!=0.5.10,!=0.5.11,!=0.5.12,!=0.5.4,!=0.5.5,!=0.5.7,!=0.5.9,<0.7.0,>=0.4.0->langchain-chroma==0.2.2)\n",
            "  Downloading backoff-2.2.1-py3-none-any.whl.metadata (14 kB)\n",
            "Requirement already satisfied: distro>=1.5.0 in /usr/local/lib/python3.11/dist-packages (from posthog>=2.4.0->chromadb!=0.5.10,!=0.5.11,!=0.5.12,!=0.5.4,!=0.5.5,!=0.5.7,!=0.5.9,<0.7.0,>=0.4.0->langchain-chroma==0.2.2) (1.9.0)\n",
            "Requirement already satisfied: annotated-types>=0.6.0 in /usr/local/lib/python3.11/dist-packages (from pydantic>=1.9->chromadb!=0.5.10,!=0.5.11,!=0.5.12,!=0.5.4,!=0.5.5,!=0.5.7,!=0.5.9,<0.7.0,>=0.4.0->langchain-chroma==0.2.2) (0.7.0)\n",
            "Requirement already satisfied: pydantic-core==2.27.2 in /usr/local/lib/python3.11/dist-packages (from pydantic>=1.9->chromadb!=0.5.10,!=0.5.11,!=0.5.12,!=0.5.4,!=0.5.5,!=0.5.7,!=0.5.9,<0.7.0,>=0.4.0->langchain-chroma==0.2.2) (2.27.2)\n",
            "Requirement already satisfied: markdown-it-py>=2.2.0 in /usr/local/lib/python3.11/dist-packages (from rich>=10.11.0->chromadb!=0.5.10,!=0.5.11,!=0.5.12,!=0.5.4,!=0.5.5,!=0.5.7,!=0.5.9,<0.7.0,>=0.4.0->langchain-chroma==0.2.2) (3.0.0)\n",
            "Requirement already satisfied: pygments<3.0.0,>=2.13.0 in /usr/local/lib/python3.11/dist-packages (from rich>=10.11.0->chromadb!=0.5.10,!=0.5.11,!=0.5.12,!=0.5.4,!=0.5.5,!=0.5.7,!=0.5.9,<0.7.0,>=0.4.0->langchain-chroma==0.2.2) (2.18.0)\n",
            "Requirement already satisfied: huggingface-hub<1.0,>=0.16.4 in /usr/local/lib/python3.11/dist-packages (from tokenizers>=0.13.2->chromadb!=0.5.10,!=0.5.11,!=0.5.12,!=0.5.4,!=0.5.5,!=0.5.7,!=0.5.9,<0.7.0,>=0.4.0->langchain-chroma==0.2.2) (0.29.3)\n",
            "Requirement already satisfied: click>=8.0.0 in /usr/local/lib/python3.11/dist-packages (from typer>=0.9.0->chromadb!=0.5.10,!=0.5.11,!=0.5.12,!=0.5.4,!=0.5.5,!=0.5.7,!=0.5.9,<0.7.0,>=0.4.0->langchain-chroma==0.2.2) (8.1.8)\n",
            "Requirement already satisfied: shellingham>=1.3.0 in /usr/local/lib/python3.11/dist-packages (from typer>=0.9.0->chromadb!=0.5.10,!=0.5.11,!=0.5.12,!=0.5.4,!=0.5.5,!=0.5.7,!=0.5.9,<0.7.0,>=0.4.0->langchain-chroma==0.2.2) (1.5.4)\n",
            "Collecting httptools>=0.6.3 (from uvicorn[standard]>=0.18.3->chromadb!=0.5.10,!=0.5.11,!=0.5.12,!=0.5.4,!=0.5.5,!=0.5.7,!=0.5.9,<0.7.0,>=0.4.0->langchain-chroma==0.2.2)\n",
            "  Downloading httptools-0.6.4-cp311-cp311-manylinux_2_5_x86_64.manylinux1_x86_64.manylinux_2_17_x86_64.manylinux2014_x86_64.whl.metadata (3.6 kB)\n",
            "Requirement already satisfied: python-dotenv>=0.13 in /usr/local/lib/python3.11/dist-packages (from uvicorn[standard]>=0.18.3->chromadb!=0.5.10,!=0.5.11,!=0.5.12,!=0.5.4,!=0.5.5,!=0.5.7,!=0.5.9,<0.7.0,>=0.4.0->langchain-chroma==0.2.2) (1.1.0)\n",
            "Collecting uvloop!=0.15.0,!=0.15.1,>=0.14.0 (from uvicorn[standard]>=0.18.3->chromadb!=0.5.10,!=0.5.11,!=0.5.12,!=0.5.4,!=0.5.5,!=0.5.7,!=0.5.9,<0.7.0,>=0.4.0->langchain-chroma==0.2.2)\n",
            "  Downloading uvloop-0.21.0-cp311-cp311-manylinux_2_17_x86_64.manylinux2014_x86_64.whl.metadata (4.9 kB)\n",
            "Collecting watchfiles>=0.13 (from uvicorn[standard]>=0.18.3->chromadb!=0.5.10,!=0.5.11,!=0.5.12,!=0.5.4,!=0.5.5,!=0.5.7,!=0.5.9,<0.7.0,>=0.4.0->langchain-chroma==0.2.2)\n",
            "  Downloading watchfiles-1.0.4-cp311-cp311-manylinux_2_17_x86_64.manylinux2014_x86_64.whl.metadata (4.9 kB)\n",
            "Requirement already satisfied: websockets>=10.4 in /usr/local/lib/python3.11/dist-packages (from uvicorn[standard]>=0.18.3->chromadb!=0.5.10,!=0.5.11,!=0.5.12,!=0.5.4,!=0.5.5,!=0.5.7,!=0.5.9,<0.7.0,>=0.4.0->langchain-chroma==0.2.2) (15.0.1)\n",
            "Requirement already satisfied: cachetools<6.0,>=2.0.0 in /usr/local/lib/python3.11/dist-packages (from google-auth>=1.0.1->kubernetes>=28.1.0->chromadb!=0.5.10,!=0.5.11,!=0.5.12,!=0.5.4,!=0.5.5,!=0.5.7,!=0.5.9,<0.7.0,>=0.4.0->langchain-chroma==0.2.2) (5.5.2)\n",
            "Requirement already satisfied: pyasn1-modules>=0.2.1 in /usr/local/lib/python3.11/dist-packages (from google-auth>=1.0.1->kubernetes>=28.1.0->chromadb!=0.5.10,!=0.5.11,!=0.5.12,!=0.5.4,!=0.5.5,!=0.5.7,!=0.5.9,<0.7.0,>=0.4.0->langchain-chroma==0.2.2) (0.4.1)\n",
            "Requirement already satisfied: rsa<5,>=3.1.4 in /usr/local/lib/python3.11/dist-packages (from google-auth>=1.0.1->kubernetes>=28.1.0->chromadb!=0.5.10,!=0.5.11,!=0.5.12,!=0.5.4,!=0.5.5,!=0.5.7,!=0.5.9,<0.7.0,>=0.4.0->langchain-chroma==0.2.2) (4.9)\n",
            "Requirement already satisfied: filelock in /usr/local/lib/python3.11/dist-packages (from huggingface-hub<1.0,>=0.16.4->tokenizers>=0.13.2->chromadb!=0.5.10,!=0.5.11,!=0.5.12,!=0.5.4,!=0.5.5,!=0.5.7,!=0.5.9,<0.7.0,>=0.4.0->langchain-chroma==0.2.2) (3.18.0)\n",
            "Requirement already satisfied: fsspec>=2023.5.0 in /usr/local/lib/python3.11/dist-packages (from huggingface-hub<1.0,>=0.16.4->tokenizers>=0.13.2->chromadb!=0.5.10,!=0.5.11,!=0.5.12,!=0.5.4,!=0.5.5,!=0.5.7,!=0.5.9,<0.7.0,>=0.4.0->langchain-chroma==0.2.2) (2025.3.0)\n",
            "Requirement already satisfied: zipp>=3.20 in /usr/local/lib/python3.11/dist-packages (from importlib-metadata<8.7.0,>=6.0->opentelemetry-api>=1.2.0->chromadb!=0.5.10,!=0.5.11,!=0.5.12,!=0.5.4,!=0.5.5,!=0.5.7,!=0.5.9,<0.7.0,>=0.4.0->langchain-chroma==0.2.2) (3.21.0)\n",
            "Requirement already satisfied: mdurl~=0.1 in /usr/local/lib/python3.11/dist-packages (from markdown-it-py>=2.2.0->rich>=10.11.0->chromadb!=0.5.10,!=0.5.11,!=0.5.12,!=0.5.4,!=0.5.5,!=0.5.7,!=0.5.9,<0.7.0,>=0.4.0->langchain-chroma==0.2.2) (0.1.2)\n",
            "Requirement already satisfied: charset-normalizer<4,>=2 in /usr/local/lib/python3.11/dist-packages (from requests->kubernetes>=28.1.0->chromadb!=0.5.10,!=0.5.11,!=0.5.12,!=0.5.4,!=0.5.5,!=0.5.7,!=0.5.9,<0.7.0,>=0.4.0->langchain-chroma==0.2.2) (3.4.1)\n",
            "Requirement already satisfied: sniffio>=1.1 in /usr/local/lib/python3.11/dist-packages (from anyio->httpx>=0.27.0->chromadb!=0.5.10,!=0.5.11,!=0.5.12,!=0.5.4,!=0.5.5,!=0.5.7,!=0.5.9,<0.7.0,>=0.4.0->langchain-chroma==0.2.2) (1.3.1)\n",
            "Collecting humanfriendly>=9.1 (from coloredlogs->onnxruntime>=1.14.1->chromadb!=0.5.10,!=0.5.11,!=0.5.12,!=0.5.4,!=0.5.5,!=0.5.7,!=0.5.9,<0.7.0,>=0.4.0->langchain-chroma==0.2.2)\n",
            "  Downloading humanfriendly-10.0-py2.py3-none-any.whl.metadata (9.2 kB)\n",
            "Requirement already satisfied: mpmath<1.4,>=1.1.0 in /usr/local/lib/python3.11/dist-packages (from sympy->onnxruntime>=1.14.1->chromadb!=0.5.10,!=0.5.11,!=0.5.12,!=0.5.4,!=0.5.5,!=0.5.7,!=0.5.9,<0.7.0,>=0.4.0->langchain-chroma==0.2.2) (1.3.0)\n",
            "Requirement already satisfied: pyasn1<0.7.0,>=0.4.6 in /usr/local/lib/python3.11/dist-packages (from pyasn1-modules>=0.2.1->google-auth>=1.0.1->kubernetes>=28.1.0->chromadb!=0.5.10,!=0.5.11,!=0.5.12,!=0.5.4,!=0.5.5,!=0.5.7,!=0.5.9,<0.7.0,>=0.4.0->langchain-chroma==0.2.2) (0.6.1)\n",
            "Downloading langchain_chroma-0.2.2-py3-none-any.whl (11 kB)\n",
            "Downloading chromadb-0.6.3-py3-none-any.whl (611 kB)\n",
            "\u001b[2K   \u001b[90m━━━━━━━━━━━━━━━━━━━━━━━━━━━━━━━━━━━━━━━━\u001b[0m \u001b[32m611.1/611.1 kB\u001b[0m \u001b[31m24.8 MB/s\u001b[0m eta \u001b[36m0:00:00\u001b[0m\n",
            "\u001b[?25hDownloading chroma_hnswlib-0.7.6-cp311-cp311-manylinux_2_17_x86_64.manylinux2014_x86_64.whl (2.4 MB)\n",
            "\u001b[2K   \u001b[90m━━━━━━━━━━━━━━━━━━━━━━━━━━━━━━━━━━━━━━━━\u001b[0m \u001b[32m2.4/2.4 MB\u001b[0m \u001b[31m90.9 MB/s\u001b[0m eta \u001b[36m0:00:00\u001b[0m\n",
            "\u001b[?25hDownloading numpy-1.26.4-cp311-cp311-manylinux_2_17_x86_64.manylinux2014_x86_64.whl (18.3 MB)\n",
            "\u001b[2K   \u001b[90m━━━━━━━━━━━━━━━━━━━━━━━━━━━━━━━━━━━━━━━━\u001b[0m \u001b[32m18.3/18.3 MB\u001b[0m \u001b[31m119.3 MB/s\u001b[0m eta \u001b[36m0:00:00\u001b[0m\n",
            "\u001b[?25hDownloading bcrypt-4.3.0-cp39-abi3-manylinux_2_34_x86_64.whl (284 kB)\n",
            "\u001b[2K   \u001b[90m━━━━━━━━━━━━━━━━━━━━━━━━━━━━━━━━━━━━━━━━\u001b[0m \u001b[32m284.2/284.2 kB\u001b[0m \u001b[31m29.3 MB/s\u001b[0m eta \u001b[36m0:00:00\u001b[0m\n",
            "\u001b[?25hDownloading build-1.2.2.post1-py3-none-any.whl (22 kB)\n",
            "Downloading fastapi-0.115.12-py3-none-any.whl (95 kB)\n",
            "\u001b[2K   \u001b[90m━━━━━━━━━━━━━━━━━━━━━━━━━━━━━━━━━━━━━━━━\u001b[0m \u001b[32m95.2/95.2 kB\u001b[0m \u001b[31m12.3 MB/s\u001b[0m eta \u001b[36m0:00:00\u001b[0m\n",
            "\u001b[?25hDownloading kubernetes-32.0.1-py2.py3-none-any.whl (2.0 MB)\n",
            "\u001b[2K   \u001b[90m━━━━━━━━━━━━━━━━━━━━━━━━━━━━━━━━━━━━━━━━\u001b[0m \u001b[32m2.0/2.0 MB\u001b[0m \u001b[31m100.6 MB/s\u001b[0m eta \u001b[36m0:00:00\u001b[0m\n",
            "\u001b[?25hDownloading mmh3-5.1.0-cp311-cp311-manylinux_2_5_x86_64.manylinux1_x86_64.manylinux_2_17_x86_64.manylinux2014_x86_64.whl (101 kB)\n",
            "\u001b[2K   \u001b[90m━━━━━━━━━━━━━━━━━━━━━━━━━━━━━━━━━━━━━━━━\u001b[0m \u001b[32m101.6/101.6 kB\u001b[0m \u001b[31m11.8 MB/s\u001b[0m eta \u001b[36m0:00:00\u001b[0m\n",
            "\u001b[?25hDownloading onnxruntime-1.21.0-cp311-cp311-manylinux_2_27_x86_64.manylinux_2_28_x86_64.whl (16.0 MB)\n",
            "\u001b[2K   \u001b[90m━━━━━━━━━━━━━━━━━━━━━━━━━━━━━━━━━━━━━━━━\u001b[0m \u001b[32m16.0/16.0 MB\u001b[0m \u001b[31m115.2 MB/s\u001b[0m eta \u001b[36m0:00:00\u001b[0m\n",
            "\u001b[?25hDownloading opentelemetry_exporter_otlp_proto_grpc-1.31.1-py3-none-any.whl (18 kB)\n",
            "Downloading opentelemetry_exporter_otlp_proto_common-1.31.1-py3-none-any.whl (18 kB)\n",
            "Downloading opentelemetry_proto-1.31.1-py3-none-any.whl (55 kB)\n",
            "\u001b[2K   \u001b[90m━━━━━━━━━━━━━━━━━━━━━━━━━━━━━━━━━━━━━━━━\u001b[0m \u001b[32m55.9/55.9 kB\u001b[0m \u001b[31m6.0 MB/s\u001b[0m eta \u001b[36m0:00:00\u001b[0m\n",
            "\u001b[?25hDownloading opentelemetry_instrumentation_fastapi-0.52b1-py3-none-any.whl (12 kB)\n",
            "Downloading opentelemetry_instrumentation-0.52b1-py3-none-any.whl (31 kB)\n",
            "Downloading opentelemetry_instrumentation_asgi-0.52b1-py3-none-any.whl (16 kB)\n",
            "Downloading opentelemetry_util_http-0.52b1-py3-none-any.whl (7.3 kB)\n",
            "Downloading overrides-7.7.0-py3-none-any.whl (17 kB)\n",
            "Downloading posthog-3.23.0-py2.py3-none-any.whl (84 kB)\n",
            "\u001b[2K   \u001b[90m━━━━━━━━━━━━━━━━━━━━━━━━━━━━━━━━━━━━━━━━\u001b[0m \u001b[32m85.0/85.0 kB\u001b[0m \u001b[31m9.8 MB/s\u001b[0m eta \u001b[36m0:00:00\u001b[0m\n",
            "\u001b[?25hDownloading uvicorn-0.34.0-py3-none-any.whl (62 kB)\n",
            "\u001b[2K   \u001b[90m━━━━━━━━━━━━━━━━━━━━━━━━━━━━━━━━━━━━━━━━\u001b[0m \u001b[32m62.3/62.3 kB\u001b[0m \u001b[31m6.4 MB/s\u001b[0m eta \u001b[36m0:00:00\u001b[0m\n",
            "\u001b[?25hDownloading backoff-2.2.1-py3-none-any.whl (15 kB)\n",
            "Downloading durationpy-0.9-py3-none-any.whl (3.5 kB)\n",
            "Downloading httptools-0.6.4-cp311-cp311-manylinux_2_5_x86_64.manylinux1_x86_64.manylinux_2_17_x86_64.manylinux2014_x86_64.whl (459 kB)\n",
            "\u001b[2K   \u001b[90m━━━━━━━━━━━━━━━━━━━━━━━━━━━━━━━━━━━━━━━━\u001b[0m \u001b[32m459.8/459.8 kB\u001b[0m \u001b[31m37.2 MB/s\u001b[0m eta \u001b[36m0:00:00\u001b[0m\n",
            "\u001b[?25hDownloading monotonic-1.6-py2.py3-none-any.whl (8.2 kB)\n",
            "Downloading starlette-0.46.1-py3-none-any.whl (71 kB)\n",
            "\u001b[2K   \u001b[90m━━━━━━━━━━━━━━━━━━━━━━━━━━━━━━━━━━━━━━━━\u001b[0m \u001b[32m72.0/72.0 kB\u001b[0m \u001b[31m8.3 MB/s\u001b[0m eta \u001b[36m0:00:00\u001b[0m\n",
            "\u001b[?25hDownloading uvloop-0.21.0-cp311-cp311-manylinux_2_17_x86_64.manylinux2014_x86_64.whl (4.0 MB)\n",
            "\u001b[2K   \u001b[90m━━━━━━━━━━━━━━━━━━━━━━━━━━━━━━━━━━━━━━━━\u001b[0m \u001b[32m4.0/4.0 MB\u001b[0m \u001b[31m117.8 MB/s\u001b[0m eta \u001b[36m0:00:00\u001b[0m\n",
            "\u001b[?25hDownloading watchfiles-1.0.4-cp311-cp311-manylinux_2_17_x86_64.manylinux2014_x86_64.whl (452 kB)\n",
            "\u001b[2K   \u001b[90m━━━━━━━━━━━━━━━━━━━━━━━━━━━━━━━━━━━━━━━━\u001b[0m \u001b[32m452.6/452.6 kB\u001b[0m \u001b[31m40.1 MB/s\u001b[0m eta \u001b[36m0:00:00\u001b[0m\n",
            "\u001b[?25hDownloading coloredlogs-15.0.1-py2.py3-none-any.whl (46 kB)\n",
            "\u001b[2K   \u001b[90m━━━━━━━━━━━━━━━━━━━━━━━━━━━━━━━━━━━━━━━━\u001b[0m \u001b[32m46.0/46.0 kB\u001b[0m \u001b[31m4.8 MB/s\u001b[0m eta \u001b[36m0:00:00\u001b[0m\n",
            "\u001b[?25hDownloading pyproject_hooks-1.2.0-py3-none-any.whl (10 kB)\n",
            "Downloading asgiref-3.8.1-py3-none-any.whl (23 kB)\n",
            "Downloading humanfriendly-10.0-py2.py3-none-any.whl (86 kB)\n",
            "\u001b[2K   \u001b[90m━━━━━━━━━━━━━━━━━━━━━━━━━━━━━━━━━━━━━━━━\u001b[0m \u001b[32m86.8/86.8 kB\u001b[0m \u001b[31m9.6 MB/s\u001b[0m eta \u001b[36m0:00:00\u001b[0m\n",
            "\u001b[?25hBuilding wheels for collected packages: pypika\n",
            "  Building wheel for pypika (pyproject.toml) ... \u001b[?25l\u001b[?25hdone\n",
            "  Created wheel for pypika: filename=pypika-0.48.9-py2.py3-none-any.whl size=53800 sha256=681095b06898e028c2ee7b50e4192d341f093fa39b3dfe74b083cd29e3ef3e7c\n",
            "  Stored in directory: /root/.cache/pip/wheels/a3/01/bd/4c40ceb9d5354160cb186dcc153360f4ab7eb23e2b24daf96d\n",
            "Successfully built pypika\n",
            "Installing collected packages: pypika, monotonic, durationpy, uvloop, uvicorn, pyproject_hooks, overrides, opentelemetry-util-http, opentelemetry-proto, numpy, mmh3, humanfriendly, httptools, bcrypt, backoff, asgiref, watchfiles, starlette, posthog, opentelemetry-exporter-otlp-proto-common, coloredlogs, chroma-hnswlib, build, onnxruntime, kubernetes, fastapi, opentelemetry-instrumentation, opentelemetry-instrumentation-asgi, opentelemetry-exporter-otlp-proto-grpc, opentelemetry-instrumentation-fastapi, chromadb, langchain-chroma\n",
            "  Attempting uninstall: numpy\n",
            "    Found existing installation: numpy 2.0.2\n",
            "    Uninstalling numpy-2.0.2:\n",
            "      Successfully uninstalled numpy-2.0.2\n",
            "Successfully installed asgiref-3.8.1 backoff-2.2.1 bcrypt-4.3.0 build-1.2.2.post1 chroma-hnswlib-0.7.6 chromadb-0.6.3 coloredlogs-15.0.1 durationpy-0.9 fastapi-0.115.12 httptools-0.6.4 humanfriendly-10.0 kubernetes-32.0.1 langchain-chroma-0.2.2 mmh3-5.1.0 monotonic-1.6 numpy-1.26.4 onnxruntime-1.21.0 opentelemetry-exporter-otlp-proto-common-1.31.1 opentelemetry-exporter-otlp-proto-grpc-1.31.1 opentelemetry-instrumentation-0.52b1 opentelemetry-instrumentation-asgi-0.52b1 opentelemetry-instrumentation-fastapi-0.52b1 opentelemetry-proto-1.31.1 opentelemetry-util-http-0.52b1 overrides-7.7.0 posthog-3.23.0 pypika-0.48.9 pyproject_hooks-1.2.0 starlette-0.46.1 uvicorn-0.34.0 uvloop-0.21.0 watchfiles-1.0.4\n"
          ]
        }
      ]
    },
    {
      "cell_type": "markdown",
      "source": [
        "## Enter Open AI API Key"
      ],
      "metadata": {
        "id": "H9c37cLnSrbg"
      }
    },
    {
      "cell_type": "code",
      "source": [
        "from getpass import getpass\n",
        "\n",
        "OPENAI_KEY = getpass('Enter Open AI API Key: ')"
      ],
      "metadata": {
        "id": "cv3JzCEx_PAd",
        "colab": {
          "base_uri": "https://localhost:8080/"
        },
        "outputId": "df082721-37f6-4454-e0e3-eecb554c2378"
      },
      "execution_count": 4,
      "outputs": [
        {
          "name": "stdout",
          "output_type": "stream",
          "text": [
            "Enter Open AI API Key: ··········\n"
          ]
        }
      ]
    },
    {
      "cell_type": "markdown",
      "source": [
        "## Enter Tavily Search API Key\n",
        "\n",
        "Get a free API key from [here](https://tavily.com/#api)"
      ],
      "metadata": {
        "id": "ucWRRI3QztL2"
      }
    },
    {
      "cell_type": "code",
      "source": [
        "TAVILY_API_KEY = getpass('Enter Tavily Search API Key: ')"
      ],
      "metadata": {
        "id": "mK-1WLzOrJdb",
        "colab": {
          "base_uri": "https://localhost:8080/"
        },
        "outputId": "043cd43c-6796-4313-bd1f-7ee99f84b3e8"
      },
      "execution_count": 5,
      "outputs": [
        {
          "name": "stdout",
          "output_type": "stream",
          "text": [
            "Enter Tavily Search API Key: ··········\n"
          ]
        }
      ]
    },
    {
      "cell_type": "markdown",
      "source": [
        "## Setup Environment Variables"
      ],
      "metadata": {
        "id": "1T0s0um5Svfa"
      }
    },
    {
      "cell_type": "code",
      "source": [
        "import os\n",
        "\n",
        "os.environ['OPENAI_API_KEY'] = OPENAI_KEY\n",
        "os.environ['TAVILY_API_KEY'] = TAVILY_API_KEY"
      ],
      "metadata": {
        "id": "x1YSuHNF_lbh"
      },
      "execution_count": 6,
      "outputs": []
    },
    {
      "cell_type": "markdown",
      "source": [
        "## Build a Search Index for Research Paper Data\n",
        "\n",
        "We will build a vector database for retrieval and search by indexing a few research paper documents, similar to any standard RAG workflows"
      ],
      "metadata": {
        "id": "n6OW_DlJSV70"
      }
    },
    {
      "cell_type": "markdown",
      "source": [
        "### Open AI Embedding Models\n",
        "\n",
        "LangChain enables us to access Open AI embedding models which include the newest models: a smaller and highly efficient `text-embedding-3-small` model, and a larger and more powerful `text-embedding-3-large` model."
      ],
      "metadata": {
        "id": "lQL9rhyAp55U"
      }
    },
    {
      "cell_type": "code",
      "source": [
        "from langchain_openai import OpenAIEmbeddings\n",
        "\n",
        "# details here: https://openai.com/blog/new-embedding-models-and-api-updates\n",
        "openai_embed_model = OpenAIEmbeddings(model='text-embedding-3-small')"
      ],
      "metadata": {
        "id": "hdBHpH3cdrYD"
      },
      "execution_count": 7,
      "outputs": []
    },
    {
      "cell_type": "markdown",
      "source": [
        "### Get the research paper data"
      ],
      "metadata": {
        "id": "RA_-hzHbFeSP"
      }
    },
    {
      "cell_type": "code",
      "source": [
        "# if you can't download using the following code\n",
        "# go to https://drive.google.com/file/d/1ZOtPmuR-2KpzPvkiQiTVxAyJFo6NszG-/view?usp=sharing download it\n",
        "# manually upload it on colab\n",
        "\n",
        "!gdown 1ZOtPmuR-2KpzPvkiQiTVxAyJFo6NszG-"
      ],
      "metadata": {
        "id": "RZFMYH-yFhWn",
        "colab": {
          "base_uri": "https://localhost:8080/"
        },
        "outputId": "45b3dcf0-e927-4563-a505-0f3db8a761cc"
      },
      "execution_count": 8,
      "outputs": [
        {
          "output_type": "stream",
          "name": "stdout",
          "text": [
            "Downloading...\n",
            "From: https://drive.google.com/uc?id=1ZOtPmuR-2KpzPvkiQiTVxAyJFo6NszG-\n",
            "To: /content/research_papers.zip\n",
            "100% 19.3M/19.3M [00:00<00:00, 46.3MB/s]\n"
          ]
        }
      ]
    },
    {
      "cell_type": "code",
      "source": [
        "!unzip research_papers.zip"
      ],
      "metadata": {
        "colab": {
          "base_uri": "https://localhost:8080/"
        },
        "id": "HKBiOapobqB9",
        "outputId": "05196c4f-5564-460e-b17b-4100c59fa5f0"
      },
      "execution_count": 9,
      "outputs": [
        {
          "output_type": "stream",
          "name": "stdout",
          "text": [
            "Archive:  research_papers.zip\n",
            "   creating: research_papers/\n",
            "  inflating: research_papers/attention.pdf  \n",
            "  inflating: research_papers/chain_of_thought.pdf  \n",
            "  inflating: research_papers/diffusion.pdf  \n",
            "  inflating: research_papers/dino.pdf  \n",
            "  inflating: research_papers/peft.pdf  \n"
          ]
        }
      ]
    },
    {
      "cell_type": "markdown",
      "source": [
        "### Load and Chunk Documents"
      ],
      "metadata": {
        "id": "4_ReSz-3PVwW"
      }
    },
    {
      "cell_type": "markdown",
      "source": [
        "We create a directory loader to use a PDF loader (using pymupdf) and load all PDF documents from a given folder"
      ],
      "metadata": {
        "id": "k8h-eIek5Hn8"
      }
    },
    {
      "cell_type": "code",
      "source": [
        "from langchain_community.document_loaders import DirectoryLoader\n",
        "\n",
        "# Define a function to create a DirectoryLoader for a specific file type\n",
        "def create_directory_loader(file_type, directory_path, loader_class, loader_args):\n",
        "    return DirectoryLoader(\n",
        "        path=directory_path,\n",
        "        glob=f\"**/*{file_type}\",\n",
        "        loader_cls=loader_class,\n",
        "        loader_kwargs=loader_args,\n",
        "        show_progress=True\n",
        "    )"
      ],
      "metadata": {
        "id": "UXxybBRKY5M7"
      },
      "execution_count": 10,
      "outputs": []
    },
    {
      "cell_type": "code",
      "source": [
        "from langchain_community.document_loaders import PyMuPDFLoader\n",
        "\n",
        "pdf_extn = '.pdf'\n",
        "pdf_loader_class = PyMuPDFLoader\n",
        "pdf_loader_args = {} # in case you want to change any settings in pymupdfloader\n",
        "directory= './research_papers'\n",
        "\n",
        "pdf_loader = create_directory_loader(file_type=pdf_extn,\n",
        "                                     directory_path=directory,\n",
        "                                     loader_class=pdf_loader_class,\n",
        "                                     loader_args=pdf_loader_args)\n",
        "\n",
        "# load docs\n",
        "docs = pdf_loader.load()\n",
        "len(docs) # PyMuPDF loads every document and breaks it per page by default"
      ],
      "metadata": {
        "colab": {
          "base_uri": "https://localhost:8080/"
        },
        "id": "I_eUpM5ecaaj",
        "outputId": "482bab64-0bad-4a22-9800-31148c2d3a08"
      },
      "execution_count": 11,
      "outputs": [
        {
          "output_type": "stream",
          "name": "stderr",
          "text": [
            "100%|██████████| 5/5 [00:00<00:00,  9.77it/s]\n"
          ]
        },
        {
          "output_type": "execute_result",
          "data": {
            "text/plain": [
              "62"
            ]
          },
          "metadata": {},
          "execution_count": 11
        }
      ]
    },
    {
      "cell_type": "code",
      "source": [
        "docs[0]"
      ],
      "metadata": {
        "colab": {
          "base_uri": "https://localhost:8080/"
        },
        "id": "aP3i0I7sUYE5",
        "outputId": "27782921-2327-4f7d-dc8d-d13fb32f6a24"
      },
      "execution_count": 12,
      "outputs": [
        {
          "output_type": "execute_result",
          "data": {
            "text/plain": [
              "Document(metadata={'producer': 'PDFium', 'creator': 'PDFium', 'creationdate': 'D:20250321115848', 'source': 'research_papers/dino.pdf', 'file_path': 'research_papers/dino.pdf', 'total_pages': 10, 'format': 'PDF 1.7', 'title': '', 'author': '', 'subject': '', 'keywords': '', 'moddate': '', 'trapped': '', 'modDate': '', 'creationDate': 'D:20250321115848', 'page': 0}, page_content='Emerging Properties in Self-Supervised Vision Transformers\\nMathilde Caron1,2\\nHugo Touvron1,3\\nIshan Misra1\\nHerv´e Jegou1\\nJulien Mairal2\\nPiotr Bojanowski1\\nArmand Joulin1\\n1 Facebook AI Research\\n2 Inria∗\\n3 Sorbonne University\\nFigure 1: Self-attention from a Vision Transformer with 8 × 8 patches trained with no supervision. We look at the self-attention of\\nthe [CLS] token on the heads of the last layer. This token is not attached to any label nor supervision. These maps show that the model\\nautomatically learns class-speciﬁc features leading to unsupervised object segmentations.\\nAbstract\\nIn this paper, we question if self-supervised learning pro-\\nvides new properties to Vision Transformer (ViT) [19] that\\nstand out compared to convolutional networks (convnets).\\nBeyond the fact that adapting self-supervised methods to this\\narchitecture works particularly well, we make the follow-\\ning observations: ﬁrst, self-supervised ViT features contain\\nexplicit information about the semantic segmentation of an\\nimage, which does not emerge as clearly with supervised\\nViTs, nor with convnets. Second, these features are also ex-\\ncellent k-NN classiﬁers, reaching 78.3% top-1 on ImageNet\\nwith a small ViT. Our study also underlines the importance of\\nmomentum encoder [33], multi-crop training [10], and the\\nuse of small patches with ViTs. We implement our ﬁndings\\ninto a simple self-supervised method, called DINO, which\\nwe interpret as a form of self-distillation with no labels.\\nWe show the synergy between DINO and ViTs by achieving\\n80.1% top-1 on ImageNet in linear evaluation with ViT-Base.\\n∗Univ. Grenoble Alpes, Inria, CNRS, Grenoble INP, LJK, 38000\\nGrenoble, France.\\nCorrespondence: mathilde@fb.com\\nCode: https://github.com/facebookresearch/dino\\n1. Introduction\\nTransformers [70] have recently emerged as an alternative\\nto convolutional neural networks (convnets) for visual recog-\\nnition [19, 69, 83]. Their adoption has been coupled with\\na training strategy inspired by natural language processing\\n(NLP), that is, pretraining on large quantities of data and\\nﬁnetuning on the target dataset [18, 55]. The resulting Vision\\nTransformers (ViT) [19] are competitive with convnets but,\\nthey have not yet delivered clear beneﬁts over them: they\\nare computationally more demanding, require more training\\ndata, and their features do not exhibit unique properties.\\nIn this paper, we question whether the muted success of\\nTransformers in vision can be explained by the use of super-\\nvision in their pretraining. Our motivation is that one of the\\nmain ingredients for the success of Transformers in NLP was\\nthe use of self-supervised pretraining, in the form of close\\nprocedure in BERT [18] or language modeling in GPT [55].\\nThese self-supervised pretraining objectives use the words\\nin a sentence to create pretext tasks that provide a richer\\nlearning signal than the supervised objective of predicting\\na single label per sentence. Similarly, in images, image-\\nlevel supervision often reduces the rich visual information\\ncontained in an image to a single concept selected from a\\npredeﬁned set of a few thousand categories of objects [60].\\nWhile the self-supervised pretext tasks used in NLP are\\n1\\narXiv:2104.14294v2  [cs.CV]  24 May 2021')"
            ]
          },
          "metadata": {},
          "execution_count": 12
        }
      ]
    },
    {
      "cell_type": "markdown",
      "source": [
        "We then use standard recursive character text chunking"
      ],
      "metadata": {
        "id": "6DggMVhwSlTO"
      }
    },
    {
      "cell_type": "code",
      "source": [
        "from langchain.text_splitter import RecursiveCharacterTextSplitter\n",
        "\n",
        "# Chunk docs\n",
        "splitter = RecursiveCharacterTextSplitter(chunk_size=4000, chunk_overlap=300)\n",
        "chunked_docs = splitter.split_documents(docs)"
      ],
      "metadata": {
        "id": "WwLEBC4nF9ly"
      },
      "execution_count": 13,
      "outputs": []
    },
    {
      "cell_type": "code",
      "source": [
        "len(chunked_docs)"
      ],
      "metadata": {
        "id": "G4E1zYFSG7J-",
        "colab": {
          "base_uri": "https://localhost:8080/"
        },
        "outputId": "f6373b4b-4382-41bf-d159-ac6cd3ffeaa8"
      },
      "execution_count": 14,
      "outputs": [
        {
          "output_type": "execute_result",
          "data": {
            "text/plain": [
              "100"
            ]
          },
          "metadata": {},
          "execution_count": 14
        }
      ]
    },
    {
      "cell_type": "code",
      "source": [
        "chunked_docs[:3]"
      ],
      "metadata": {
        "id": "aSbhERAyGw0v",
        "colab": {
          "base_uri": "https://localhost:8080/"
        },
        "outputId": "8c970756-339e-4f77-cb0d-7c3625da81c0"
      },
      "execution_count": 15,
      "outputs": [
        {
          "output_type": "execute_result",
          "data": {
            "text/plain": [
              "[Document(metadata={'producer': 'PDFium', 'creator': 'PDFium', 'creationdate': 'D:20250321115848', 'source': 'research_papers/dino.pdf', 'file_path': 'research_papers/dino.pdf', 'total_pages': 10, 'format': 'PDF 1.7', 'title': '', 'author': '', 'subject': '', 'keywords': '', 'moddate': '', 'trapped': '', 'modDate': '', 'creationDate': 'D:20250321115848', 'page': 0}, page_content='Emerging Properties in Self-Supervised Vision Transformers\\nMathilde Caron1,2\\nHugo Touvron1,3\\nIshan Misra1\\nHerv´e Jegou1\\nJulien Mairal2\\nPiotr Bojanowski1\\nArmand Joulin1\\n1 Facebook AI Research\\n2 Inria∗\\n3 Sorbonne University\\nFigure 1: Self-attention from a Vision Transformer with 8 × 8 patches trained with no supervision. We look at the self-attention of\\nthe [CLS] token on the heads of the last layer. This token is not attached to any label nor supervision. These maps show that the model\\nautomatically learns class-speciﬁc features leading to unsupervised object segmentations.\\nAbstract\\nIn this paper, we question if self-supervised learning pro-\\nvides new properties to Vision Transformer (ViT) [19] that\\nstand out compared to convolutional networks (convnets).\\nBeyond the fact that adapting self-supervised methods to this\\narchitecture works particularly well, we make the follow-\\ning observations: ﬁrst, self-supervised ViT features contain\\nexplicit information about the semantic segmentation of an\\nimage, which does not emerge as clearly with supervised\\nViTs, nor with convnets. Second, these features are also ex-\\ncellent k-NN classiﬁers, reaching 78.3% top-1 on ImageNet\\nwith a small ViT. Our study also underlines the importance of\\nmomentum encoder [33], multi-crop training [10], and the\\nuse of small patches with ViTs. We implement our ﬁndings\\ninto a simple self-supervised method, called DINO, which\\nwe interpret as a form of self-distillation with no labels.\\nWe show the synergy between DINO and ViTs by achieving\\n80.1% top-1 on ImageNet in linear evaluation with ViT-Base.\\n∗Univ. Grenoble Alpes, Inria, CNRS, Grenoble INP, LJK, 38000\\nGrenoble, France.\\nCorrespondence: mathilde@fb.com\\nCode: https://github.com/facebookresearch/dino\\n1. Introduction\\nTransformers [70] have recently emerged as an alternative\\nto convolutional neural networks (convnets) for visual recog-\\nnition [19, 69, 83]. Their adoption has been coupled with\\na training strategy inspired by natural language processing\\n(NLP), that is, pretraining on large quantities of data and\\nﬁnetuning on the target dataset [18, 55]. The resulting Vision\\nTransformers (ViT) [19] are competitive with convnets but,\\nthey have not yet delivered clear beneﬁts over them: they\\nare computationally more demanding, require more training\\ndata, and their features do not exhibit unique properties.\\nIn this paper, we question whether the muted success of\\nTransformers in vision can be explained by the use of super-\\nvision in their pretraining. Our motivation is that one of the\\nmain ingredients for the success of Transformers in NLP was\\nthe use of self-supervised pretraining, in the form of close\\nprocedure in BERT [18] or language modeling in GPT [55].\\nThese self-supervised pretraining objectives use the words\\nin a sentence to create pretext tasks that provide a richer\\nlearning signal than the supervised objective of predicting\\na single label per sentence. Similarly, in images, image-\\nlevel supervision often reduces the rich visual information\\ncontained in an image to a single concept selected from a\\npredeﬁned set of a few thousand categories of objects [60].\\nWhile the self-supervised pretext tasks used in NLP are\\n1\\narXiv:2104.14294v2  [cs.CV]  24 May 2021'),\n",
              " Document(metadata={'producer': 'PDFium', 'creator': 'PDFium', 'creationdate': 'D:20250321115848', 'source': 'research_papers/dino.pdf', 'file_path': 'research_papers/dino.pdf', 'total_pages': 10, 'format': 'PDF 1.7', 'title': '', 'author': '', 'subject': '', 'keywords': '', 'moddate': '', 'trapped': '', 'modDate': '', 'creationDate': 'D:20250321115848', 'page': 1}, page_content='text speciﬁc, many existing self-supervised methods have\\nshown their potential on images with convnets [10, 12, 30,\\n33]. They typically share a similar structure but with differ-\\nent components designed to avoid trivial solutions (collapse)\\nor to improve performance [16]. In this work, inspired from\\nthese methods, we study the impact of self-supervised pre-\\ntraining on ViT features. Of particular interest, we have\\nidentiﬁed several interesting properties that do not emerge\\nwith supervised ViTs, nor with convnets:\\n• Self-supervised ViT features explicitly contain the\\nscene layout and, in particular, object boundaries, as\\nshown in Figure 1. This information is directly accessi-\\nble in the self-attention modules of the last block.\\n• Self-supervised ViT features perform particularly well\\nwith a basic nearest neighbors classiﬁer (k-NN) without\\nany ﬁnetuning, linear classiﬁer nor data augmentation,\\nachieving 78.3% top-1 accuracy on ImageNet.\\nThe emergence of segmentation masks seems to be a\\nproperty shared across self-supervised methods. However,\\nthe good performance with k-NN only emerge when com-\\nbining certain components such as momentum encoder [33]\\nand multi-crop augmentation [10]. Another ﬁnding from our\\nstudy is the importance of using smaller patches with ViTs\\nto improve the quality of the resulting features.\\nOverall, our ﬁndings about the importance of these\\ncomponents lead us to design a simple self-supervised ap-\\nproach that can be interpreted as a form of knowledge\\ndistillation [35] with no labels. The resulting framework,\\nDINO, simpliﬁes self-supervised training by directly pre-\\ndicting the output of a teacher network—built with a mo-\\nmentum encoder—by using a standard cross-entropy loss.\\nInterestingly, our method can work with only a centering\\nand sharpening of the teacher output to avoid collapse, while\\nother popular components such as predictor [30], advanced\\nnormalization [10] or contrastive loss [33] add little beneﬁts\\nin terms of stability or performance. Of particular impor-\\ntance, our framework is ﬂexible and works on both convnets\\nand ViTs without the need to modify the architecture, nor\\nadapt internal normalizations [58].\\nWe further validate the synergy between DINO and ViT\\nby outperforming previous self-supervised features on the\\nImageNet linear classiﬁcation benchmark with 80.1% top-1\\naccuracy with a ViT-Base with small patches. We also con-\\nﬁrm that DINO works with convnets by matching the state\\nof the art with a ResNet-50 architecture. Finally, we discuss\\ndifferent scenarios to use DINO with ViTs in case of limited\\ncomputation and memory capacity. In particular, training\\nDINO with ViT takes just two 8-GPU servers over 3 days\\nto achieve 76.1% on ImageNet linear benchmark, which\\noutperforms self-supervised systems based on convnets of\\ncomparable sizes with signiﬁcantly reduced compute require-\\nments [10, 30].\\nstudent gθs\\nx\\nx2\\nx1\\nteacher gθt\\ncentering\\nsg\\nsoftmax\\np1\\np2\\nsoftmax\\nloss:  \\n- p2 log p1\\nema\\nFigure 2: Self-distillation with no labels. We illustrate DINO in\\nthe case of one single pair of views (x1, x2) for simplicity. The\\nmodel passes two different random transformations of an input\\nimage to the student and teacher networks. Both networks have\\nthe same architecture but different parameters. The output of the\\nteacher network is centered with a mean computed over the batch.\\nEach networks outputs a K dimensional feature that is normalized\\nwith a temperature softmax over the feature dimension. Their\\nsimilarity is then measured with a cross-entropy loss. We apply a\\nstop-gradient (sg) operator on the teacher to propagate gradients\\nonly through the student. The teacher parameters are updated with\\nan exponential moving average (ema) of the student parameters.\\n2. Related work\\nSelf-supervised learning.\\nA large body of work on self-\\nsupervised learning focuses on discriminative approaches\\ncoined instance classiﬁcation [12, 20, 33, 73], which con-\\nsiders each image a different class and trains the model'),\n",
              " Document(metadata={'producer': 'PDFium', 'creator': 'PDFium', 'creationdate': 'D:20250321115848', 'source': 'research_papers/dino.pdf', 'file_path': 'research_papers/dino.pdf', 'total_pages': 10, 'format': 'PDF 1.7', 'title': '', 'author': '', 'subject': '', 'keywords': '', 'moddate': '', 'trapped': '', 'modDate': '', 'creationDate': 'D:20250321115848', 'page': 1}, page_content='2. Related work\\nSelf-supervised learning.\\nA large body of work on self-\\nsupervised learning focuses on discriminative approaches\\ncoined instance classiﬁcation [12, 20, 33, 73], which con-\\nsiders each image a different class and trains the model\\nby discriminating them up to data augmentations. How-\\never, explicitly learning a classiﬁer to discriminate be-\\ntween all images [20] does not scale well with the num-\\nber of images.\\nWu et al. [73] propose to use a noise\\ncontrastive estimator (NCE) [32] to compare instances in-\\nstead of classifying them. A caveat of this approach is\\nthat it requires comparing features from a large number\\nof images simultaneously. In practice, this requires large\\nbatches [12] or memory banks [33, 73]. Several variants\\nallow automatic grouping of instances in the form of cluster-\\ning [2, 8, 9, 36, 42, 74, 80, 85].\\nRecent works have shown that we can learn unsupervised\\nfeatures without discriminating between images. Of par-\\nticular interest, Grill et al. [30] propose a metric-learning\\nformulation called BYOL, where features are trained by\\nmatching them to representations obtained with a momentum\\nencoder. Methods like BYOL work even without a momen-\\ntum encoder, at the cost of a drop of performance [16, 30].\\nSeveral other works echo this direction, showing that one\\ncan match more elaborate representations [26, 27], train fea-\\ntures matching them to a uniform distribution [6] or by using\\nwhitening [23, 81]. Our approach takes its inspiration from\\nBYOL but operates with a different similarity matching loss')]"
            ]
          },
          "metadata": {},
          "execution_count": 15
        }
      ]
    },
    {
      "cell_type": "markdown",
      "source": [
        "### Create a Vector DB and persist on disk\n",
        "\n",
        "Here we initialize a connection to a Chroma vector DB client, and also we want to save to disk, so we simply initialize the Chroma client and pass the directory where we want the data to be saved to."
      ],
      "metadata": {
        "id": "-PnV9lAXZw9a"
      }
    },
    {
      "cell_type": "code",
      "source": [
        "from langchain_chroma import Chroma\n",
        "\n",
        "# create vector DB of docs and embeddings - takes < 30s on Colab\n",
        "chroma_db = Chroma.from_documents(documents=chunked_docs,\n",
        "                                  collection_name='rag_db',\n",
        "                                  embedding=openai_embed_model,\n",
        "                                  # need to set the distance function to cosine else it uses euclidean by default\n",
        "                                  # check https://docs.trychroma.com/guides#changing-the-distance-function\n",
        "                                  collection_metadata={\"hnsw:space\": \"cosine\"},\n",
        "                                  persist_directory=\"./rag_db\")"
      ],
      "metadata": {
        "id": "kRYfcrsHUxyZ"
      },
      "execution_count": 16,
      "outputs": []
    },
    {
      "cell_type": "markdown",
      "source": [
        "### Setup a Vector Database Retriever\n",
        "\n",
        "Here we use the following retrieval strategy:\n",
        "\n",
        "- Similarity with Threshold Retrieval\n"
      ],
      "metadata": {
        "id": "bprZC4S6TLfj"
      }
    },
    {
      "cell_type": "markdown",
      "source": [
        "### Similarity with Threshold Retrieval\n",
        "\n",
        "We use cosine similarity here and retrieve the top 5 similar documents based on the user input query and also introduce a cutoff to not return any documents which are below a certain similarity threshold"
      ],
      "metadata": {
        "id": "8foBD2xmCDYc"
      }
    },
    {
      "cell_type": "code",
      "source": [
        "similarity_threshold_retriever = chroma_db.as_retriever(search_type=\"similarity_score_threshold\",\n",
        "                                                        search_kwargs={\"k\": 5,\n",
        "                                                                       \"score_threshold\": 0.35})"
      ],
      "metadata": {
        "id": "6ROSNwqeCMRS"
      },
      "execution_count": 17,
      "outputs": []
    },
    {
      "cell_type": "markdown",
      "source": [
        "### Test out a few queries"
      ],
      "metadata": {
        "id": "_q68kFszS4O4"
      }
    },
    {
      "cell_type": "code",
      "source": [
        "query = \"what is PEFT?\"\n",
        "topk_docs = similarity_threshold_retriever.invoke(query)\n",
        "topk_docs"
      ],
      "metadata": {
        "id": "Nv93k_QpCZv7",
        "colab": {
          "base_uri": "https://localhost:8080/"
        },
        "outputId": "afbb7ab5-8a9d-440f-e1a6-c648eed7f3ae"
      },
      "execution_count": 18,
      "outputs": [
        {
          "output_type": "execute_result",
          "data": {
            "text/plain": [
              "[Document(id='938c2438-2fa4-4245-87ab-924189f2e0e9', metadata={'author': '', 'creationDate': 'D:20250321120420', 'creationdate': 'D:20250321120420', 'creator': 'PDFium', 'file_path': 'research_papers/peft.pdf', 'format': 'PDF 1.7', 'keywords': '', 'modDate': '', 'moddate': '', 'page': 0, 'producer': 'PDFium', 'source': 'research_papers/peft.pdf', 'subject': '', 'title': '', 'total_pages': 20, 'trapped': ''}, page_content='keeping the rest unaltered. Furthermore, the application of\\nPEFT extends beyond the realm of NLP and quickly attracts\\ninterest in the CV community for handling fine-tuning vision\\nmodels with large parameters, such as Vision Transformers\\n(ViT) and diffusion models, as well as disciplinary models\\nsuch as vision-language models.\\nIn this survey, we systematically review and categorize\\nrecent advancements in PEFT algorithms as well as the system\\nimplementation costs associated with various PEFT algorithms\\nacross diverse scenarios. Figure 1 presents the overview con-\\ntent for this survey. In section II, we present some fundamental\\nconcepts for LLM and PEFT, including computational flow\\nfor LLM, basic knowledge of PEFT, commonly used datasets\\nand tasks, and evaluation benchmarks. We categorize all\\ntypes of PEFT algorithms in Section III according to their\\ncomputational flow. In Section III-A, we detail additive algo-\\nrithms that either introduce new weight parameters or modify\\nactivations. Algorithms that only require fine-tuning of existing\\nparameters are categorized as selective approaches, which are\\nintroduced in Section III-B. In Section III-C, we explore\\nreparameterized PEFT, which constructs a (low- dimensional)\\nreparameterization of original model parameters for training\\nwhile transforming the weights back to maintain the inference\\nspeed. Additionally, there exist algorithms that combine the\\nabove techniques, and we have classified these as hybrid\\napproaches, elaborating on them in Section III-D. We also\\ninvestigate strategies for further reducing the computational\\ncomplexity of different PEFT algorithms, including KV-cache\\nmanagement, pruning, quantization, and memory optimization,\\nin Section IV.\\nIn Section V, we expand the scope of this survey beyond\\nthe computational perspective to involve various potential\\napplication scenarios. Specifically, we explore innovations that\\narXiv:2403.14608v7  [cs.LG]  16 Sep 2024'),\n",
              " Document(id='a63084f6-5158-4450-aa8f-71e97fcf0ff8', metadata={'author': '', 'creationDate': 'D:20250321120420', 'creationdate': 'D:20250321120420', 'creator': 'PDFium', 'file_path': 'research_papers/peft.pdf', 'format': 'PDF 1.7', 'keywords': '', 'modDate': '', 'moddate': '', 'page': 18, 'producer': 'PDFium', 'source': 'research_papers/peft.pdf', 'subject': '', 'title': '', 'total_pages': 20, 'trapped': ''}, page_content='mark for PEFT is still lacking. This gap hinders the ability\\nto fairly compare the performance and efficiency of different\\nPEFT approaches. A well-accepted, up-to-date benchmark\\nakin to MMDetection [255] for object detection would enable\\nresearchers to validate their methods against a standard set\\nof tasks and metrics, fostering innovation and collaboration\\nwithin the community.\\nC. Enhance training efficiency\\nThe presumed parameter efficiency of PEFT is not always\\nconsistent with computational and memory savings during\\ntraining. Given that trainable parameters are intertwined within\\nthe pre-trained model’s architecture, computing and storing\\nactivations and gradients for the full model often become\\nnecessary during fine-tuning. This oversight calls for a rethink-\\ning of what constitutes efficiency. As outlined in Section IV,\\npotential solutions lie in the integration of model compres-\\nsion techniques such as pruning and quantization, alongside\\ninnovations specifically designed to optimize memory during\\nPEFT tuning [256]. Further research into enhancing the com-\\nputational efficiency of PEFT methodologies is imperative.\\nD. Explore scaling laws\\nThe design and effectiveness of PEFT methods originally\\ndeveloped for smaller Transformer models do not necessarily\\nscale with larger models. As the size of foundation models\\nincreases, identifying and adapting PEFT strategies that remain\\neffective is crucial. This investigation will aid in customizing\\nPEFT methodologies to suit the evolving landscape of large\\nmodel architectures.\\nE. Serve more models and tasks\\nThe rise of large foundation models across various domains\\npresents new opportunities for PEFT. Designing PEFT meth-\\nods tailored to the unique characteristics of models, such as\\nSora [257], Mamba [258], and LVM [259], can unlock new\\napplication scenarios and opportunities.\\nF. Enhancing data privacy\\nTrusting centralized systems to serve or fine-tune personal-\\nized PEFT modules is yet another issue for system developers.\\nMultiple types of inversion attacks [260], [261] have been pro-\\nposed to reconstruct user’s data by hijacking the intermediate\\nresults. One perspective of future trust-worthy LLM system\\ndesign involves developing an encryption protocol for both\\npersonal data and intermediate training and inference results.'),\n",
              " Document(id='8d29c302-b1e9-42ee-b203-1e4ee5ac33d4', metadata={'author': '', 'creationDate': 'D:20250321120420', 'creationdate': 'D:20250321120420', 'creator': 'PDFium', 'file_path': 'research_papers/peft.pdf', 'format': 'PDF 1.7', 'keywords': '', 'modDate': '', 'moddate': '', 'page': 15, 'producer': 'PDFium', 'source': 'research_papers/peft.pdf', 'subject': '', 'title': '', 'total_pages': 20, 'trapped': ''}, page_content='content. To overcome this, IP-Adapter introduces a novel\\ndecoupled cross-attention mechanism to distinguish between\\ntext and image features. IP-Adapter adds an additional cross-\\nattention layer exclusively for image features in each cross-\\nattention layer, and only the parameters of the new cross-\\nattention layers are trained.\\nVI. SYSTEM DESIGN CHALLENGE FOR PEFT\\nA. System design for PEFT\\nIn this section, we begin by providing a concise overview\\nof cloud-based PEFT systems and analyzing the design chal-\\nlenges. These include the efficient handling of numerous task-\\nspecific queries via centralized PEFT query servicing, the\\nresolution of privacy and data transmission issues through\\ndistributed PEFT training, and the complexities associated\\nwith concurrent multi-PEFT training processes. Centralized\\nsystems are required to process a substantial volume of queries\\nwith minimal latency and maximal throughput. Distributed\\ntraining frameworks must address privacy concerns and the\\ncomputational inefficiencies that arise from data exchanges\\nbetween users and cloud services. Furthermore, multi-PEFT\\ntraining necessitates the optimization of memory utilization,\\nthe management of simultaneous model training, and the\\nformulation of system architectures capable of supporting\\nmulti-tenant workloads effectively. These challenges under-\\nscore the imperative for innovative approaches to improve\\nscalability, safeguard privacy, and optimize resource allocation\\nin PEFT system architectures. Following this, we present the\\ncorresponding metrics employed for evaluating the system\\nperformance. Furthermore, we delve into three prospective\\nutilization scenarios to illustrate the challenges in system\\ndesign.\\n1) Centralized PEFT Query Serving: Cloud providers have\\nrecently introduced a range of LLM services aimed at pro-\\nviding user applications through application programming\\ninterfaces (APIs) [246], [247]. These APIs facilitate the seam-\\nless integration of many machine-learning functionalities into\\napplications. When receiving one query for one specific down-\\nstream task through API, the cloud-based server processes the\\nquery with one featured LLM model. Under this scenario, the\\nimportance of PEFT becomes apparent. Cloud providers store\\nonly a single copy of the LLM and multiple PEFT modules\\nfeaturing different downstream tasks. This setup allows the\\nLLM to maintain various branches of PEFT modules, each\\nlinked to specific API queries, i.e., PEFT queries.\\nCentralized PEFT query serving solutions address scenarios\\nwhere multiple PEFT queries arrive in quick succession. A\\ncase study of one state-of-the-art system for this purpose\\nis discussed in Section VI-B. Figure 10 (b) illustrates the\\ncomputation pattern for multi-query PEFT inference, wherein\\npacked PEFT queries are scheduled and executed according\\nto their deadlines and current system conditions.\\n2) Distributed PEFT Training: In most cases, personal-\\nized tasks are not fully supported with pre-trained models,'),\n",
              " Document(id='a063943e-992f-4a46-b54b-47516a56f57e', metadata={'author': '', 'creationDate': 'D:20250321120420', 'creationdate': 'D:20250321120420', 'creator': 'PDFium', 'file_path': 'research_papers/peft.pdf', 'format': 'PDF 1.7', 'keywords': '', 'modDate': '', 'moddate': '', 'page': 16, 'producer': 'PDFium', 'source': 'research_papers/peft.pdf', 'subject': '', 'title': '', 'total_pages': 20, 'trapped': ''}, page_content='17\\nLLMs\\nEdge \\nDevice \\nPersonal data\\nCloud\\nTrainable \\nModules\\n🔥\\nFrozen Large Models\\nScheduler\\nRequest Pool\\nQuery\\nResponse\\nExecution\\nEngine\\nServing System\\nI like\\nI enjoy\\nLLM\\nprogramming\\n(a)\\n(b)\\nFig. 10: (a) Distributed-based system computation pattern; (b)\\ncentralized PEFT Query inference.\\nconsequently, extra fine-tuning is required to be executed\\nwith the methodologies mentioned in the previous sections.\\nHowever, significant concerns arise when considering the\\ntransfer of datasets to cloud providers, given the issues related\\nto data privacy, copyright, proprietary information, and the\\ncomplexities and inefficiencies involved in data transmission.\\nSection VI-C gives two approaches that address this concern.\\n3) Multi-PEFT Training: Different from multiple-PEFT\\nserving, tuning with multiple customized PEFTs always in-\\nvolves different backbone LLMs. Therefore, simultaneously\\ntuning multiple PEFTs can pose considerable challenges.\\nChallenges like how to manage memory gradient and model\\nweights storage, and how to design an efficient kernel for\\nbatching PEFT training remain unsolved. PEFTs will be cat-\\negorized based on their PEFT algorithms and backbone LLM\\nmodels. The design challenge involves how to consolidate\\nmultiple PEFTs with the same LLM backbone and multiple\\ndifferent LLM backbones simultaneously. We present case\\nstudies related to this topic in Section VI-D.\\n4) Evaluation Metrics: For the proposed evaluation met-\\nrics, without loss of generality, we adopt large language\\nmodels as the basis for our metric definitions.\\nTo evaluate the system performance of PEFT serving sys-\\ntems, we propose a set of evaluation metrics:\\n‚ System throughput: Considering PEFT queries as inter\\nand intra tasks, we use tokens per second to measure the\\nsystem throughput.\\n‚ Memory footprint: Run-time memory consumption dur-\\ning query serving, the memory utilization comes from\\nboth model parameters and KV-cache as mentioned in\\nSection IV-A.\\n‚ Accuracy performance: Real-world queries normally\\nhave different context lengths, and performance with\\nvariation length serves as a performance benchmark.\\n‚ Quality of services: Queries are associated with latency\\nrequirements and deadline missing rates are considered\\nas another benchmark.\\nTo assess the efficacy of PEFT training systems, we also\\nestablish a set of evaluative metrics:\\n‚ Accuracy performance: Performance of the fine-tuned\\nmodel over the downstream tasks.\\n‚ Compute cost: The compute cost during forward and\\nbackward propagation operations on cloud servers and\\nedge devices.\\n‚ Communication cost: Refers to the volume of data\\ninvolved during the transfer of intermediate data between\\nthe edge device and the cloud.\\nB. Centralized PEFT Serving Frameworks\\nThe PEFT algorithm is notable for its ability to distin-\\nguish between modifiable and immutable weights within a\\nmodel. This characteristic inspires developers to amalgamate\\ndiverse LLMs with distinct PEFT techniques into collective\\nunits. PetS, as introduced in [248], advocates for a com-\\nprehensive approach to managing multiple PEFT tasks by\\nsuggesting a unified serving framework. The framework’s\\ncore advancement lies in the translation of varying PEFT\\ntasks into integrated computation kernels to enhance efficiency.\\nMoreover, PetS pioneers an orchestrated batching approach\\nand a scheduling methodology, aiming to augment system\\nthroughput and leverage task parallelism respectively.\\nAs depicted in Figure 11, the PetS framework begins\\nwith users registering PEFT tasks through a standardized\\nApplication Programming Interface (API). Upon registration,\\ndevelopers are expected to provide the Pre-Trained Model Tag\\n(e.g., LLaMA), PEFT parameters in a compressed format,\\nand the specific PEFT algorithms (e.g., LoRA, Adapter, Bitfit,\\netc.). These tasks are then endowed with unique identifiers,\\nand the inference engine takes charge of query processing.\\nPetS bifurcates the primary computational workload (e.g.,'),\n",
              " Document(id='9dfb72ff-f946-4863-bb0d-22f28b72cf01', metadata={'author': '', 'creationDate': 'D:20250321120420', 'creationdate': 'D:20250321120420', 'creator': 'PDFium', 'file_path': 'research_papers/peft.pdf', 'format': 'PDF 1.7', 'keywords': '', 'modDate': '', 'moddate': '', 'page': 18, 'producer': 'PDFium', 'source': 'research_papers/peft.pdf', 'subject': '', 'title': '', 'total_pages': 20, 'trapped': ''}, page_content='19\\nThe second challenge is beyond the computational cost,\\ndesigning an efficient system architecture that can effectively\\nserve multi-tenant PEFT model workloads on the smallest set\\nof GPUs possible while occupying the least amount of GPU\\nresources is another significant challenge. Punica addresses\\nthis by scheduling user requests to active GPUs that already\\nserve or train PEFT models, thereby improving GPU utiliza-\\ntion. For older requests, Punica periodically migrates them to\\nconsolidate workloads, thus freeing up GPU resources for new\\nrequests.\\nb) Multi-Tenant PEFT design: Designing an efficient\\nsystem for the multi-tenant PEFT model serving in the Punica\\nframework focuses on addressing several key challenges to\\nmaximize hardware utilization and minimize resource con-\\nsumption. The system aims to consolidate multi-tenant LoRA\\nserving workloads onto the smallest set of GPUs possible. This\\nconsolidation is achieved through strategic scheduling of user\\nrequests to active GPUs that are already serving or training\\nLoRA models, thereby improving GPU utilization. For older\\nrequests, Punica periodically migrates them to consolidate\\nworkloads further, thus freeing up GPU resources for new\\nrequests. It incorporates on-demand loading of LoRA model\\nweights, which introduces only millisecond-level latency. This\\nfeature provides Punica with the flexibility to dynamically\\nconsolidate user requests to a small set of GPUs, without being\\nconstrained by the specific LoRA models already running on\\nthose GPUs. Besides that, Punica identifies that the decode\\nstage is a predominant factor in the cost of model serving,\\nPunica’s design primarily focuses on optimizing decode stage\\nperformance. Other aspects of model serving leverage straight-\\nforward techniques, such as on-demand loading of LoRA\\nmodel weights, to efficiently manage resource utilization.\\nVII. CONCLUSION AND FUTURE DIRECTIONS\\nIn the current era dominated by large models and large\\ndatasets, PEFT stands out as a highly attractive method for\\nefficiently adapting models to downstream tasks. This tech-\\nnique gains its appeal by addressing the significant challenges\\nposed by traditional full-model fine-tuning, which often places\\nsubstantial computational and data demands. This survey of-\\nfers a comprehensive examination of the most recent advance-\\nments in PEFT, including algorithmic design, computational\\nefficiency, application scenarios, and system implementation\\nfor PEFT. It offers a comprehensive taxonomy and explanation\\nthat serves as an excellent guidance and knowledge base,\\nwhich enables readers of various levels and disciplines to\\nswiftly grasp the core concepts of PEFT.\\nFor further research on PEFT, we propose a series of pos-\\nsible directions from both algorithm and system perspectives,\\nhoping to inspire more researchers to engage in further studies\\nin these areas.\\nA. Simplify hyperparameter tuning\\nThe effectiveness of PEFT is often sensitive to its hyperpa-\\nrameters, such as the bottleneck dimension of the adapter, the\\nrank of LoRA, and the arrangement of various additive PEFT\\nlayers. Manually tuning these hyperparameters will cost lots\\nof effort. Therefore, future efforts could focus on developing\\nmethods that are less dependent on manual tuning of these\\nparameters, or automatically find the optimal configuration\\nsettings. Several studies [82], [83], [84], [98], [99], [100] have\\nstarted to address this issue, but there’s a need for more simple\\nand efficient solutions optimizing these hyperparameters.\\nB. Establish a unified benchmark\\nDespite the existence of libraries like HuggingFace’s\\nPEFT [253] and AdapterHub [254], a comprehensive bench-\\nmark for PEFT is still lacking. This gap hinders the ability\\nto fairly compare the performance and efficiency of different\\nPEFT approaches. A well-accepted, up-to-date benchmark\\nakin to MMDetection [255] for object detection would enable\\nresearchers to validate their methods against a standard set')]"
            ]
          },
          "metadata": {},
          "execution_count": 18
        }
      ]
    },
    {
      "cell_type": "markdown",
      "source": [
        "Looks like it is getting relevant documents from the vector DB"
      ],
      "metadata": {
        "id": "7miJY5r9S8ms"
      }
    },
    {
      "cell_type": "code",
      "source": [
        "query = \"what are AI Agents?\"\n",
        "topk_docs = similarity_threshold_retriever.invoke(query)\n",
        "topk_docs"
      ],
      "metadata": {
        "id": "3Nfg_PAaiC2y",
        "colab": {
          "base_uri": "https://localhost:8080/"
        },
        "outputId": "13c62585-2ca1-4d44-dedc-822156b50798"
      },
      "execution_count": 19,
      "outputs": [
        {
          "output_type": "stream",
          "name": "stderr",
          "text": [
            "WARNING:langchain_core.vectorstores.base:No relevant docs were retrieved using the relevance score threshold 0.35\n"
          ]
        },
        {
          "output_type": "execute_result",
          "data": {
            "text/plain": [
              "[]"
            ]
          },
          "metadata": {},
          "execution_count": 19
        }
      ]
    },
    {
      "cell_type": "markdown",
      "source": [
        "Whoops seems like there exists no relevant docs for this. The Adaptive RAG System should be able to handle this also"
      ],
      "metadata": {
        "id": "5Jw2knBlS_tM"
      }
    },
    {
      "cell_type": "markdown",
      "source": [
        "## Create AI Workflows and Tools for Key Components in our Agentic RAG System\n",
        "\n",
        "There are a few AI workflows (sequential pipelines) and tools we would need to create which we will be using in different steps in our Agentic Adaptive RAG workflow. These include:\n",
        "\n",
        "- **Query Source Classifier:** This is an essential workflow which can take in a user query, analyze it with an LLM and return the optimal data source which can be used to answer this query - in our case it will either be `vectordb` or `web_search`\n",
        "\n",
        "- **VectorDB Query Rewriter Workflow:** This is a workflow which uses an LLM to rewrite the given user query (if needed) and make it more optimized for retrieval from a vector database\n",
        "\n",
        "- **Web Search Query Rewriter Workflow:** This is a workflow which uses an LLM to rewrite the given user query (if needed) and make it more optimized for web search\n",
        "\n",
        "- **Query Retrieval Grader Workflow:** This is an essential workflow which can take in a user query, a list of retrieved documents from the vector DB and grade each context document as 'yes' or 'no' based on if the document is relevant to the user query or not\n",
        "\n",
        "- **QA RAG Workflow:** This is a workflow which can take in a user query, list of retrived context documents and use a standard RAG workflow where an LLM uses these context documents to generate a contextual response for the user query\n",
        "\n",
        "- **Hallucination Checker Workflow:** This is an essential workflow which can take in the RAG generated response from the LLM, the list of context documents and uses an LLM as a judge to check if the generated response is grounded in the facts mentioned in the context documents. If there are any contradictions or hallucinations it grades it as 'yes' or else 'no' and it also creates 'feedback' which contains the reasoning from the LLM judge as to why the grade was 'yes' or 'no'.\n",
        "\n",
        "- **Web Search Tool:** Build a custom tool which uses the Tavily Search API to search for a user query, get the top web page results and also extract the text content from those web pages\n",
        "\n",
        "Most of these workflows will be built as LangChain chains (pipelines)"
      ],
      "metadata": {
        "id": "ZyyigxMUTStB"
      }
    },
    {
      "cell_type": "markdown",
      "source": [
        "### Create a Query Source Classifier workflow\n",
        "\n",
        "This is an essential workflow which can take in a user query, analyze it with an LLM and return the optimal data source which can be used to answer this query - in our case it will either be `vectordb` or `web_search`"
      ],
      "metadata": {
        "id": "dWVO2Qssq0kC"
      }
    },
    {
      "cell_type": "code",
      "source": [
        "from typing import Literal\n",
        "\n",
        "from langchain_core.prompts import ChatPromptTemplate\n",
        "from pydantic import BaseModel, Field\n",
        "from langchain_openai import ChatOpenAI\n",
        "\n",
        "\n",
        "# Data model\n",
        "class QuerySource(BaseModel):\n",
        "    \"\"\"Classify a user query in terms of what datasource should be useful for answering the query.\"\"\"\n",
        "\n",
        "    datasource: Literal[\"vectordb\", \"web_search\"] = Field(\n",
        "        description=\"Given a user question classifies it to either web_search or vectordb depending on which source is more useful to answer the query.\",\n",
        "    )\n",
        "\n",
        "\n",
        "# LLM for classification\n",
        "llm = ChatOpenAI(model=\"gpt-4o\", temperature=0)\n",
        "qs_llm_router = llm.with_structured_output(QuerySource)\n",
        "\n",
        "# Prompt\n",
        "QS_SYS = \"\"\"You are an expert at deciding if a user question should be answered using a vector database (vectordb) or by searching the web (web_search).\n",
        "The vectorstore has documents related to the following topics:\n",
        "  - Chain of Thought Prompting\n",
        "  - Transformer Language Model and Attention Mechanisms (self-attention, multi-headed attention etc.)\n",
        "  - Self supervised vision transformers like the DINO model\n",
        "  - Diffusion generative models\n",
        "  - Parameter efficient fine-tuning techniques for language models (PEFT, LoRa, Prompt tuning etc.)\n",
        "\n",
        "Given the following user query, analyze it carefully and try to see if it is related to any of the above mentioned topics.\n",
        "Remember to focus on the overall meaning and concepts related to the above topics and not just keywords.\n",
        "If there is a relation then return vectordb as the source else return web_search.\n",
        "\"\"\"\n",
        "qs_prompt = ChatPromptTemplate.from_messages(\n",
        "    [\n",
        "        (\"system\", QS_SYS),\n",
        "        (\"human\", \"{question}\"),\n",
        "    ]\n",
        ")\n",
        "\n",
        "# Query source classifier\n",
        "qs_classifier = qs_prompt | qs_llm_router"
      ],
      "metadata": {
        "id": "Y4j7jiXGindI"
      },
      "execution_count": 20,
      "outputs": []
    },
    {
      "cell_type": "code",
      "source": [
        "qs_classifier.invoke({\"question\": \"what is chain of thought prompting?\"})"
      ],
      "metadata": {
        "id": "7Rp7K3bEXw3a",
        "colab": {
          "base_uri": "https://localhost:8080/"
        },
        "outputId": "7a9d986b-f301-43a2-fea4-1a9239cf9e6e"
      },
      "execution_count": 21,
      "outputs": [
        {
          "output_type": "execute_result",
          "data": {
            "text/plain": [
              "QuerySource(datasource='vectordb')"
            ]
          },
          "metadata": {},
          "execution_count": 21
        }
      ]
    },
    {
      "cell_type": "code",
      "source": [
        "qs_classifier.invoke({\"question\": \"what is an AI Agent?\"})"
      ],
      "metadata": {
        "id": "bO83H10MYh-g",
        "colab": {
          "base_uri": "https://localhost:8080/"
        },
        "outputId": "4c47ac81-f881-4c80-9b95-c31503aa550a"
      },
      "execution_count": 22,
      "outputs": [
        {
          "output_type": "execute_result",
          "data": {
            "text/plain": [
              "QuerySource(datasource='web_search')"
            ]
          },
          "metadata": {},
          "execution_count": 22
        }
      ]
    },
    {
      "cell_type": "code",
      "source": [
        "qs_classifier.invoke({\"question\": \"Explain popular design patterns of Agentic AI Systems in detail\"})"
      ],
      "metadata": {
        "id": "gFLMiPfTYmj6",
        "colab": {
          "base_uri": "https://localhost:8080/"
        },
        "outputId": "c020c5c6-57b4-406d-e096-74f1dcf66c89"
      },
      "execution_count": 23,
      "outputs": [
        {
          "output_type": "execute_result",
          "data": {
            "text/plain": [
              "QuerySource(datasource='web_search')"
            ]
          },
          "metadata": {},
          "execution_count": 23
        }
      ]
    },
    {
      "cell_type": "markdown",
      "source": [
        "### Create a VectorDB Query Rewriter Workflow\n",
        "\n",
        "This is a workflow which uses an LLM to rewrite the given user query (if needed) and make it more optimized for retrieval from a vector database"
      ],
      "metadata": {
        "id": "3YTuhEMJb6eV"
      }
    },
    {
      "cell_type": "code",
      "source": [
        "from langchain_core.output_parsers import StrOutputParser\n",
        "\n",
        "# LLM\n",
        "llm = ChatOpenAI(model=\"gpt-4o\", temperature=0)\n",
        "\n",
        "# Prompt\n",
        "VDB_REWRITER_SYS = \"\"\"You are an expert in analyzing input queries and rewriting or rephrasing them if necessary,\n",
        "to make them more optimized for better retrieval from a vector database which uses semantic search.\n",
        "Given the following input query or task, analyze it carefully and try to reason about the underlying semantic intent / meaning carefully before rephrasing.\n",
        "Focus more on rephrasing it to an optimized query which can retrieve data optimally from a vector database using similairty search.\n",
        "Remember to rephrase only if necessary and make the query concise, to the point.\n",
        "Just return the query and nothing else.\"\"\"\n",
        "vdb_query_rewrite_prompt = ChatPromptTemplate.from_messages(\n",
        "    [\n",
        "        (\"system\", VDB_REWRITER_SYS),\n",
        "        (\n",
        "            \"human\",\n",
        "            \"\"\"Here is the initial user query:\n",
        "               {query}\n",
        "\n",
        "               Rephrase the query for an improved version. Do NOT answer the query.\n",
        "            \"\"\",\n",
        "        ),\n",
        "    ]\n",
        ")\n",
        "\n",
        "# VectorDB Query Rewriter\n",
        "vdb_query_rewriter = vdb_query_rewrite_prompt | llm | StrOutputParser()"
      ],
      "metadata": {
        "id": "MUpixs1vcCwr"
      },
      "execution_count": 24,
      "outputs": []
    },
    {
      "cell_type": "code",
      "source": [
        "vdb_query_rewriter.invoke('what is CoT prompting?')"
      ],
      "metadata": {
        "id": "QcRlHo05dyIB",
        "colab": {
          "base_uri": "https://localhost:8080/",
          "height": 35
        },
        "outputId": "5be0e7f6-744d-4099-a518-4ca5b78097f2"
      },
      "execution_count": 25,
      "outputs": [
        {
          "output_type": "execute_result",
          "data": {
            "text/plain": [
              "'What is Chain of Thought (CoT) prompting?'"
            ],
            "application/vnd.google.colaboratory.intrinsic+json": {
              "type": "string"
            }
          },
          "metadata": {},
          "execution_count": 25
        }
      ]
    },
    {
      "cell_type": "code",
      "source": [
        "vdb_query_rewriter.invoke('Explain popular design patterns of Agentic AI Systems in detail')"
      ],
      "metadata": {
        "id": "Wgs05JFFd-Ud",
        "colab": {
          "base_uri": "https://localhost:8080/",
          "height": 35
        },
        "outputId": "360a13a6-837d-4bd0-cd76-43475bd304a0"
      },
      "execution_count": 26,
      "outputs": [
        {
          "output_type": "execute_result",
          "data": {
            "text/plain": [
              "'Detail popular design patterns in Agentic AI Systems.'"
            ],
            "application/vnd.google.colaboratory.intrinsic+json": {
              "type": "string"
            }
          },
          "metadata": {},
          "execution_count": 26
        }
      ]
    },
    {
      "cell_type": "markdown",
      "source": [
        "### Create a Web Search Query Rewriter Workflow\n",
        "\n",
        "This is a workflow which uses an LLM to rewrite the given user query (if needed) and make it more optimized for web search"
      ],
      "metadata": {
        "id": "6W_bNF4Rb10V"
      }
    },
    {
      "cell_type": "code",
      "source": [
        "# LLM\n",
        "llm = ChatOpenAI(model=\"gpt-4o\", temperature=0)\n",
        "\n",
        "# Prompt\n",
        "WS_REWRITER_SYS = \"\"\"You are an expert in analyzing input queries and rewriting or rephrasing them if necessary,\n",
        "to make them more optimized for searching on the web.\n",
        "Given the following input query or task, analyze it carefully and try to reason about the underlying semantic intent / meaning carefully before rephrasing.\n",
        "Focus more on rephrasing it to an optimized query which can get the right information from web search.\n",
        "Remember to rephrase only if necessary and make the query concise, to the point.\n",
        "Just return the query and nothing else.\"\"\"\n",
        "ws_query_rewrite_prompt = ChatPromptTemplate.from_messages(\n",
        "    [\n",
        "        (\"system\", WS_REWRITER_SYS),\n",
        "        (\n",
        "            \"human\",\n",
        "            \"\"\"Here is the initial user query:\n",
        "               {query}\n",
        "\n",
        "               Rephrase the query for an improved version. Do NOT answer the query.\n",
        "            \"\"\",\n",
        "        ),\n",
        "    ]\n",
        ")\n",
        "\n",
        "# Web Search Query Rewriter\n",
        "ws_query_rewriter = ws_query_rewrite_prompt | llm | StrOutputParser()"
      ],
      "metadata": {
        "id": "srnKGZNhfUb8"
      },
      "execution_count": 27,
      "outputs": []
    },
    {
      "cell_type": "code",
      "source": [
        "ws_query_rewriter.invoke('what is CoT prompting?')"
      ],
      "metadata": {
        "id": "-0tvV5cyfkCa",
        "colab": {
          "base_uri": "https://localhost:8080/",
          "height": 35
        },
        "outputId": "c5725fc3-a60d-4226-ff9f-de542ff8842a"
      },
      "execution_count": 28,
      "outputs": [
        {
          "output_type": "execute_result",
          "data": {
            "text/plain": [
              "'What is Chain of Thought (CoT) prompting?'"
            ],
            "application/vnd.google.colaboratory.intrinsic+json": {
              "type": "string"
            }
          },
          "metadata": {},
          "execution_count": 28
        }
      ]
    },
    {
      "cell_type": "code",
      "source": [
        "ws_query_rewriter.invoke('Explain popular design patterns of Agentic AI Systems in detail')"
      ],
      "metadata": {
        "id": "8ipEVGcVflxM",
        "colab": {
          "base_uri": "https://localhost:8080/",
          "height": 35
        },
        "outputId": "0ada22b3-7ef5-4024-ffb0-1e3e354a7cb7"
      },
      "execution_count": 29,
      "outputs": [
        {
          "output_type": "execute_result",
          "data": {
            "text/plain": [
              "'Detailed explanation of popular design patterns in Agentic AI Systems'"
            ],
            "application/vnd.google.colaboratory.intrinsic+json": {
              "type": "string"
            }
          },
          "metadata": {},
          "execution_count": 29
        }
      ]
    },
    {
      "cell_type": "markdown",
      "source": [
        "### Create a Query Retrieval Grader Workflow\n",
        "\n",
        "This is an essential workflow which can take in a user query, a list of retrieved documents from the vector DB and grade each query as 'yes' or 'no' based on if the document is relevant to the user query or not"
      ],
      "metadata": {
        "id": "m3jIcXuErQia"
      }
    },
    {
      "cell_type": "code",
      "source": [
        "from langchain_core.prompts import ChatPromptTemplate\n",
        "from pydantic import BaseModel, Field\n",
        "from langchain_openai import ChatOpenAI\n",
        "\n",
        "\n",
        "# Data model for LLM output format\n",
        "class GradeDocuments(BaseModel):\n",
        "    \"\"\"Binary score for relevance check on retrieved documents.\"\"\"\n",
        "    binary_score: str = Field(\n",
        "        description=\"Documents are relevant to the question, 'yes' or 'no'\"\n",
        "    )\n",
        "\n",
        "\n",
        "# LLM for grading\n",
        "llm = ChatOpenAI(model=\"gpt-4o\", temperature=0)\n",
        "structured_llm_grader = llm.with_structured_output(GradeDocuments)\n",
        "\n",
        "# Prompt template for grading\n",
        "SYS_PROMPT = \"\"\"You are an expert grader assessing relevance of a retrieved document to a user question.\n",
        "                Follow these instructions for grading:\n",
        "                  - If the document contains keyword(s) or semantic meaning related to the question, grade it as relevant.\n",
        "                  - The overall grade should focus more on the semantic meaning rather than just individual words.\n",
        "                  - Your grade should be either 'yes' or 'no' to indicate whether the document is relevant to the question or not.\n",
        "             \"\"\"\n",
        "grade_prompt = ChatPromptTemplate.from_messages(\n",
        "    [\n",
        "        (\"system\", SYS_PROMPT),\n",
        "        (\"human\", \"\"\"Retrieved document:\n",
        "                     {document}\n",
        "\n",
        "                     User question:\n",
        "                     {question}\n",
        "                  \"\"\"),\n",
        "    ]\n",
        ")\n",
        "\n",
        "# Build grader chain\n",
        "doc_grader = (grade_prompt\n",
        "                  |\n",
        "              structured_llm_grader)"
      ],
      "metadata": {
        "id": "-lzWTNGfj2Tj"
      },
      "execution_count": 30,
      "outputs": []
    },
    {
      "cell_type": "code",
      "source": [
        "query = 'What is Chain of Thought (CoT) prompting?'\n",
        "topk_docs = similarity_threshold_retriever.invoke(query)\n",
        "for doc in topk_docs:\n",
        "    print(doc.page_content[:200])\n",
        "    print('GRADE:', doc_grader.invoke({\"question\": query, \"document\": doc.page_content}))\n",
        "    print()"
      ],
      "metadata": {
        "id": "SIQgbTj1gYC5",
        "colab": {
          "base_uri": "https://localhost:8080/"
        },
        "outputId": "953f595c-eeb8-444c-ad4e-095778df6c45"
      },
      "execution_count": 31,
      "outputs": [
        {
          "output_type": "stream",
          "name": "stdout",
          "text": [
            "the patterns underlying inputs and outputs via a large training dataset).\n",
            "2\n",
            "Chain-of-Thought Prompting\n",
            "Consider one’s own thought process when solving a complicated reasoning task such as a multi-step\n",
            "GRADE: binary_score='yes'\n",
            "\n",
            "Chain-of-Thought Prompting Elicits Reasoning\n",
            "in Large Language Models\n",
            "Jason Wei\n",
            "Xuezhi Wang\n",
            "Dale Schuurmans\n",
            "Maarten Bosma\n",
            "Brian Ichter\n",
            "Fei Xia\n",
            "Ed H. Chi\n",
            "Quoc V. Le\n",
            "Denny Zhou\n",
            "Google Research, Brain Te\n",
            "GRADE: binary_score='yes'\n",
            "\n",
            "experiments on commonsense reasoning underscored how the linguistic nature of chain-of-thought\n",
            "reasoning makes it generally applicable (Section 4). Finally, we showed that for symbolic reasoning,\n",
            "chai\n",
            "GRADE: binary_score='yes'\n",
            "\n",
            "et al., 2022). Whereas these approaches improve or augment the input part of the prompt (e.g.,\n",
            "instructions that are prepended to inputs), our work takes the orthogonal direction of augmenting the\n",
            "out\n",
            "GRADE: binary_score='yes'\n",
            "\n",
            "1\n",
            "Introduction\n",
            "Math Word Problems (GSM8K)\n",
            "0\n",
            "20\n",
            "40\n",
            "60\n",
            "80\n",
            "100\n",
            "33\n",
            "55\n",
            "18\n",
            "57\n",
            "Solve rate (%)\n",
            "Finetuned GPT-3 175B\n",
            "Prior best\n",
            "PaLM 540B: standard prompting\n",
            "PaLM 540B: chain-of-thought prompting\n",
            "Figure 2:\n",
            "PaL\n",
            "GRADE: binary_score='yes'\n",
            "\n"
          ]
        }
      ]
    },
    {
      "cell_type": "code",
      "source": [
        "query = 'Explain popular design patterns of Agentic AI Systems in detail?'\n",
        "topk_docs = similarity_threshold_retriever.invoke(query)\n",
        "for doc in topk_docs:\n",
        "    print(doc.page_content[:200])\n",
        "    print('GRADE:', doc_grader.invoke({\"question\": query, \"document\": doc.page_content}))\n",
        "    print()"
      ],
      "metadata": {
        "id": "PHLZv6B-gipo",
        "colab": {
          "base_uri": "https://localhost:8080/"
        },
        "outputId": "237d5f85-eb3a-4330-a52a-8f81354dfb0d"
      },
      "execution_count": 32,
      "outputs": [
        {
          "output_type": "stream",
          "name": "stdout",
          "text": [
            "self-attention and discuss its advantages over models such as [17, 18] and [9].\n",
            "3\n",
            "Model Architecture\n",
            "Most competitive neural sequence transduction models have an encoder-decoder structure [5, 2, 35].\n",
            "\n",
            "GRADE: binary_score='no'\n",
            "\n",
            "20\n",
            "G. PEFT with model compression\n",
            "Model compression is one of the most effective ways to\n",
            "make LLM executable on resource-limited devices. Yet, the\n",
            "impact of model compression techniques on the perform\n",
            "GRADE: binary_score='no'\n",
            "\n",
            "7\n",
            "V\n",
            "K\n",
            "Q\n",
            "⊙\n",
            "lk\n",
            "lv\n",
            "lff\n",
            "⊙\n",
            "softmax\n",
            "Wdown\n",
            "𝛔\n",
            "⊙\n",
            "Wup\n",
            "(a) (IA)3\n",
            "⊙\n",
            "⊕\n",
            "Operation 1\n",
            "Operation 2\n",
            "(b) SSF\n",
            "scale\n",
            "shift\n",
            "Fig. 6: Illustration of (IA)3 and SSF. Blue represents frozen,\n",
            "while yellow represents trainable.\n",
            "\n",
            "GRADE: binary_score='no'\n",
            "\n"
          ]
        }
      ]
    },
    {
      "cell_type": "markdown",
      "source": [
        "### Create a QA RAG Workflow\n",
        "\n",
        "This is a workflow which can take in a user query, list of retrived context documents and use a standard RAG workflow where an LLM uses these context documents to generate a contextual response for the user query\n",
        "\n",
        "It can also optionally take in feedback from a LLM Hallucination Grader telling what were the issues with the previous response generated by this RAG chain and try to fix those issues when generating the answer again"
      ],
      "metadata": {
        "id": "Bfn4Z4Em55bb"
      }
    },
    {
      "cell_type": "code",
      "source": [
        "from langchain_core.prompts import ChatPromptTemplate\n",
        "from langchain_openai import ChatOpenAI\n",
        "from langchain_core.runnables import RunnablePassthrough, RunnableLambda\n",
        "from langchain_core.output_parsers import StrOutputParser\n",
        "from operator import itemgetter\n",
        "\n",
        "# Create RAG prompt for response generation\n",
        "prompt = \"\"\"You are an assistant for question-answering tasks on popular research topics.\n",
        "            Use the following pieces of retrieved context to answer the question.\n",
        "            If no context is present or if you don't know the answer, just say that you don't know the answer.\n",
        "            Do not make up the answer unless it is there in the provided context.\n",
        "            Give a detailed answer and to the point answer with regard to the question.\n",
        "\n",
        "            In case the feedback section below is not empty, reflect on the feedback given based on the last generated response\n",
        "            and try to incorporate the feedback and generate an improved response.\n",
        "\n",
        "            Question:\n",
        "            {question}\n",
        "\n",
        "            Context:\n",
        "            {context}\n",
        "\n",
        "            Feedback from last response generated for question:\n",
        "            {feedback}\n",
        "\n",
        "            Answer:\n",
        "         \"\"\"\n",
        "prompt_template = ChatPromptTemplate.from_template(prompt, optional_variables=['feedback'])\n",
        "\n",
        "# Initialize connection with GPT-4o\n",
        "chatgpt = ChatOpenAI(model_name='gpt-4o', temperature=0)\n",
        "# Used for separating context docs with new lines\n",
        "def format_docs(docs):\n",
        "    return \"\\n\\n\".join(doc.page_content for doc in docs)\n",
        "\n",
        "# create QA RAG chain\n",
        "qa_rag_chain = (\n",
        "    {\n",
        "        \"context\": (itemgetter('context')\n",
        "                        |\n",
        "                    RunnableLambda(format_docs)),\n",
        "        \"question\": itemgetter('question'),\n",
        "        \"feedback\": lambda x: itemgetter('feedback')(x) if 'feedback' in x else ''\n",
        "    }\n",
        "      |\n",
        "    prompt_template\n",
        "      |\n",
        "    chatgpt\n",
        "      |\n",
        "    StrOutputParser()\n",
        ")"
      ],
      "metadata": {
        "id": "8Pu5U9HNkl-q"
      },
      "execution_count": 33,
      "outputs": []
    },
    {
      "cell_type": "code",
      "source": [
        "query = \"What is Chain of Thought (CoT) prompting?\"\n",
        "topk_docs = similarity_threshold_retriever.invoke(query)\n",
        "result = qa_rag_chain.invoke(\n",
        "    {\"context\": topk_docs, \"question\": query}\n",
        ")\n",
        "print(result)"
      ],
      "metadata": {
        "id": "9Wj-MZr2eEq8",
        "colab": {
          "base_uri": "https://localhost:8080/"
        },
        "outputId": "88bb9bf6-67eb-4866-ebba-7d03fc764cf6"
      },
      "execution_count": 34,
      "outputs": [
        {
          "output_type": "stream",
          "name": "stdout",
          "text": [
            "Chain of Thought (CoT) prompting is a technique used to enhance the reasoning capabilities of large language models. It involves guiding the model to generate a series of intermediate reasoning steps, akin to a human's thought process, to solve complex problems. This method is particularly useful for tasks that require multi-step reasoning, such as arithmetic, commonsense, and symbolic reasoning tasks.\n",
            "\n",
            "The core idea behind CoT prompting is to provide the model with examples that include not just the input and the final output, but also the intermediate steps that lead to the solution. For instance, when solving a math word problem, instead of directly providing the answer, the model is prompted to break down the problem into smaller, manageable steps and solve each one sequentially. This approach mimics how humans typically tackle complex problems by decomposing them into simpler parts.\n",
            "\n",
            "Experiments have shown that CoT prompting significantly improves the performance of large language models on various reasoning tasks. For example, using CoT prompting with the PaLM 540B model achieved state-of-the-art accuracy on the GSM8K benchmark for math word problems, surpassing even fine-tuned models like GPT-3 with a verifier.\n",
            "\n",
            "One of the key advantages of CoT prompting is that it does not require fine-tuning the model with a large dataset. Instead, it leverages few-shot learning by providing a few examples with detailed reasoning steps. This makes it a cost-effective method for enhancing the reasoning abilities of language models without the need for extensive training data.\n",
            "\n",
            "However, there are some limitations to CoT prompting. While it emulates human reasoning processes, it does not necessarily mean that the model is truly \"reasoning\" in the human sense. Additionally, the emergence of CoT reasoning is more pronounced in larger models, which can be costly to deploy in real-world applications. There is also no guarantee that the reasoning paths generated by the model will always be correct, which can lead to both correct and incorrect answers.\n",
            "\n",
            "Overall, Chain of Thought prompting is a promising approach to expanding the range of tasks that large language models can perform successfully, by enhancing their ability to reason through complex problems.\n"
          ]
        }
      ]
    },
    {
      "cell_type": "code",
      "source": [
        "query = \"What is Chain of Thought (CoT) prompting?\"\n",
        "topk_docs = similarity_threshold_retriever.invoke(query)\n",
        "result = qa_rag_chain.invoke(\n",
        "    {\"context\": topk_docs, \"question\": query, \"feedback\": \"The answer was not having enough depth last time, please fix it\"}\n",
        ")\n",
        "print(result)"
      ],
      "metadata": {
        "id": "6_W2AoqYtbUG",
        "colab": {
          "base_uri": "https://localhost:8080/"
        },
        "outputId": "0ddbd3e6-2e9d-43e6-9f41-9643da1b0384"
      },
      "execution_count": 35,
      "outputs": [
        {
          "output_type": "stream",
          "name": "stdout",
          "text": [
            "Chain of Thought (CoT) prompting is a technique used to enhance the reasoning capabilities of large language models by guiding them through a series of intermediate reasoning steps, similar to how humans solve complex problems. This method involves providing the model with a structured prompt that includes not just the input and the expected output, but also a detailed sequence of logical steps that lead to the final answer. This approach is particularly useful for tasks that require multi-step reasoning, such as arithmetic, commonsense, and symbolic reasoning problems.\n",
            "\n",
            "The concept is inspired by the natural human cognitive process where a problem is broken down into smaller, manageable parts, each solved sequentially to arrive at the final solution. For example, when solving a math word problem, one might first calculate intermediate values before arriving at the final answer. CoT prompting aims to replicate this process in language models by including these intermediate steps in the prompt.\n",
            "\n",
            "Research has shown that CoT prompting significantly improves the performance of large language models on complex reasoning tasks. For instance, experiments with models like PaLM 540B have demonstrated that using CoT prompting can achieve state-of-the-art results on benchmarks such as the GSM8K math word problem dataset, outperforming even fine-tuned models like GPT-3 with a verifier.\n",
            "\n",
            "One of the key advantages of CoT prompting is that it does not require fine-tuning the model with a large dataset. Instead, it leverages few-shot learning, where the model is prompted with a few examples that include the chain of thought. This makes it a cost-effective method for enhancing reasoning capabilities without the need for extensive retraining.\n",
            "\n",
            "However, there are limitations to this approach. While CoT prompting can emulate human-like reasoning processes, it does not necessarily mean that the model is truly \"reasoning\" in the human sense. Additionally, the accuracy of the reasoning paths generated by the model is not guaranteed, which can lead to both correct and incorrect answers. Furthermore, the effectiveness of CoT prompting is more pronounced in larger models, which can be costly to deploy in real-world applications.\n",
            "\n",
            "Overall, Chain of Thought prompting represents a promising direction for improving the reasoning abilities of language models, expanding the range of tasks they can perform successfully, and inspiring further research into language-based reasoning approaches.\n"
          ]
        }
      ]
    },
    {
      "cell_type": "code",
      "source": [
        "query = \"Explain self-attention in detail\"\n",
        "topk_docs = similarity_threshold_retriever.invoke(query)\n",
        "result = qa_rag_chain.invoke(\n",
        "    {\"context\": topk_docs, \"question\": query}\n",
        ")\n",
        "print(result)"
      ],
      "metadata": {
        "id": "sE1VFHXvhSau",
        "colab": {
          "base_uri": "https://localhost:8080/"
        },
        "outputId": "c844ff54-4dfc-46f4-aaae-5466f4af1d40"
      },
      "execution_count": 36,
      "outputs": [
        {
          "output_type": "stream",
          "name": "stdout",
          "text": [
            "Self-attention is a mechanism used in neural networks, particularly in models like Transformers, to compute a representation of a sequence by relating different positions within the same sequence. It allows the model to weigh the importance of each part of the sequence when computing the representation of a particular part, enabling the model to capture dependencies between distant parts of the sequence efficiently.\n",
            "\n",
            "### Key Components of Self-Attention:\n",
            "\n",
            "1. **Queries, Keys, and Values:**\n",
            "   - Each input element in the sequence is transformed into three vectors: a query vector, a key vector, and a value vector. These vectors are used to compute the attention scores.\n",
            "\n",
            "2. **Scaled Dot-Product Attention:**\n",
            "   - The attention mechanism computes a score for each pair of query and key vectors by taking their dot product. This score indicates the relevance of the key to the query.\n",
            "   - The scores are scaled by the square root of the dimension of the key vectors (\\(\\sqrt{d_k}\\)) to prevent the dot products from becoming too large, which can push the softmax function into regions with very small gradients.\n",
            "   - A softmax function is applied to these scores to obtain the attention weights, which are then used to compute a weighted sum of the value vectors. This weighted sum is the output of the attention mechanism.\n",
            "\n",
            "3. **Multi-Head Attention:**\n",
            "   - Instead of performing a single attention function, multi-head attention projects the queries, keys, and values into multiple subspaces and performs the attention function in parallel. This allows the model to jointly attend to information from different representation subspaces at different positions.\n",
            "   - The outputs from each attention head are concatenated and linearly transformed to produce the final output.\n",
            "\n",
            "### Advantages of Self-Attention:\n",
            "\n",
            "- **Parallelization:**\n",
            "  - Unlike recurrent neural networks (RNNs), which process sequences sequentially, self-attention allows for parallelization across the sequence, significantly speeding up computation.\n",
            "\n",
            "- **Long-Range Dependencies:**\n",
            "  - Self-attention can capture dependencies between distant parts of a sequence more effectively than RNNs, as it does not rely on the sequential processing of data.\n",
            "\n",
            "- **Constant Path Length:**\n",
            "  - The path length between any two positions in the input sequence is constant, which facilitates learning long-range dependencies.\n",
            "\n",
            "### Positional Encoding:\n",
            "\n",
            "Since self-attention does not inherently capture the order of the sequence, positional encodings are added to the input embeddings to provide information about the position of each token in the sequence. These encodings can be fixed (e.g., using sine and cosine functions) or learned.\n",
            "\n",
            "### Applications:\n",
            "\n",
            "Self-attention is a core component of the Transformer architecture, which has been highly successful in tasks such as machine translation, language modeling, and more recently, in vision tasks with Vision Transformers (ViTs). It has become a fundamental building block in modern deep learning models due to its efficiency and effectiveness in capturing complex dependencies in data.\n"
          ]
        }
      ]
    },
    {
      "cell_type": "code",
      "source": [
        "query = \"What are the most popular design patterns for Agentic AI?\"\n",
        "topk_docs = similarity_threshold_retriever.invoke(query)\n",
        "result = qa_rag_chain.invoke(\n",
        "    {\"context\": topk_docs, \"question\": query}\n",
        ")\n",
        "print(result)"
      ],
      "metadata": {
        "id": "i_BK5xvbeYmz",
        "colab": {
          "base_uri": "https://localhost:8080/"
        },
        "outputId": "19c35fb3-989d-472c-c0f4-4e63e3a18f83"
      },
      "execution_count": 35,
      "outputs": [
        {
          "output_type": "stream",
          "name": "stdout",
          "text": [
            "I don't know the answer. The provided context does not contain information about the most popular design patterns for Agentic AI.\n"
          ]
        }
      ]
    },
    {
      "cell_type": "markdown",
      "source": [
        "### Create a Hallucination Checker Workflow\n",
        "\n",
        "This is an essential workflow which can take in the RAG generated response from the LLM, the list of context documents and uses an LLM as a judge to check if the generated response is grounded in the facts mentioned in the context documents.\n",
        "\n",
        "If there are any contradictions or hallucinations it grades it as 'yes' or else 'no' and it also creates 'feedback' which contains the reasoning from the LLM judge as to why the grade was 'yes' or 'no'."
      ],
      "metadata": {
        "id": "efgc6K-cu-Ea"
      }
    },
    {
      "cell_type": "code",
      "source": [
        "# Data model\n",
        "class CheckHallucinations(BaseModel):\n",
        "    \"\"\"Binary score to say if hallucination is present in generated answer.\"\"\"\n",
        "\n",
        "    binary_score: str = Field(\n",
        "        description=\"Generated Answer may have hallucinations and is not grounded in the facts provided by the context documents, 'yes' or 'no'\"\n",
        "    )\n",
        "    feedback: str = Field(\n",
        "        description=\"Feedback based on why the score was yes or no\"\n",
        "    )\n",
        "\n",
        "\n",
        "# LLM with function call\n",
        "llm = ChatOpenAI(model=\"gpt-4o\", temperature=0)\n",
        "hallucination_llm_grader = llm.with_structured_output(CheckHallucinations)\n",
        "\n",
        "# Prompt\n",
        "HALLUCINATION_SYS = \"\"\"You are an expert assessing whether an LLM generated answer is grounded in / supported\n",
        "by a set of retrieved facts provided by the context documents mentioned below or not.\n",
        "Given the LLM generated response, return a binary score 'yes' or 'no'.\n",
        " - 'no' means that the answer is grounded in / supported by the set of facts in the context documents\n",
        " - 'yes' means the answer could contain contain wrong information or deviate or contradict the set of facts in the context documents\n",
        "\n",
        " Also return the feedback based on why the score was yes or no in the feedback field. Keep the feedback concise and to the point.\n",
        " \"\"\"\n",
        "hallucination_prompt = ChatPromptTemplate.from_messages(\n",
        "    [\n",
        "        (\"system\", HALLUCINATION_SYS),\n",
        "        (\"human\", \"\"\"LLM generated response:\n",
        "                     {generation}\n",
        "\n",
        "                     Context documents:\n",
        "                     {documents}\n",
        "\n",
        "                  \"\"\"),\n",
        "    ]\n",
        ")\n",
        "\n",
        "# Hallucination grader\n",
        "hallucination_grader = hallucination_prompt | hallucination_llm_grader"
      ],
      "metadata": {
        "id": "Wzd9bKU3mHkH"
      },
      "execution_count": 36,
      "outputs": []
    },
    {
      "cell_type": "code",
      "source": [
        "query = \"What is Chain of Thought (CoT) prompting?\"\n",
        "topk_docs = similarity_threshold_retriever.invoke(query)\n",
        "result = qa_rag_chain.invoke(\n",
        "    {\"context\": topk_docs, \"question\": query}\n",
        ")"
      ],
      "metadata": {
        "id": "Ksr-oW-DlXcF"
      },
      "execution_count": 37,
      "outputs": []
    },
    {
      "cell_type": "code",
      "source": [
        "result"
      ],
      "metadata": {
        "colab": {
          "base_uri": "https://localhost:8080/",
          "height": 122
        },
        "id": "5RkGq0rHAxwN",
        "outputId": "c47b9a78-ba64-4043-8353-2e837a3e0ba6"
      },
      "execution_count": 38,
      "outputs": [
        {
          "output_type": "execute_result",
          "data": {
            "text/plain": [
              "'Chain of Thought (CoT) prompting is a technique used to enhance the reasoning capabilities of large language models. It involves providing the model with a series of intermediate reasoning steps, akin to a human\\'s thought process when solving complex problems, such as multi-step math word problems. This method is designed to help the model break down a problem into manageable parts, solve each part, and then arrive at the final answer.\\n\\nThe process of CoT prompting involves presenting the model with a few examples that include not just the input and the final output, but also the intermediate steps that lead to the solution. This approach has been shown to significantly improve the performance of large language models on tasks that require complex reasoning, such as arithmetic, commonsense, and symbolic reasoning tasks.\\n\\nFor instance, experiments have demonstrated that using CoT prompting with a large language model like PaLM 540B can achieve state-of-the-art accuracy on benchmarks like the GSM8K, which involves math word problems. This is achieved by providing the model with a few chain of thought exemplars, which guide it through the reasoning process.\\n\\nThe key advantage of CoT prompting is that it allows models to perform reasoning tasks more effectively without the need for extensive fine-tuning or large training datasets. It leverages the model\\'s ability to learn from a few examples, making it a powerful tool for enhancing the reasoning capabilities of language models. However, it is important to note that while CoT prompting emulates human reasoning processes, it does not necessarily mean that the model is \"reasoning\" in the human sense. Additionally, the effectiveness of CoT prompting is more pronounced in sufficiently large models, which can be costly to deploy in real-world applications.'"
            ],
            "application/vnd.google.colaboratory.intrinsic+json": {
              "type": "string"
            }
          },
          "metadata": {},
          "execution_count": 38
        }
      ]
    },
    {
      "cell_type": "code",
      "source": [
        "hallucination_grader.invoke({\"documents\": topk_docs, \"generation\": result})"
      ],
      "metadata": {
        "colab": {
          "base_uri": "https://localhost:8080/"
        },
        "id": "8Kr2eOJn5rdD",
        "outputId": "c64e839e-055c-47e8-c774-930a88c394b3"
      },
      "execution_count": 39,
      "outputs": [
        {
          "output_type": "execute_result",
          "data": {
            "text/plain": [
              "CheckHallucinations(binary_score='no', feedback='The LLM-generated response is well-grounded in the context documents. It accurately describes Chain of Thought (CoT) prompting, its purpose, and its application in enhancing reasoning capabilities of large language models. The response also correctly mentions the use of CoT prompting with PaLM 540B achieving state-of-the-art accuracy on the GSM8K benchmark, as supported by the context documents.')"
            ]
          },
          "metadata": {},
          "execution_count": 39
        }
      ]
    },
    {
      "cell_type": "code",
      "source": [
        "# grading a hallucinated answer\n",
        "result = \"Chain of thought is when humans have a chain of thoughts from where they think of one thing and go into another\"\n",
        "hallucination_grader.invoke({\"documents\": topk_docs, \"generation\": result})"
      ],
      "metadata": {
        "id": "piu3Tgh7lyv4",
        "colab": {
          "base_uri": "https://localhost:8080/"
        },
        "outputId": "e470ecc2-8663-428f-efba-aa80232ded27"
      },
      "execution_count": 40,
      "outputs": [
        {
          "output_type": "execute_result",
          "data": {
            "text/plain": [
              "CheckHallucinations(binary_score='yes', feedback=\"The LLM generated response provides a general definition of 'chain of thought' as a human cognitive process, which is not supported by the context documents. The context documents specifically discuss 'chain-of-thought prompting' in the context of language models, which involves generating intermediate reasoning steps to improve model performance on complex tasks. The LLM response does not reflect this specific application and context.\")"
            ]
          },
          "metadata": {},
          "execution_count": 40
        }
      ]
    },
    {
      "cell_type": "markdown",
      "source": [
        "### Create a Web Search Tool\n",
        "\n",
        "Build a custom tool which uses the Tavily Search API to search for a user query, get the top web page results and also extract the text content from those web pages"
      ],
      "metadata": {
        "id": "howf-v0ARWbv"
      }
    },
    {
      "cell_type": "code",
      "source": [
        "from langchain_tavily._utilities import TavilySearchAPIWrapper\n",
        "from langchain_core.tools import tool\n",
        "\n",
        "tavily_search = TavilySearchAPIWrapper()\n",
        "\n",
        "@tool\n",
        "def search_web(query: str) -> list:\n",
        "    \"\"\"Search the web for a query. Userful for general information or general news\"\"\"\n",
        "    results = tavily_search.raw_results(query=query,\n",
        "                                        max_results=6,\n",
        "                                        search_depth='advanced',\n",
        "                                        include_answer=False,\n",
        "                                        include_raw_content=True)\n",
        "    results = [r['raw_content'] for r in results['results']]\n",
        "    results = [doc for doc in results if doc is not None] # remove blank page content\n",
        "    return results"
      ],
      "metadata": {
        "id": "Ue8xgu9WpuPi"
      },
      "execution_count": 41,
      "outputs": []
    },
    {
      "cell_type": "markdown",
      "source": [
        "## Define the Agent State Schema\n",
        "\n",
        "Here we define the key state schema that maintains the agent's state across different steps of execution in the LangGraph workflow.\n",
        "\n",
        "We define a `GraphState` typed dictionary to track relevant information during the execution of the Agentic Adaptive RAG System:\n",
        "\n",
        "- **orig_question**: The original user query submitted to the system.\n",
        "- **rephrased_question**: A rewritten version of the query, optimized for either vector retrieval or web search depending on the route taken.\n",
        "- **generation**: The final response generated by the LLM using the selected set of documents and the RAG prompt.\n",
        "- **hallucination_grade**: The result of the hallucination check, indicating whether the generated response has hallucinations or not (`yes` or `no`).\n",
        "- **hallucination_feedback**: Feedback from the hallucination checker LLM explaining whether and why the response was considered hallucinated or not.\n",
        "- **web_search_needed**: A flag (`yes` or `no`) indicating whether a web search is necessary (lack of enough relevant context in vectordb route).\n",
        "- **documents**: A list of the final context documents used for generating the answer. These may come from a vector DB, a web search, or both.\n"
      ],
      "metadata": {
        "id": "U5tUXzqPsbQi"
      }
    },
    {
      "cell_type": "code",
      "source": [
        "from typing import List\n",
        "from typing_extensions import TypedDict\n",
        "\n",
        "class GraphState(TypedDict):\n",
        "    \"\"\"\n",
        "    Represents the state of the Adaptive RAG agent during execution.\n",
        "\n",
        "    Attributes:\n",
        "        orig_question: The original user question before rephrasing.\n",
        "        rephrased_question: Query rephrased for vector DB or web search optimization.\n",
        "        generation: The final LLM-generated response to the query.\n",
        "        hallucination_grade: 'yes' or 'no' depending on whether the response contains hallucinations or not.\n",
        "        hallucination_feedback: Explanation from the hallucination check step about grounding validity.\n",
        "        web_search_needed: Flag indicating if web search is necessary (lack of enough relevant context in vectordb route).\n",
        "        documents: Final list of context documents used to generate the answer (from vector DB, web, or both).\n",
        "    \"\"\"\n",
        "\n",
        "\n",
        "    orig_question: str\n",
        "    rephrased_question: str\n",
        "    generation: str\n",
        "    hallucination_grade: str\n",
        "    hallucination_feedback: str\n",
        "    web_search_needed: str\n",
        "    documents: List[str]"
      ],
      "metadata": {
        "id": "_B2EFrwTpuXB"
      },
      "execution_count": 42,
      "outputs": []
    },
    {
      "cell_type": "markdown",
      "source": [
        "## Plan the Agent Workflow Structure\n",
        "\n",
        "This is the Agent workflow we will be using\n",
        "\n",
        "![](https://i.imgur.com/KoY9Dx0.png)\n",
        "\n",
        "Next up we will define python functions for each of the nodes in this Agent graph"
      ],
      "metadata": {
        "id": "xnp10mXId7Wd"
      }
    },
    {
      "cell_type": "markdown",
      "source": [
        "## Create Node Functions\n",
        "\n",
        "Each function below represents a stage in processing a user query in the **Agentic Adaptive RAG System**:\n",
        "\n",
        "1. **rewrite_query_vectordb**: Rephrases the user’s original query to optimize it for retrieving relevant documents from a vector database.\n",
        "\n",
        "2. **retrieve_vectordb**: Retrieves a set of potentially relevant documents from the vector database using the rephrased query.\n",
        "\n",
        "3. **grade_documents**: Uses an LLM-based grading prompt to evaluate the relevance of each document retrieved from the vector database.\n",
        "   - Calculates the percentage of relevant documents.\n",
        "   - If **more than 50%** of the documents are relevant, the system proceeds directly to generate the answer.\n",
        "   - If **50% or fewer** documents are relevant (or none are retrieved), the `web_search_needed` flag is set to `\"yes\"` to enable the agent to go to the web search nodes later on  to get more context from the web.\n",
        "\n",
        "4. **rewrite_query_web_search**: Rephrases the original query to be optimized for web search. This improves the chances of retrieving high-quality context from web sources.\n",
        "\n",
        "5. **web_search**: Performs a real-time web search using the rephrased query and retrieves context documents for RAG-based answer generation.\n",
        "\n",
        "6. **generate_answer**: Takes the original or rephrased query along with the most relevant set of context documents — whether from vector DB, web, or both — and generates a grounded final response using a RAG prompt. Can also optionally add in feedback in the RAG prompt to instruct the LLM to generate a better response in case there were hallucinations in a previous iteration.\n",
        "\n",
        "7. **grade_hallucinations**: Applies a hallucination detection prompt that evaluates whether the generated response is fully grounded in the provided context documents. Returns the **hallucination_grade = yes or no** grade and the feedback of the grade in terms of the LLM's reasoning in the  **hallucination_feedback** field\n",
        "\n",
        "Finally:\n",
        "   - If the response is **not hallucinated**, the response is returned as the final response.\n",
        "   - If **hallucination_grade = yes**, the feedback is incorporated and the system goes back to **generate_answer** and regenerates answer to prevent hallucinated content."
      ],
      "metadata": {
        "id": "IRlO4Hu7mdwl"
      }
    },
    {
      "cell_type": "markdown",
      "source": [
        "### Create the rewrite_query_vectordb function\n",
        "\n",
        "Rephrases the user’s original query to optimize it for retrieving relevant documents from a vector database."
      ],
      "metadata": {
        "id": "hWGx0oR1nuRa"
      }
    },
    {
      "cell_type": "code",
      "source": [
        "def rewrite_query_vectordb(state):\n",
        "    \"\"\"\n",
        "    Rewrite user query to improve retrieval from vector db\n",
        "\n",
        "    Args:\n",
        "        state (dict): The current graph state\n",
        "\n",
        "    Returns:\n",
        "        state (dict): New key added to state, rephrased_question - that contains rephrased and optimized user query\n",
        "    \"\"\"\n",
        "    print(\"---REWRITING USER QUERY FOR OPTIMAL RETRIEVAL FROM VECTOR DB---\")\n",
        "    original_question = state[\"orig_question\"]\n",
        "    rephrased_question = vdb_query_rewriter.invoke({\"query\": original_question})\n",
        "\n",
        "    return {\"orig_question\": original_question, \"rephrased_question\": rephrased_question}"
      ],
      "metadata": {
        "id": "ZQBRn4VunuRa"
      },
      "execution_count": 43,
      "outputs": []
    },
    {
      "cell_type": "markdown",
      "source": [
        "### Create the rewrite_query_web_search function\n",
        "\n",
        "Rephrases the original query to be optimized for web search. This improves the chances of retrieving high-quality context from web sources."
      ],
      "metadata": {
        "id": "O2e9vbSKodN4"
      }
    },
    {
      "cell_type": "code",
      "source": [
        "def rewrite_query_web_search(state):\n",
        "    \"\"\"\n",
        "    Rewrite user query to improve retrieval from web search\n",
        "\n",
        "    Args:\n",
        "        state (dict): The current graph state\n",
        "\n",
        "    Returns:\n",
        "        state (dict): New key added to state, rephrased_question - that contains rephrased and optimized user query\n",
        "    \"\"\"\n",
        "    print(\"---REWRITING USER QUERY FOR OPTIMAL RETRIEVAL FOR WEB SEARCH---\")\n",
        "    original_question = state[\"orig_question\"]\n",
        "    rephrased_question = ws_query_rewriter.invoke({\"query\": original_question})\n",
        "\n",
        "    return {\"orig_question\": original_question, \"rephrased_question\": rephrased_question}"
      ],
      "metadata": {
        "id": "NwDH1ckoodN4"
      },
      "execution_count": 44,
      "outputs": []
    },
    {
      "cell_type": "markdown",
      "source": [
        "### Create the retrieve_vectordb function\n",
        "\n",
        "Retrieves a set of potentially relevant documents from the vector database using the rephrased query."
      ],
      "metadata": {
        "id": "qXfVLhOWtHJJ"
      }
    },
    {
      "cell_type": "code",
      "source": [
        "def retrieve_vectordb(state):\n",
        "    \"\"\"\n",
        "    Retrieve documents from vector database\n",
        "\n",
        "    Args:\n",
        "        state (dict): The current graph state\n",
        "\n",
        "    Returns:\n",
        "        state (dict): New key added to state, documents - that contains retrieved context documents\n",
        "    \"\"\"\n",
        "    print(\"---RETRIEVAL FROM VECTOR DB---\")\n",
        "    # get optimized question\n",
        "    question = state[\"rephrased_question\"]\n",
        "\n",
        "    # Retrieval\n",
        "    documents = similarity_threshold_retriever.invoke(question)\n",
        "    return {\"documents\": documents}"
      ],
      "metadata": {
        "id": "W0rVVBGDpuYw"
      },
      "execution_count": 45,
      "outputs": []
    },
    {
      "cell_type": "markdown",
      "source": [
        "### Create the grade_documents function\n",
        "\n",
        "Uses an LLM-based grading prompt to evaluate the relevance of each document retrieved from the vector database.\n",
        "   - Calculates the percentage of relevant documents.\n",
        "   - If **more than 50%** of the documents are relevant, the system proceeds directly to generate the answer.\n",
        "   - If **50% or fewer** documents are relevant (or none are retrieved), the `web_search_needed` flag is set to `\"yes\"` to enable the agent to go to the web search nodes later on  to get more context from the web."
      ],
      "metadata": {
        "id": "lpOsUnzn6Yo1"
      }
    },
    {
      "cell_type": "code",
      "source": [
        "def grade_documents(state):\n",
        "    \"\"\"\n",
        "    Determines whether the retrieved documents are relevant to the question\n",
        "    by using an LLM Grader.\n",
        "\n",
        "    If any document are not relevant to question or documents are empty - Web Search needs to be done\n",
        "    If all documents are relevant to question - Web Search is not needed\n",
        "    Helps filtering out irrelevant documents\n",
        "\n",
        "    Args:\n",
        "        state (dict): The current graph state\n",
        "\n",
        "    Returns:\n",
        "        state (dict): Updates documents key with only filtered relevant documents\n",
        "    \"\"\"\n",
        "\n",
        "    print(\"---CHECK DOCUMENT RELEVANCE TO QUESTION---\")\n",
        "    question = state[\"rephrased_question\"]\n",
        "    documents = state[\"documents\"]\n",
        "    RELEVANCE_THRESHOLD = 0.5 # what %age of retrieved documents should at least be relevant\n",
        "\n",
        "    # Score each doc\n",
        "    filtered_docs = []\n",
        "    web_search_needed = \"No\"\n",
        "    total_irrelevant = 0\n",
        "    if documents:\n",
        "        for d in documents:\n",
        "            score = doc_grader.invoke(\n",
        "                {\"question\": question, \"document\": d.page_content}\n",
        "            )\n",
        "            grade = score.binary_score\n",
        "            if grade == \"yes\":\n",
        "                print(\"---GRADE: DOCUMENT RELEVANT---\")\n",
        "                filtered_docs.append(d)\n",
        "            else:\n",
        "                print(\"---GRADE: DOCUMENT NOT RELEVANT---\")\n",
        "                total_irrelevant += 1\n",
        "\n",
        "        relevance_frac = 1 - (total_irrelevant / len(documents))\n",
        "        if relevance_frac <= RELEVANCE_THRESHOLD:\n",
        "            print(\"---SEVERAL DOCUMENTS (\"+str((1-relevance_frac)*100)+\"%) ARE NOT RELEVANT TO QUESTION - WEB SEARCH NEEDED---\")\n",
        "            web_search_needed = \"Yes\"\n",
        "        else:\n",
        "            print(\"---MOST DOCUMENTS (\"+str(relevance_frac*100)+\"%) ARE RELEVANT TO QUESTION - WEB SEARCH NOT NEEDED---\")\n",
        "\n",
        "    else:\n",
        "        print(\"---NO DOCUMENTS RETRIEVED - WEB SEARCH NEEDED---\")\n",
        "        web_search_needed = \"Yes\"\n",
        "\n",
        "    return {\"documents\": filtered_docs, \"web_search_needed\": web_search_needed}"
      ],
      "metadata": {
        "id": "NI20nh1DtTwJ"
      },
      "execution_count": 46,
      "outputs": []
    },
    {
      "cell_type": "markdown",
      "source": [
        "### Create the web_search function\n",
        "\n",
        "Performs a real-time web search using the rephrased query and retrieves context documents for RAG-based answer generation."
      ],
      "metadata": {
        "id": "HMogEnhT7Icn"
      }
    },
    {
      "cell_type": "code",
      "source": [
        "from langchain.schema import Document\n",
        "\n",
        "def web_search(state):\n",
        "    \"\"\"\n",
        "    Web search based on the re-written question.\n",
        "\n",
        "    Args:\n",
        "        state (dict): The current graph state\n",
        "\n",
        "    Returns:\n",
        "        state (dict): Updates documents key with appended web results\n",
        "    \"\"\"\n",
        "\n",
        "    print(\"---WEB SEARCH---\")\n",
        "    question = state[\"rephrased_question\"]\n",
        "    documents = state.get('documents', [])\n",
        "\n",
        "    # Web search\n",
        "    docs = search_web.invoke(question)\n",
        "    web_results = [Document(page_content=d) for d in docs]\n",
        "    documents.extend(web_results)\n",
        "\n",
        "    return {\"documents\": documents}"
      ],
      "metadata": {
        "id": "YM7f6AyCvUP_"
      },
      "execution_count": 47,
      "outputs": []
    },
    {
      "cell_type": "markdown",
      "source": [
        "### Create the generate_answer function\n",
        "\n",
        "Takes the original or rephrased query along with the most relevant set of context documents — whether from vector DB, web, or both — and generates a grounded final response using a RAG prompt.\n",
        "\n",
        "Can also optionally add in feedback in the RAG prompt to instruct the LLM to generate a better response in case there were hallucinations in a previous iteration."
      ],
      "metadata": {
        "id": "ruTBxSkm7R2R"
      }
    },
    {
      "cell_type": "code",
      "source": [
        "def generate_answer(state):\n",
        "    \"\"\"\n",
        "    Generate answer from context document using LLM\n",
        "\n",
        "    Args:\n",
        "        state (dict): The current graph state\n",
        "\n",
        "    Returns:\n",
        "        state (dict): New key added to state, generation, that contains LLM generation\n",
        "    \"\"\"\n",
        "    print(\"---GENERATE ANSWER---\")\n",
        "    question = state[\"orig_question\"]\n",
        "    documents = state[\"documents\"]\n",
        "    feedback = state.get(\"hallucination_feedback\", \"\")\n",
        "    hallucination_grade = state.get(\"hallucination_grade\", \"\")\n",
        "\n",
        "    if hallucination_grade and hallucination_grade == 'yes':\n",
        "        print('Hallucination Check Feedback:', feedback)\n",
        "        # grading has been done for a previous response and hallucinated response has occured\n",
        "        print('---REFLECTING ON HALLUCINATED FEEDBACK - GENERATING ANSWER---')\n",
        "        generation = qa_rag_chain.invoke({\"context\": documents, \"question\": question, \"feedback\": feedback})\n",
        "    else:\n",
        "        # standard RAG generation\n",
        "        print('---STANDARD RAG FLOW - GENERATING ANSWER---')\n",
        "        generation = qa_rag_chain.invoke({\"context\": documents, \"question\": question})\n",
        "        # Uncomment the following code line for the last demo below\n",
        "        # This is to simulate a hallucinated answer to check how the agent handles it\n",
        "        # generation = 'The observer and factory pattern are the main design patterns'\n",
        "    return {\"generation\": generation}"
      ],
      "metadata": {
        "id": "MemqMTolwLhA"
      },
      "execution_count": 68,
      "outputs": []
    },
    {
      "cell_type": "markdown",
      "source": [
        "### Create the grade_hallucinations function\n",
        "\n",
        "Applies a hallucination detection prompt that evaluates whether the generated response is fully grounded in the provided context documents.\n",
        "\n",
        "Returns the **hallucination_grade = yes or no** grade and the feedback of the grade in terms of the LLM's reasoning in the  **hallucination_feedback** field"
      ],
      "metadata": {
        "id": "QU7jaehmwhr8"
      }
    },
    {
      "cell_type": "code",
      "source": [
        "def grade_hallucinations(state):\n",
        "    \"\"\"\n",
        "    Determines whether the generation is grounded in the document and answers question.\n",
        "\n",
        "    Args:\n",
        "        state (dict): The current graph state\n",
        "\n",
        "    Returns:\n",
        "        str: Decision for next node to call\n",
        "    \"\"\"\n",
        "\n",
        "    print(\"---CHECK HALLUCINATIONS---\")\n",
        "    documents = state[\"documents\"]\n",
        "    generation = state[\"generation\"]\n",
        "    formatted_docs = \"\\n\\n\".join(doc.page_content for doc in documents)\n",
        "\n",
        "    grader_response = hallucination_grader.invoke({\"documents\": formatted_docs, \"generation\": generation})\n",
        "\n",
        "    # Check hallucination\n",
        "    if grader_response.binary_score == \"no\":\n",
        "        print(\"---HALLUCINATION CHECK: SUCCESSFUL - GENERATION IS GROUNDED IN DOCUMENTS---\")\n",
        "    else:\n",
        "        print(\"---HALLUCINATION CHECK: UNSUCCESSFUL - GENERATION IS NOT GROUNDED IN DOCUMENTS, RE-TRYING RESPONSE GENERATION---\")\n",
        "    return {'hallucination_grade': grader_response.binary_score, 'hallucination_feedback': grader_response.feedback}"
      ],
      "metadata": {
        "id": "bsZscGzpwf9S"
      },
      "execution_count": 49,
      "outputs": []
    },
    {
      "cell_type": "markdown",
      "source": [
        "## Build and Compile the Agent Graph Workflow\n",
        "\n",
        "We construct a LangGraph agent workflow for the Agentic Adaptive RAG System with the following dynamic routing sequence:\n",
        "\n",
        "1. The agent begins by running a **query source classifier** to determine the best information source for the user's query.\n",
        "   - If the best source is **Vector DB**, the flow continues with:\n",
        "     - **rewrite_query_vectordb** → Rephrases the query for optimal semantic retrieval from the internal vector database.\n",
        "     - **retrieve_vectordb** → Retrieves documents from the vector database using the rephrased query.\n",
        "     - **grade_documents** → Grades the relevance of retrieved documents. If most are relevant, continue to generate an answer. If not, switch to web search.\n",
        "\n",
        "2. If the best source is **Web Search**, or if Vector DB results are insufficient:\n",
        "   - **rewrite_query_web_search** → Rewrites the query to optimize it for web search.\n",
        "   - **web_search** → Performs a web search to retrieve external context documents.\n",
        "\n",
        "3. **generate_answer** → Generates a grounded response using the best available documents (from vector DB or web).\n",
        "\n",
        "4. **grade_hallucinations** → Runs a hallucination check to evaluate if the generated response is grounded in the retrieved context:\n",
        "   - If the response is **not hallucinated**, the workflow ends.\n",
        "   - If the response **contains hallucinations**, the system loops back to **generate_answer** using hallucination feedback for regeneration.\n",
        "\n",
        "This adaptive workflow allows the agent to dynamically switch between vector-based and web-based RAG strategies, incorporate corrective web search, and apply self-reflection to ensure high-quality, grounded responses.\n"
      ],
      "metadata": {
        "id": "EpjPx4v89BVV"
      }
    },
    {
      "cell_type": "code",
      "source": [
        "from langgraph.graph import START, END, StateGraph\n",
        "\n",
        "# Create a typed LangGraph state graph using the custom GraphState\n",
        "adaptive_rag = StateGraph(GraphState)\n",
        "\n",
        "# Register each functional node in the graph that represents a step in the agent workflow\n",
        "adaptive_rag.add_node(\"rewrite_query_vectordb\", rewrite_query_vectordb)  # rewrite query for vector db\n",
        "adaptive_rag.add_node(\"rewrite_query_web_search\", rewrite_query_web_search)  # rewrite query for web search\n",
        "adaptive_rag.add_node(\"retrieve_vectordb\", retrieve_vectordb)  # retrieve from vector db\n",
        "adaptive_rag.add_node(\"grade_documents\", grade_documents) # grade documents\n",
        "adaptive_rag.add_node(\"web_search\", web_search)  # web search\n",
        "adaptive_rag.add_node(\"generate_answer\", generate_answer)  # generate answer\n",
        "adaptive_rag.add_node(\"grade_hallucinations\", grade_hallucinations)  # check for hallucinations\n",
        "\n",
        "\n",
        "# Define the router function that directs the flow based on best possible route to answer the user query\n",
        "def route_user_query(state):\n",
        "    \"\"\"\n",
        "    Route question to web search or RAG.\n",
        "\n",
        "    Args:\n",
        "        state (dict): The current graph state\n",
        "\n",
        "    Returns:\n",
        "        str: Next node to call\n",
        "    \"\"\"\n",
        "\n",
        "    print(\"---ROUTE USER QUESTION---\")\n",
        "    question = state[\"orig_question\"]\n",
        "    source = qs_classifier.invoke({\"question\": question}) # uses our query source classifier workflow\n",
        "    if source.datasource == \"web_search\":\n",
        "        print(\"---ROUTING QUESTION TO WEB SEARCH WORKFLOW---\")\n",
        "        return \"web_search_route\"\n",
        "    elif source.datasource == \"vectordb\":\n",
        "        print(\"---ROUTE QUESTION TO STANDARD RAG + VECTOR DB WORKFLOW---\")\n",
        "        return \"vectordb_route\"\n",
        "\n",
        "# Add conditional edges based on the query routing function\n",
        "adaptive_rag.add_conditional_edges(\n",
        "    START,\n",
        "    route_user_query,\n",
        "    {\n",
        "        # if routing function returns web_search_route then call the rewrite_query_web_search node function\n",
        "        \"web_search_route\": \"rewrite_query_web_search\",\n",
        "        # if routing function returns vectordb_route then call the rewrite_query_vectordb node function\n",
        "        \"vectordb_route\": \"rewrite_query_vectordb\"\n",
        "    }\n",
        ")\n",
        "\n",
        "## Define edges for web search route\n",
        "adaptive_rag.add_edge(\"rewrite_query_web_search\", \"web_search\")\n",
        "adaptive_rag.add_edge(\"web_search\", \"generate_answer\")\n",
        "\n",
        "## Define edges for vectordb route\n",
        "adaptive_rag.add_edge(\"rewrite_query_vectordb\", \"retrieve_vectordb\")\n",
        "adaptive_rag.add_edge(\"retrieve_vectordb\", \"grade_documents\")\n",
        "\n",
        "# Define the router function that decides if web search or rag response generation should be next step in vectordb route\n",
        "def router_search_or_generate(state):\n",
        "    \"\"\"\n",
        "    Determines whether to generate an answer, or re-phrase a question for web search.\n",
        "\n",
        "    Args:\n",
        "        state (dict): The current graph state\n",
        "\n",
        "    Returns:\n",
        "        str: Binary decision for next node to call\n",
        "    \"\"\"\n",
        "\n",
        "    print(\"---ASSESS GRADED DOCUMENTS---\")\n",
        "    web_search_needed = state[\"web_search_needed\"]\n",
        "\n",
        "    if web_search_needed == \"Yes\":\n",
        "        # All documents have been filtered check_relevance\n",
        "        # We will re-generate a new query\n",
        "        print(\"---DECISION: SOME or ALL DOCUMENTS ARE NOT RELEVANT TO QUESTION, RUN rewrite_query_web_search NODE---\")\n",
        "        return \"goto_web_search\"\n",
        "    else:\n",
        "        # We have relevant documents, so generate answer\n",
        "        print(\"---DECISION: RELEVANT DOCUMENTS EXIST, RUN generate_answer NODE---\")\n",
        "        return \"goto_generate_answer\"\n",
        "\n",
        "# Add conditional edges based on the search or generate routing function\n",
        "adaptive_rag.add_conditional_edges(\n",
        "    \"grade_documents\",\n",
        "    router_search_or_generate,\n",
        "    {\n",
        "        # if routing function returns goto_web_search then call the rewrite_query_web_search node function\n",
        "        \"goto_web_search\": \"rewrite_query_web_search\",\n",
        "        # if routing function returns goto_generate_answer then call the generate_answer node function\n",
        "        \"goto_generate_answer\": \"generate_answer\"\n",
        "    }\n",
        ")\n",
        "\n",
        "adaptive_rag.add_edge(\"generate_answer\", \"grade_hallucinations\")\n",
        "\n",
        "# Define the router function that decides if answer needs to be regenerated or stop the agent\n",
        "def router_regenerate_or_stop(state):\n",
        "    \"\"\"\n",
        "    Determines whether to regenerate an answer when hallucinations occured, or stop the agent as we have the response.\n",
        "\n",
        "    Args:\n",
        "        state (dict): The current graph state\n",
        "\n",
        "    Returns:\n",
        "        str: Binary decision for next node to call\n",
        "    \"\"\"\n",
        "\n",
        "    print(\"---ASSESS HALLUCINATION GRADE---\")\n",
        "    hallucination_grade = state[\"hallucination_grade\"]\n",
        "\n",
        "    if hallucination_grade == \"yes\":\n",
        "        # Last generated response has hallucinations so try to regenerate answer with feedback\n",
        "        print(\"---DECISION: HALLUCINATION EXISTS RERUNNING generate_answer NODE with hallucination_feedback---\")\n",
        "        return \"goto_regenerate_answer\"\n",
        "    else:\n",
        "        # We have the generated response which is hallucination free so stop the end\n",
        "        print(\"---DECISION: STOP AGENT---\")\n",
        "        return \"stop_agent\"\n",
        "\n",
        "# Add conditional edges based on the regenerate answer or stop agent routing function\n",
        "adaptive_rag.add_conditional_edges(\n",
        "    \"grade_hallucinations\",\n",
        "    router_regenerate_or_stop,\n",
        "    {\n",
        "        # if routing function returns goto_regenerate_answer then call the generate_answer node function\n",
        "        \"goto_regenerate_answer\": \"generate_answer\",\n",
        "        # if routing function returns stop_agent then go to the END node and stop executing the agent\n",
        "        \"stop_agent\": END\n",
        "    }\n",
        ")\n",
        "\n",
        "# Compile the agent graph\n",
        "adaptive_rag = adaptive_rag.compile()"
      ],
      "metadata": {
        "id": "F24b6qm_yhnE"
      },
      "execution_count": 69,
      "outputs": []
    },
    {
      "cell_type": "code",
      "source": [
        "from IPython.display import Image, display, Markdown\n",
        "\n",
        "display(Image(adaptive_rag.get_graph().draw_mermaid_png()))"
      ],
      "metadata": {
        "id": "X3D6GCcN0ElZ",
        "colab": {
          "base_uri": "https://localhost:8080/",
          "height": 966
        },
        "outputId": "d9b39cb4-41a5-4486-c41a-cba2e4b047f5"
      },
      "execution_count": 65,
      "outputs": [
        {
          "output_type": "display_data",
          "data": {
            "image/png": "[encoded data removed]",
            "text/plain": [
              "<IPython.core.display.Image object>"
            ]
          },
          "metadata": {}
        }
      ]
    },
    {
      "cell_type": "markdown",
      "source": [
        "## Test the Agentic Adaptive RAG System"
      ],
      "metadata": {
        "id": "nq4-5VuZwnI3"
      }
    },
    {
      "cell_type": "markdown",
      "source": [
        "### Test Vector DB Route"
      ],
      "metadata": {
        "id": "IyqZtAgS3aA_"
      }
    },
    {
      "cell_type": "code",
      "source": [
        "query = \"what is cot prompting?\"\n",
        "response = adaptive_rag.invoke({\"orig_question\": query})"
      ],
      "metadata": {
        "id": "FbddOYWp97II",
        "colab": {
          "base_uri": "https://localhost:8080/"
        },
        "outputId": "0b42f3bf-f070-4f7d-fb5f-163aa1f338f1"
      },
      "execution_count": 52,
      "outputs": [
        {
          "output_type": "stream",
          "name": "stdout",
          "text": [
            "---ROUTE USER QUESTION---\n",
            "---ROUTE QUESTION TO STANDARD RAG + VECTOR DB WORKFLOW---\n",
            "---REWRITING USER QUERY FOR OPTIMAL RETRIEVAL FROM VECTOR DB---\n",
            "---RETRIEVAL FROM VECTOR DB---\n",
            "---CHECK DOCUMENT RELEVANCE TO QUESTION---\n",
            "---GRADE: DOCUMENT RELEVANT---\n",
            "---GRADE: DOCUMENT RELEVANT---\n",
            "---GRADE: DOCUMENT RELEVANT---\n",
            "---GRADE: DOCUMENT RELEVANT---\n",
            "---GRADE: DOCUMENT RELEVANT---\n",
            "---MOST DOCUMENTS (100.0%) ARE RELEVANT TO QUESTION - WEB SEARCH NOT NEEDED---\n",
            "---ASSESS GRADED DOCUMENTS---\n",
            "---DECISION: RELEVANT DOCUMENTS EXIST, RUN generate_answer NODE---\n",
            "---GENERATE ANSWER---\n",
            "---STANDARD RAG FLOW - GENERATING ANSWER---\n",
            "---CHECK HALLUCINATIONS---\n",
            "---HALLUCINATION CHECK: SUCCESSFUL - GENERATION IS GROUNDED IN DOCUMENTS---\n",
            "---ASSESS HALLUCINATION GRADE---\n",
            "---DECISION: STOP AGENT---\n"
          ]
        }
      ]
    },
    {
      "cell_type": "code",
      "source": [
        "display(Markdown(response['generation']))"
      ],
      "metadata": {
        "colab": {
          "base_uri": "https://localhost:8080/",
          "height": 273
        },
        "id": "89HhMPa935ux",
        "outputId": "8edce260-ecdf-4fe2-c7ef-17689533a32a"
      },
      "execution_count": 53,
      "outputs": [
        {
          "output_type": "display_data",
          "data": {
            "text/plain": [
              "<IPython.core.display.Markdown object>"
            ],
            "text/markdown": "Chain-of-Thought (CoT) prompting is a technique used to enhance the reasoning capabilities of large language models. It involves providing the model with a series of intermediate reasoning steps, or a \"chain of thought,\" that lead to the final answer for a given problem. This method is particularly useful for complex reasoning tasks, such as multi-step math word problems, where it is beneficial to break down the problem into smaller, manageable steps.\n\nThe concept is inspired by the way humans solve complicated reasoning tasks by decomposing them into intermediate steps. For example, when solving a math problem, one might first calculate intermediate values before arriving at the final solution. CoT prompting aims to replicate this process in language models by including a few examples of such reasoning chains in the prompt.\n\nEmpirical studies have shown that CoT prompting significantly improves the performance of large language models on various reasoning tasks, including arithmetic, commonsense, and symbolic reasoning. For instance, when applied to the GSM8K benchmark of math word problems, CoT prompting with a large model like PaLM 540B achieved state-of-the-art performance, surpassing even fine-tuned models like GPT-3.\n\nThe key advantage of CoT prompting is that it does not require extensive training datasets or fine-tuning of the model. Instead, it leverages the model's existing capabilities by providing a few examples of reasoning steps, making it a cost-effective and efficient method for enhancing reasoning in language models. However, it is important to note that while CoT prompting can emulate human-like reasoning processes, it does not necessarily mean that the model is \"reasoning\" in the same way a human does."
          },
          "metadata": {}
        }
      ]
    },
    {
      "cell_type": "code",
      "source": [
        "query = \"Compare Diffusions models vs GANs\"\n",
        "response = adaptive_rag.invoke({\"orig_question\": query})"
      ],
      "metadata": {
        "colab": {
          "base_uri": "https://localhost:8080/"
        },
        "id": "JPKsAkX93_9h",
        "outputId": "b6486cca-9231-4f0c-dcc3-1836b925892c"
      },
      "execution_count": 54,
      "outputs": [
        {
          "output_type": "stream",
          "name": "stdout",
          "text": [
            "---ROUTE USER QUESTION---\n",
            "---ROUTE QUESTION TO STANDARD RAG + VECTOR DB WORKFLOW---\n",
            "---REWRITING USER QUERY FOR OPTIMAL RETRIEVAL FROM VECTOR DB---\n",
            "---RETRIEVAL FROM VECTOR DB---\n",
            "---CHECK DOCUMENT RELEVANCE TO QUESTION---\n",
            "---GRADE: DOCUMENT RELEVANT---\n",
            "---GRADE: DOCUMENT RELEVANT---\n",
            "---GRADE: DOCUMENT RELEVANT---\n",
            "---GRADE: DOCUMENT RELEVANT---\n",
            "---GRADE: DOCUMENT RELEVANT---\n",
            "---MOST DOCUMENTS (100.0%) ARE RELEVANT TO QUESTION - WEB SEARCH NOT NEEDED---\n",
            "---ASSESS GRADED DOCUMENTS---\n",
            "---DECISION: RELEVANT DOCUMENTS EXIST, RUN generate_answer NODE---\n",
            "---GENERATE ANSWER---\n",
            "---STANDARD RAG FLOW - GENERATING ANSWER---\n",
            "---CHECK HALLUCINATIONS---\n",
            "---HALLUCINATION CHECK: SUCCESSFUL - GENERATION IS GROUNDED IN DOCUMENTS---\n",
            "---ASSESS HALLUCINATION GRADE---\n",
            "---DECISION: STOP AGENT---\n"
          ]
        }
      ]
    },
    {
      "cell_type": "code",
      "source": [
        "display(Markdown(response['generation']))"
      ],
      "metadata": {
        "colab": {
          "base_uri": "https://localhost:8080/",
          "height": 590
        },
        "id": "aZIafbrF4K0i",
        "outputId": "13810935-a1ed-4540-d8ec-3888211366dc"
      },
      "execution_count": 55,
      "outputs": [
        {
          "output_type": "display_data",
          "data": {
            "text/plain": [
              "<IPython.core.display.Markdown object>"
            ],
            "text/markdown": "Diffusion models and Generative Adversarial Networks (GANs) are two prominent approaches in the field of generative modeling, each with its own strengths and weaknesses.\n\n**Diffusion Models:**\n\n1. **Mechanism**: Diffusion models generate samples by reversing a gradual noising process. They start with a noisy sample and iteratively refine it to produce a clean image. This process is akin to denoising, where each step reduces the noise level in the sample.\n\n2. **Sample Quality**: Recent advancements have shown that diffusion models can achieve superior image sample quality compared to GANs. For instance, they have achieved impressive Fréchet Inception Distance (FID) scores on datasets like ImageNet, indicating high-quality image synthesis.\n\n3. **Diversity and Fidelity**: Diffusion models are known for better distribution coverage, meaning they can capture a wider variety of samples from the data distribution. They also offer a stationary training objective, which can make them easier to train and scale compared to GANs.\n\n4. **Training and Scalability**: These models are typically easier to train than GANs, which often require careful tuning of hyperparameters and regularization to avoid issues like mode collapse.\n\n5. **Sampling Speed**: A notable drawback of diffusion models is their slower sampling speed due to the multiple denoising steps required. However, techniques like classifier guidance can help reduce this gap by allowing fewer forward passes while maintaining quality.\n\n**GANs:**\n\n1. **Mechanism**: GANs consist of two neural networks, a generator and a discriminator, that are trained simultaneously. The generator creates samples, while the discriminator evaluates them against real data, pushing the generator to improve.\n\n2. **Sample Quality**: GANs have historically held the state-of-the-art in image generation tasks, producing high-fidelity images. They are particularly effective at generating sharp and realistic images.\n\n3. **Diversity and Fidelity**: While GANs can produce high-quality samples, they often struggle with capturing the full diversity of the data distribution. This is partly due to the adversarial nature of their training, which can lead to mode collapse.\n\n4. **Training and Scalability**: Training GANs can be challenging due to their adversarial setup, which requires careful balancing of the generator and discriminator. They are sensitive to hyperparameters and can be unstable.\n\n5. **Sampling Speed**: GANs are generally faster at sampling compared to diffusion models, as they generate images in a single forward pass.\n\n**Conclusion**: While GANs have been the go-to for high-quality image synthesis, diffusion models are emerging as a strong alternative, offering better diversity and easier training at the cost of slower sampling. Recent improvements in diffusion models, such as classifier guidance, are helping to bridge the gap in sampling speed, making them a promising direction for future research in generative modeling."
          },
          "metadata": {}
        }
      ]
    },
    {
      "cell_type": "code",
      "source": [
        "query = \"Compare attention methods in transformer in detail\"\n",
        "response = adaptive_rag.invoke({\"orig_question\": query})"
      ],
      "metadata": {
        "colab": {
          "base_uri": "https://localhost:8080/"
        },
        "id": "OYVIBmZDwzrP",
        "outputId": "f6e21485-0af5-4d97-a342-d17fbadb60e9"
      },
      "execution_count": 56,
      "outputs": [
        {
          "output_type": "stream",
          "name": "stdout",
          "text": [
            "---ROUTE USER QUESTION---\n",
            "---ROUTE QUESTION TO STANDARD RAG + VECTOR DB WORKFLOW---\n",
            "---REWRITING USER QUERY FOR OPTIMAL RETRIEVAL FROM VECTOR DB---\n",
            "---RETRIEVAL FROM VECTOR DB---\n",
            "---CHECK DOCUMENT RELEVANCE TO QUESTION---\n",
            "---GRADE: DOCUMENT RELEVANT---\n",
            "---GRADE: DOCUMENT RELEVANT---\n",
            "---GRADE: DOCUMENT RELEVANT---\n",
            "---GRADE: DOCUMENT NOT RELEVANT---\n",
            "---GRADE: DOCUMENT RELEVANT---\n",
            "---MOST DOCUMENTS (80.0%) ARE RELEVANT TO QUESTION - WEB SEARCH NOT NEEDED---\n",
            "---ASSESS GRADED DOCUMENTS---\n",
            "---DECISION: RELEVANT DOCUMENTS EXIST, RUN generate_answer NODE---\n",
            "---GENERATE ANSWER---\n",
            "---STANDARD RAG FLOW - GENERATING ANSWER---\n",
            "---CHECK HALLUCINATIONS---\n",
            "---HALLUCINATION CHECK: SUCCESSFUL - GENERATION IS GROUNDED IN DOCUMENTS---\n",
            "---ASSESS HALLUCINATION GRADE---\n",
            "---DECISION: STOP AGENT---\n"
          ]
        }
      ]
    },
    {
      "cell_type": "code",
      "source": [
        "display(Markdown(response['generation']))"
      ],
      "metadata": {
        "colab": {
          "base_uri": "https://localhost:8080/",
          "height": 662
        },
        "id": "1b0_0B1W0BL7",
        "outputId": "33ec38c2-f67e-4797-97e7-cba0ab44af9b"
      },
      "execution_count": 57,
      "outputs": [
        {
          "output_type": "display_data",
          "data": {
            "text/plain": [
              "<IPython.core.display.Markdown object>"
            ],
            "text/markdown": "The Transformer model, introduced by Vaswani et al. in \"Attention Is All You Need,\" is a groundbreaking architecture that relies entirely on attention mechanisms, specifically self-attention, to process input and output sequences. This approach eliminates the need for recurrent or convolutional neural networks, which were traditionally used in sequence transduction models.\n\n### Attention Mechanisms in Transformers\n\n1. **Self-Attention**:\n   - **Definition**: Self-attention, or intra-attention, is a mechanism that relates different positions of a single sequence to compute a representation of the sequence. It allows the model to weigh the importance of each word in a sequence relative to others.\n   - **Functionality**: In the Transformer, self-attention is used to draw global dependencies between input and output sequences. This is achieved by mapping a query and a set of key-value pairs to an output, where the output is a weighted sum of the values, with the weights determined by the compatibility of the query with the corresponding key.\n\n2. **Multi-Head Attention**:\n   - **Concept**: Multi-head attention extends the idea of self-attention by allowing the model to jointly attend to information from different representation subspaces at different positions. Instead of having a single attention function, multiple attention functions (or \"heads\") are used.\n   - **Benefits**: This approach allows the model to capture different types of relationships and dependencies in the data, improving the model's ability to understand complex patterns. It also helps in counteracting the reduced effective resolution that might occur due to averaging attention-weighted positions.\n\n3. **Encoder and Decoder Stacks**:\n   - **Encoder**: The encoder consists of a stack of identical layers, each with two sub-layers: a multi-head self-attention mechanism and a position-wise fully connected feed-forward network. Residual connections and layer normalization are applied around each sub-layer.\n   - **Decoder**: The decoder is similar to the encoder but includes an additional third sub-layer for multi-head attention over the encoder's output. It also incorporates masking in the self-attention sub-layer to prevent positions from attending to subsequent positions, ensuring that predictions for a position depend only on known outputs at earlier positions.\n\n### Advantages of Attention Mechanisms in Transformers\n\n- **Parallelization**: Unlike recurrent models, which process sequences sequentially, the Transformer processes all positions in a sequence simultaneously, allowing for significant parallelization and faster training times.\n- **Global Dependency Modeling**: Attention mechanisms enable the model to capture dependencies between distant positions in the sequence, which is challenging for RNNs and CNNs.\n- **State-of-the-Art Performance**: The Transformer has achieved superior performance on various tasks, such as machine translation, with significantly less training time compared to previous models.\n\nIn summary, the attention mechanisms in Transformers, particularly self-attention and multi-head attention, are central to the model's ability to efficiently and effectively process sequences, leading to its success in various sequence transduction tasks."
          },
          "metadata": {}
        }
      ]
    },
    {
      "cell_type": "code",
      "source": [
        "query = \"Compare LoRA vs QLoRa vs Prompt Tuning in PEFT\"\n",
        "response = adaptive_rag.invoke({\"orig_question\": query})"
      ],
      "metadata": {
        "colab": {
          "base_uri": "https://localhost:8080/"
        },
        "id": "Ibr_w81w0XaW",
        "outputId": "2a913017-40f9-4bff-c1b0-b6db3bb0d7f0"
      },
      "execution_count": 58,
      "outputs": [
        {
          "output_type": "stream",
          "name": "stdout",
          "text": [
            "---ROUTE USER QUESTION---\n",
            "---ROUTE QUESTION TO STANDARD RAG + VECTOR DB WORKFLOW---\n",
            "---REWRITING USER QUERY FOR OPTIMAL RETRIEVAL FROM VECTOR DB---\n",
            "---RETRIEVAL FROM VECTOR DB---\n",
            "---CHECK DOCUMENT RELEVANCE TO QUESTION---\n",
            "---GRADE: DOCUMENT RELEVANT---\n",
            "---GRADE: DOCUMENT RELEVANT---\n",
            "---GRADE: DOCUMENT NOT RELEVANT---\n",
            "---GRADE: DOCUMENT NOT RELEVANT---\n",
            "---GRADE: DOCUMENT NOT RELEVANT---\n",
            "---SEVERAL DOCUMENTS (60.0%) ARE NOT RELEVANT TO QUESTION - WEB SEARCH NEEDED---\n",
            "---ASSESS GRADED DOCUMENTS---\n",
            "---DECISION: SOME or ALL DOCUMENTS ARE NOT RELEVANT TO QUESTION, RUN rewrite_query_web_search NODE---\n",
            "---REWRITING USER QUERY FOR OPTIMAL RETRIEVAL FOR WEB SEARCH---\n",
            "---WEB SEARCH---\n",
            "---GENERATE ANSWER---\n",
            "---STANDARD RAG FLOW - GENERATING ANSWER---\n",
            "---CHECK HALLUCINATIONS---\n",
            "---HALLUCINATION CHECK: SUCCESSFUL - GENERATION IS GROUNDED IN DOCUMENTS---\n",
            "---ASSESS HALLUCINATION GRADE---\n",
            "---DECISION: STOP AGENT---\n"
          ]
        }
      ]
    },
    {
      "cell_type": "code",
      "source": [
        "display(Markdown(response['generation']))"
      ],
      "metadata": {
        "colab": {
          "base_uri": "https://localhost:8080/",
          "height": 602
        },
        "id": "bfynqDEc1WO5",
        "outputId": "21aeca69-46dd-4e2e-9c0d-06099b4f9291"
      },
      "execution_count": 59,
      "outputs": [
        {
          "output_type": "display_data",
          "data": {
            "text/plain": [
              "<IPython.core.display.Markdown object>"
            ],
            "text/markdown": "LoRA, QLoRA, and Prompt Tuning are all techniques under the umbrella of Parameter Efficient Fine-Tuning (PEFT) methods, which aim to fine-tune large language models efficiently by reducing the number of trainable parameters. Here's a comparison of these techniques:\n\n1. **LoRA (Low-Rank Adaptation):**\n   - **Approach:** LoRA introduces low-rank matrices to approximate the weight updates needed during fine-tuning. Instead of updating the full weight matrix, LoRA updates two smaller matrices, which are then used to compute the weight updates.\n   - **Efficiency:** This method significantly reduces the number of trainable parameters, making it more memory and compute-efficient compared to full fine-tuning.\n   - **Use Case:** LoRA is particularly useful when the task requires significant changes to the model's behavior, as it allows for more substantial updates than prompt-based methods.\n\n2. **QLoRA (Quantized Low-Rank Adaptation):**\n   - **Approach:** QLoRA builds on LoRA by incorporating quantization techniques. It uses 4-bit quantization for the model weights, further reducing memory usage while maintaining performance.\n   - **Efficiency:** QLoRA allows for fine-tuning large models on hardware with limited memory, such as a single GPU, by reducing the precision of the weights.\n   - **Use Case:** Ideal for scenarios where memory resources are constrained, and the model needs to be fine-tuned on large datasets or tasks.\n\n3. **Prompt Tuning:**\n   - **Approach:** Prompt Tuning involves optimizing a set of continuous prompt tokens that are prepended to the input. These tokens are learned during fine-tuning and help guide the model's responses.\n   - **Efficiency:** This method is highly parameter-efficient as it only involves learning a small number of additional parameters (the prompt tokens).\n   - **Use Case:** Best suited for tasks where the model's existing capabilities are sufficient, and the main challenge is to guide the model's output more effectively through optimized prompts.\n\n**Comparison:**\n- **Parameter Efficiency:** Prompt Tuning is the most parameter-efficient, as it only involves learning a few prompt tokens. LoRA and QLoRA involve more parameters but still significantly fewer than full fine-tuning.\n- **Memory Usage:** QLoRA is the most memory-efficient due to its use of quantization, making it suitable for very large models.\n- **Task Adaptability:** LoRA and QLoRA are better suited for tasks that require substantial model adaptation, while Prompt Tuning is ideal for tasks where the model's existing knowledge is largely sufficient.\n\nIn summary, the choice between these methods depends on the specific requirements of the task, the available computational resources, and the degree of model adaptation needed."
          },
          "metadata": {}
        }
      ]
    },
    {
      "cell_type": "code",
      "source": [
        "response"
      ],
      "metadata": {
        "colab": {
          "base_uri": "https://localhost:8080/"
        },
        "id": "Gglo2FwJc2is",
        "outputId": "9acb952d-21b1-4593-d931-f62f30782423"
      },
      "execution_count": 60,
      "outputs": [
        {
          "output_type": "execute_result",
          "data": {
            "text/plain": [
              "{'orig_question': 'Compare LoRA vs QLoRa vs Prompt Tuning in PEFT',\n",
              " 'rephrased_question': 'LoRA vs QLoRa vs Prompt Tuning in PEFT comparison',\n",
              " 'generation': \"LoRA, QLoRA, and Prompt Tuning are all techniques under the umbrella of Parameter Efficient Fine-Tuning (PEFT) methods, which aim to fine-tune large language models efficiently by reducing the number of trainable parameters. Here's a comparison of these techniques:\\n\\n1. **LoRA (Low-Rank Adaptation):**\\n   - **Approach:** LoRA introduces low-rank matrices to approximate the weight updates needed during fine-tuning. Instead of updating the full weight matrix, LoRA updates two smaller matrices, which are then used to compute the weight updates.\\n   - **Efficiency:** This method significantly reduces the number of trainable parameters, making it more memory and compute-efficient compared to full fine-tuning.\\n   - **Use Case:** LoRA is particularly useful when the task requires significant changes to the model's behavior, as it allows for more substantial updates than prompt-based methods.\\n\\n2. **QLoRA (Quantized Low-Rank Adaptation):**\\n   - **Approach:** QLoRA builds on LoRA by incorporating quantization techniques. It uses 4-bit quantization for the model weights, further reducing memory usage while maintaining performance.\\n   - **Efficiency:** QLoRA allows for fine-tuning large models on hardware with limited memory, such as a single GPU, by reducing the precision of the weights.\\n   - **Use Case:** Ideal for scenarios where memory resources are constrained, and the model needs to be fine-tuned on large datasets or tasks.\\n\\n3. **Prompt Tuning:**\\n   - **Approach:** Prompt Tuning involves optimizing a set of continuous prompt tokens that are prepended to the input. These tokens are learned during fine-tuning and help guide the model's responses.\\n   - **Efficiency:** This method is highly parameter-efficient as it only involves learning a small number of additional parameters (the prompt tokens).\\n   - **Use Case:** Best suited for tasks where the model's existing capabilities are sufficient, and the main challenge is to guide the model's output more effectively through optimized prompts.\\n\\n**Comparison:**\\n- **Parameter Efficiency:** Prompt Tuning is the most parameter-efficient, as it only involves learning a few prompt tokens. LoRA and QLoRA involve more parameters but still significantly fewer than full fine-tuning.\\n- **Memory Usage:** QLoRA is the most memory-efficient due to its use of quantization, making it suitable for very large models.\\n- **Task Adaptability:** LoRA and QLoRA are better suited for tasks that require substantial model adaptation, while Prompt Tuning is ideal for tasks where the model's existing knowledge is largely sufficient.\\n\\nIn summary, the choice between these methods depends on the specific requirements of the task, the available computational resources, and the degree of model adaptation needed.\",\n",
              " 'hallucination_grade': 'no',\n",
              " 'hallucination_feedback': \"The LLM-generated response is well-grounded in the context documents. It accurately describes LoRA, QLoRA, and Prompt Tuning as Parameter Efficient Fine-Tuning (PEFT) methods, and provides a correct comparison of their approaches, efficiency, and use cases. The details about LoRA and QLoRA, including the use of low-rank matrices and quantization, are consistent with the information in the context. Prompt Tuning is also correctly described as optimizing prompt tokens, aligning with the context's explanation.\",\n",
              " 'web_search_needed': 'Yes',\n",
              " 'documents': [Document(id='fdc86801-ec86-4413-b35b-bafabd8e48ee', metadata={'author': '', 'creationDate': 'D:20250321120420', 'creationdate': 'D:20250321120420', 'creator': 'PDFium', 'file_path': 'research_papers/peft.pdf', 'format': 'PDF 1.7', 'keywords': '', 'modDate': '', 'moddate': '', 'page': 10, 'producer': 'PDFium', 'source': 'research_papers/peft.pdf', 'subject': '', 'title': '', 'total_pages': 20, 'trapped': ''}, page_content='to achieve, LoRAPruning enables the weights to be merged\\neasily. Additionally, this work also introduces a novel criterion\\nthat utilizes LoRA’s gradients as an approximation of the\\ngradients for the pre-trained weights, enabling the estimation\\nof weight importance. ProPETL [121] constructs a single\\nshared prototype (e.g., adapter, prefix, or LoRA) across layers\\nand tasks. In addition, ProPETL learns binary masks to prune\\ndifferent sub-networks in different layers and tasks. As a result,\\nthe parameters can be reused across layers and tasks, largely\\nincreasing the parameter efficiency.\\nC. Quantization Strategies for PEFT\\nQuantization serves as another popular technique for im-\\nproving computational efficiency and reducing memory us-\\nage. For example, by investigating the loss landscape of\\nadapters, BI-Adapter [122] finds that adapters are resistant\\nto noise in parameter space. Building on this insight, the\\nauthors introduce a clustering-based quantization approach.\\nRemarkably, they demonstrate that a 1-bit quantization of\\nadapters not only minimizes storage requirements but also\\nachieves superior performance among all precision settings.\\nPEQA (Parameter-Efficient and Quantization-aware Adapta-\\ntion) [123] uses a two-stage pipeline to achieve parameter-\\nefficient and quantization-aware fine-tuning. In the first stage,\\nthe pre-trained FFN weight matrix W P Rnˆm is quantized\\nto W “ s ¨ W, where s P Rnˆ1 represents per-channel\\nscales and W denotes the quantized weight. In the second\\nstage, W remains fixed, and fine-tuning is only conducted\\non s. This approach not only ensures memory efficiency but\\nalso facilitates parameter efficiency. QLoRA [124] proposes\\nseveral novel techniques, including a 4-bit NormalFloat, a\\nDouble Quantization, and a Paged Optimizers, to backprop-\\nagate a 4-bit quantized pretrained language model into LoRA.'),\n",
              "  Document(id='b1026d34-375a-4502-8701-fc948eb0bd42', metadata={'author': '', 'creationDate': 'D:20250321120420', 'creationdate': 'D:20250321120420', 'creator': 'PDFium', 'file_path': 'research_papers/peft.pdf', 'format': 'PDF 1.7', 'keywords': '', 'modDate': '', 'moddate': '', 'page': 11, 'producer': 'PDFium', 'source': 'research_papers/peft.pdf', 'subject': '', 'title': '', 'total_pages': 20, 'trapped': ''}, page_content='12\\nThese techniques enable the fine-tuning for a 65B language\\nmodel on a single 48GB GPU while maintaining similar\\nperformance to the full 16-bit fine-tuning. Similar to the\\noriginal implementation [76], QLoRA attaches the fixed zero-\\ninitialized LoRA weights to the quantized pre-trained model\\nas the training start point. However, when applying the ex-\\ntreme low-bit (e.g., 2-bit) quantization, the huge quantization\\nerror can adversely impact the initialization of LoRA fine-\\ntuning, i.e., quantizationpW0q ` WdownWup ‰ W0 where\\nWdown “ 0, which will harm the fine-tuning performance as\\nshown in the work by [134]. To solve this, several quanti-\\nzation strategies are proposed to eliminate the quantization\\nerror. For example, LoftQ (LoRA-Fine-Tuning-aware Quanti-\\nzation) [125] presents an innovative framework that provides\\na superior initialization point of quantized backbone weights\\nand LoRA weights for subsequent LoRA fine-tuning. This\\napproach addresses the discrepancies caused by quantization\\nthrough the optimization of a Frobenius norm objective during\\nnetwork initialization, which takes both the LoRA weights\\nand the quantized pre-trained backbone into consideration.\\nLoftQ exhibits superior performance in 2-bit quantization over\\nQLoRA, as well as greater generalization for downstream\\ntasks. LQ-LoRA [126] uses an iterative algorithm inspired\\nby robust principal components analysis [141], [142] which\\ndecomposes the weight W0 such that W0 « Q ` L1L2\\nto resolve the inaccuracy caused by the quantization error,\\nwhere Q is the quantized component which remains fixed\\nand L1L2 is the trainable low-rank component. Moreover, this\\napproach leverages integer linear programming to determine\\na mixed quantization strategy, enabling dynamic quantization\\nconfigurations for each weight matrix while adhering to a\\npredetermined total bit rate limit. QA-LoRA [127] address\\nanother limitation of QLoRA, which struggles to preserve its\\nquantized property post-fine-tuning. In QLoRA, the quantized\\npre-trained weight (NF4) has to be recovered to FP16 to match\\nthe LoRA weight precision (FP16) during weight merging.\\nInstead, QA-LoRA uses INT4 quantization and introduces\\ngroup-wise operators to enable quantization during the infer-\\nence stage, therefore improving the efficiency and accuracy\\ncompared with QLoRA. BitDelta [130] introduces a novel 1-\\nbit post-training quantization method that acts on the weight\\ndelta between a fine-tuned model and its underlying pre-\\ntrained model. Specifically, given the weight matrices Wfine\\nand Wbase from the fine-tuned and base models respectively,\\nthe weight delta ∆“ Wfine ´ Wbase is binarized as ˆ∆“ α d\\nSignp∆q. Here, α, a high-precision scalar, is initialized based\\non the mean absolute delta value α “\\n1\\nnm\\nř\\nij |Wij|, with\\nSignp¨q indicating the sign of ∆. BitDelta further calibrates\\nthe scaling factors via distillation on a compact calibration\\ndataset, while the binary matrices remain unchanged. This\\napproach notably streamlines the deployment of multiple fine-\\ntuned models on shared servers by utilizing a singular full-\\nprecision base model alongside efficiently batched 1-bit deltas.\\nD. Memory-efficient PEFT Methods\\nFine-tuning the full LLMs necessitates substantial training\\nmemory owing to their considerable size. While most PEFT\\nmethods primarily target parameter efficiency, they still in-\\ncur a significant memory overhead during training because\\ngradient computation and backpropagation are still necessary\\nfor these methods. For example, prevalent PEFT techniques\\nsuch as adapters and LoRA can only reduce memory usage\\nto approximately 70% compared to full model fine-tuning ac-\\ncording to some literature [132], [137]. From a computational\\nperspective, memory efficiency also remains a critical factor\\nthat cannot be overlooked.\\nTo improve memory efficiency, various techniques have\\nbeen developed to minimize the need for caching gradi-\\nents for the entire LLM during fine-tuning, thereby reducing'),\n",
              "  Document(metadata={}, page_content=\"Guide to fine-tuning LLMs using PEFT and LoRa techniques\\n\\nServicesBlogContact\\n\\n\\nGuide to fine-tuning LLMs using PEFT and LoRa techniques\\nPranav Patel\\nLarge Language Models\\nWhat is Fine-tuning?\\nHow does Fine-tuning work?\\nWhy use Fine-Tuning?\\nWhat is PEFT?\\nWhy PEFT?\\nTransfer Learning\\nHow Transfer Learning Works\\nAdaptersLoRA - Low-Rank Adaptation\\nEfficiency of LoRA\\nLoRA in Stable Diffusion\\nIA3 - Infused Adapter by Inhibiting and Amplifying Inner Activations\\nEfficiency of IA3\\nP-Tuning\\nEfficiency of P-Tuning\\nPrefix Tuning\\nEfficiency of Prefix Tuning\\nPrompt Tuning\\nEfficiency of Prompt Tuning\\nLoRA vs Prompt TuningLoRA and PEFT in comparison to full FinetuningWhy you should Fine-tune models for your business use caseWant to Train Custom LLMs with PEFT?\\nLarge Language Models (LLMs) like GPT are getting only larger in size. Even open-source models like MPT and Falcon have reached 30 and 40 billion parameters respectively. With size, the capabilities and complexities of these models have also increased. But this increased complexity and model size can also create challenges. Training larger models requires more extensive data sets, and as the model grows, more parameters must be tuned. This can be very compute-heavy and as a result costly too. This is where fine-tuning comes in. Fine-tuning is a technique that allows for the re-purposing of pre-trained models and can help reduce the complexity of building larger models.\\n\\u200d\\nIn this blog, we will discuss advanced fine-tuning techniques like PEFT (Parameter Efficient Fine-Tuning) and see how they can save you a ton of time and money on training massive LLMs.\\n\\u200d\\nWhat is Fine-tuning?\\nFine-tuning is the process of taking a model that is already trained on some task and then tweaking it to perform a similar task. It is often used when a new dataset or task requires the model to have some modifications, or when the model is not performing well on a specific task.\\n\\u200d\\nFor example, a model trained to generate stories can be fine-tuned to generate poems. This is possible because the model has already learned how to generate casual language and write stories, this skill can also be used to generate poems if the model is tweaked properly.\\nHow does Fine-tuning work?\\nAs mentioned, fine-tuning is tweaking an already-trained model for some other task. The way this works is by taking the weights of the original model and adjusting them to fit a new task.\\n\\u200d\\nModels when trained learn to do some specific task, for example, GPT-3 has been trained on a massive dataset and as a result, it has learned to generate stories, poems, songs, letters, and a lot of other things. One can take this ability of GPT-3 and fine-tune it on a specific task like generating answers to customer queries in a specific manner.\\n\\u200d\\nThere are different ways and techniques to fine-tune a model, the most popular being transfer learning. Transfer learning comes out of the computer vision world, it is the process of freezing the weights of the initial layers of a network and only updating the weights of the later layers. This is because the lower layers, the layers closer to the input, are responsible for learning the general features of the training dataset. And the upper layers, closer to the output, learn more specific information which is directly tied to generating the correct output.\\n\\u200d\\nHere is a quick visualization of how fine-tuning works:\\n\\nAlammar, J (2018).\\xa0 The Illustrated Transformer [Blog post].\\nWhy use Fine-Tuning?\\nAs the model size increases, it becomes more costly and time-consuming to train it. And with more size it requires more training data, otherwise, models usually overfit and generate poor results in a production environment. Fine-tuning allows us to not run into these issues by efficiently using a pre-trained model for our purposes. Here are some reasons why you should consider fine tuning instead of training a model from scratch:\\nLarger models generalize to downstream tasks well\\nWe all know how large models like GPT-3 and GPT-4 can perform really well on complicated tasks. This is because they have very sophisticated architectures and are trained on massive datasets, this helps them generalize on a lot of tasks really well. These models understand the underlying properties of language and that helps them learn any new tasks with minimal effort like prompt engineering.\\n\\u200d\\nBut if we want to use these models for some very specific tasks, like building a legal contract generator, you should probably fine-tune the model instead of using prompt engineering. This is because a model performing well in a very general task like language generation will perform well in a downstream task like generating legal contracts.\\n\\u200d\\nCheaper than training a whole model\\nAs mentioned before, these large models can be very expensive to train from scratch. Also very time-consuming. It is always cheaper to train an already-trained model. This also allows you to leverage what is already out there instead of doing everything yourself. Most of the time good datasets can be very hard and time-consuming to build. Open-source models like MPT and LLaMA have already been trained and made sure that they work well by some of the best researchers out there. It is very easy to load and train them in a cloud infrastructure.\\nGood for online training\\nOne of the biggest challenges in AI is to keep the model up to date with the latest data. Models when deployed in production can start degrading in performance if not updated regularly. For example, if you deploy an AI model to predict customer behavior in a store, it might stop performing well once the store is restocked with products with different prices or if they introduce new products in the store. This is a classic example of how changes in data can drastically change the performance of a model.\\n\\u200d\\nFine-tuning can help you to keep updating the model with the latest data without having to re-train the whole model. This makes it possible to deploy models in production without much effort and cost. This is called online learning or online training and is absolutely necessary for any model in production.\\n\\u200d\\n\\nWhat is PEFT?\\nPEFT, Parameter Efficient Fine-Tuning, is a set of techniques or methods to fine-tune a large model in the most compute and time-efficient way possible, without losing any performance which you might see from full fine-tuning. This is done because with models growing bigger and bigger like BLOOM which has a whopping 176 billion parameters, it is almost impossible to finetune them without spending tens of thousands of dollars. But it is sometimes almost necessary to use such big models for better performance. This is where PEFT comes in. It helps you solve the problems faced during such big models.\\n\\u200d\\nHere are some PEFT techniques:\\n\\u200d\\n\\nWhy PEFT?\\nAs mentioned above, it has become a necessity to fine-tune and use bigger models when it comes to production-grade applications. PEFT techniques allow you to fine-tune the models efficiently and save money and time as a result. This is done by fine-tuning only the most important and relevant parameters in the neural network. The techniques introduce new parameters in the network or freeze the whole model except for some parts to make it easier to train the model.\\n\\u200d\\nTransfer Learning\\nTransfer learning is when we take some of the learned parameters of a model and use them for some other task. This sounds similar to fine-tuning but is different. In finetuning, we re-adjust all the parameters of the model or freeze some of the weights and adjust the rest of the parameters. But in fine-tuning, we use some of the learned parameters from a model and use them in other networks. This gives us more flexibility in terms of what we can do. For example, we cannot change the architecture of the model when fine-tuning, this limits us in many ways. But when using transfer learning, we use only a part of the trained model, which we can then attach to any other model with any architecture.\\nHow Transfer Learning Works\\nTransfer learning has been a common practice in the computer vision world for a very long time now. This is because of the nature of the visual models and how they learn. In CNN models, the early layers extract more general features like edges and curves, whereas the later layers extract more complicated features like whole eyes and faces. This is because the receptive field of CNNs grows as they are stacked on top of each other.\\n\\u200d\\n\\n\\u200d\\nLet’s say for example you are trying to train a neural network to classify if a vehicle in front of you is a car or a motorbike. This is a very basic task. But let’s say you have very limited data and you don’t want to train your model too much. Here is what a basic CNN network looks like.\\n\\u200d\\n\\n\\u200d\\nThere are 2 major parts of the network here, the CNN head and the later fully connected layers. As mentioned, CNN layers extract representations of the data which then are used by the fully connected network to classify the image. Here we can use any other CNN network trained on a similar classification problem and use that as the CNN head for this new problem.\\n\\u200d\\n\\n\\u200d\\nHere as you can see, we are using transfer learning by using the weights of a network pretrained to classify the car type. We are only freezing the first two layers of the CNN network, and leaving the latter two free to be updated during the training process. This makes sure that the CNN head of the model learns new features from the images which might be necessary for the new task we are training the model for.\\n\\u200d\\nTransfer learning is also often seen in NLP tasks with LLMs where people use the encoder part of the transformer network from a pretrained model like T5 and train the later layers.\\nAdapters\\nAdapters were one of the first parameter-efficient fine-tuning techniques released. In the paper, they showed that you can add more layers to the pre-existing transformer architecture and only finetune them instead of the whole model. They showed that this technique resulted in similar performance when compared to complete fine-tuning.\\n\\u200d\\n\\n\\u200d\\nOn the left, there is the modified transformer architecture with added adapter layers. You can see adapter layers are added after the attention stack and the feed-forward stack. And on the right, you can see the architecture of the adapter layer itself. The adapter layer comprises a bottleneck architecture, it takes the input and narrows it down to a smaller dimension representation and then passes it through a non-linear activation function, and then scales it back up to the dimension of the input. This makes sure that the next layer in the transformer stack will be able to receive the generated output from the adapter layer.\\n\\u200d\\nIn the paper, the authors show that this method of fine-tuning is comparable to complete fine-tuning while consuming much less compute resources and training time. They were able to attain 0.4% of full fine-tuning on the GLUE benchmark while adding 3.6% of the parameters.\\n\\u200d\\n\\n\\u200d\\nLoRA - Low-Rank Adaptation\\nLoRA is a similar strategy to Adapter layers but it aims to further reduce the number of trainable parameters. It takes a more mathematically rigorous approach. LoRA works by modifying how the updatable parameters are trained and updated in the neural network.\\n\\u200d\\nLet’s explain mathematically, you can skip to the next paragraph if you are not interested. We know that the weights matrices of a pretrained neural network are full rank, meaning each weight is unique and can't be made by combining other weights. But in this paper authors showed that when pretrained language models are adjusted to a new task the weights have a lower “intrinsic dimension”. Meaning, that the weights can be represented in a smaller matrix, or that it has a lower rank. This in turn means that during backpropagation, the weight update matrix has a lower rank, as most of the necessary information has already been captured by the pre-training process and only task-specific adjustments are made during fine-tuning.\\n\\u200d\\nA much simpler explanation is that during finetuning only a very few weights are updated a lot as most of the learning is done during the pretraining phase of the neural network. LoRA uses this information to reduce the number of trainable parameters.\\n\\u200d\\n\\nThe image above gives a visual representation of what LoRA is doing. The Δ_WAxB_ is the weight updation matrix, these are the changes needed to be applied to the neural network in order for it to learn a new task. This matrix can be broken down into two matrices and then we can only train them and then use them to get back our weight updation matrix. As you can see in the image, the matrix is broken down into matrices with columns and rows r, it can be understood as the rank of the weight updation matrix if it was actually trained. The bigger the rank, the more parameters will be updated during training.\\nEfficiency of LoRA\\nAuthors in the paper show that LoRA can outperform full finetuning with only 2% of total trainable parameters.\\n\\u200d\\n\\n\\u200d\\nAs for the number of parameters it trains, we can largely control that using the rank r parameter. For example, let’s say the weight updation matrix has 100,000 parameters, A being 200 and B being 500. The weight updation matrix can be decomposed into smaller matrixes of lower dimensions, A being 200 x 3 and B being 3 x 500. This gives us 200 x 3 + 3 x 500 = 2100 trainable parameters only, which is only 2.1% of the total number of parameters. This can be further reduced as we can decide to only apply LoRA to specific layers only.\\n\\u200d\\nAs the number of parameters trained and applied are MUCH smaller than the actual model, the files can be as small as 8MB. This makes loading, applying, and transferring the learned models much easier and faster.\\n\\u200d\\nYou can read the LoRA paper if you want to learn more and do a deeper dive into the topic.\\nLoRA in Stable Diffusion\\nOne of the most interesting use cases of LoRA can be shown in image generation applications. Images have an inherent style that can be visually seen. Instead of training massive models to get specific styles of images out of models, users can now only train LoRA weights and use them with techniques like Dreambooth to achieve really good quality images with a lot of customizability.\\n\\u200d\\nLoRA weights can also be combined with other LoRA weights and be used in a weighted combination to generate images that carry multiple styles. You can find a ton of LoRA adapters online and load them into your models on CivitAI.\\n\\u200d\\n\\n\\u200d\\nIA3 - Infused Adapter by Inhibiting and Amplifying Inner Activations\\nIA3 is an adapter-based technique that is somewhat similar to LoRA. The goal of the authors was to replicate the advantages of ICL (in context learning or Few-Shot prompting) without the issues that come with it. ICL can get messy in terms of cost and inference as it requires prompting the model with examples. Longer length prompts require more time and computation to process. But ICL is perhaps the easiest way to get started working with models.\\n\\u200d\\nIA3 works by introducing rescaling vectors that target the activations of the model. A total of 3 vectors are introduced, lv, ik, and lff. These vectors target the value, keys in the attention layer, and the non-linear layer in the dense layers. These vectors are multiplied elementwise to the default values in the model. Once injected, these parameters are then learned during the training process, while the rest of the model remains frozen. These learned vectors essentially rescale or optimize the targeted pretrained model weights for the task at hand.\\n\\u200d\\n\\n\\u200d\\nSo far this seems like a basic adapter type PEFT method. But that’s not all. The authors also use 3 loss terms to enhance the learning process. The 3 losses are LLM, LUL, and LLN. LLM is the standard cross-entropy loss, which increases the likelihood of generating the correct response. Then there is LUL which is Unlikelihood Loss. This loss term reduces the probability of incorrect outputs using Rank Classification. Finally, we have LLN, which is a length-normalized loss that applies a softmax cross-entropy loss to length-normalized log probabilities of all output choices. Multiple losses are used here to ensure faster and better learning of the model. Because we are trying learn using few-shot examples, these losses are necessary.\\nNow let’s talk about two very important concepts in IA3. Rank Classification and Length Normalization.\\n\\u200d\\nIn Rank Classification a model is asked to rank a set of responses by their correctness. This is done by calculating the probability scores for the potential responses. The LUL is then used to reduce the probability of the wrong responses and as a result, increase the probability of the correct response. But with Rank classification, we face a critical problem, which is that the responses with fewer tokens will rank higher, because of how probability works. A smaller amount of generated tokens ensures a higher probability as the probability of every generated token is < 1. To fix this, the authors propose dividing the score of the response by the number of tokens in the response. Doing this will normalize the scores. One very important thing to note here is that normalization is done over log probabilities, not raw probabilities. Log probabilities are negative and between zero to one.\\n\\u200d\\nEfficiency of IA3\\nIA3 just like LoRA reduces the number of trainable parameters. But instead of using low-rank matrices, IA3 uses rescaling vectors. This reduces the trainable parameters to about 0.01%, compared to LoRA's > 0.1%, for the T0 model trained in the paper. The frozen state of the LLM also provides us with the option of having multiple adapters for multiple use cases. Also, because the authors used element-wise multiplication, it is super easy to merge the adapter to the LLM weights because of the commutative property of multiplication.\\n\\u200d\\n\\n\\u200d\\nThe above figure shows that IA3 performs better than LoRA and barely affects the FLOPs. This makes IA3 a highly efficient and desirable technique. Also because IA3 is an additive adapter technique, just like LoRA we can target specific parts of the model and decide where to introduce the rescaling vectors. This helps us reduce the training time and even more.\\n\\u200d\\n\\u200d\\nP-Tuning\\nThe P-tuning method aims to optimize the representation of the prompt which is passed to the model. In the P-Tuning paper, the authors emphasize how prompt engineering is a very strong technique when working with large language models. The p-Tuning method builds up on top of prompt engineering and tries to further improve the effectiveness of a good prompt.\\n\\u200d\\nP-Tuning works by creating a small encoder network for your prompt that creates a soft prompt for your passed prompt. To tune your LLM using P-tuning, you are supposed to create a prompt template that represents your prompt. And a context x which is used in the template to get label y. This is the approach mentioned in the paper. The tokens used for the prompt template are trainable and learnable parameters, these are called pseudo tokens. We also add a prompt encoder which then helps us update pseudo tokens to the specific task at hand. The prompt encoder is usually a bi-LSTM network that learns the optimal representation of the prompt for the model and then passes the representation to it. The LSTM network is attached to the original model. Only the encoder network and the pseudo tokens are trained here, the weights of the original network remain unaffected. Once the training is done, the LSTM head is discarded as we have the hi which can be used directly.\\n\\u200d\\nIn short, the prompt encoder only changes the embeddings of the passed prompt to better represent the task, everything else remains unchanged.\\n\\u200d\\n\\nEfficiency of P-Tuning\\nIn terms of efficiency, P-tuning is just as good as any other method. In the paper, the authors show that P-Tuning was able to perform better than full fine-tuning on most of the benchmarks. It can be said that P-Tuning is comparable to the full fine-tuning of large language models.\\n\\u200d\\n\\n\\u200d\\nBut there is a core issue when it comes to P-Tuning. P-Tuning is a prompt optimization technique, it optimizes the prompt that is passed to the bigger model. This means that we are still largely based on the large model in terms of capability. If a model has not been trained on sentiment classification optimizing sentiment classification prompts using P-Tuning will not do a lot of good to the model. P-Tuning is an assistive technique. It is always very important to pick a model that can do the required task out of the box “well” with some prompt engineering, and then further optimize it.\\n\\u200d\\nPrefix Tuning\\nPrefix tuning can be considered the next version of P-Tuning. The authors of P-Tuning published a paper on P-Tuning V-2 addressing the issues of P-Tuning. In this paper, they implemented the Prefix tuning introduced in this paper. Prefix tuning and P-Tuning do not have a lot of differences but can still lead to different results. Let’s dive into a deeper explanation.\\n\\u200d\\n\\n\\u200d\\nIn P-Tuning, we added learnable parameters only to the input embeddings but in Prefix Tuning we add them to all the layers of the network. This ensures that the model itself learns more about the task it is being finetuned on. We append learnable parameters to the prompt and to every layer activation in the transformer layers. The difference from P-Tuning is that instead of completely modifying the prompt embeddings, we only add very few learnable parameters at the start of the prompt at every layer. Here’s a visual explanation:\\n\\u200d\\n\\n\\u200d\\nAt every layer in the transformer, we concatenate a soft prompt with the input which has learnable parameters. These learnable parameters are tuned using a very small MLP, only 2 fully connected layers. This is done because in the paper authors note that directly updating these prompt tokens is very sensitive to learning rate and initialization. The soft prompts increase the number of trainable parameters but substantially increase the learning ability of the model too. The MLP or fully connected layers can be dropped later as we only care about the soft prompts, which will be appended to the input sequences during inference and will guide the model.\\n\\u200d\\n\\n\\u200d\\nEfficiency of Prefix Tuning\\nPrefix tuning shows massive gains over P-Tuning. And as the model size increases, these gains increase too. This is perhaps because there are more trainable parameters for larger models. In the chart, you can see the authors compare the performance of P-Tuning, full finetuning, and Prefix tuning. Prefix tuning performs better than or as well as P-tuning in almost all tasks. In many cases, it performs even better than Full fine-tuning!\\n\\u200d\\n\\n\\u200d\\nOne big reason why prefix tuning works really well is that the number of trainable parameters is not limited only to the input sequence. Learnable parameters are added at every layer, making the model much more flexible. Prefix tuning, unlike P-tuning, not only affects the prompt tokens but also the model itself. This allows the model to learn more. But this approach is still largely based on the prompt. It is still suggested to take a model that can perform the task and only then optimize it, as that will lead to much better results. As for the size of parameters, the number of trained parameters increase substantially, from 0.01% to 0.1 to 3% parameters. But the size of parameters still remains small enough to be transferred and loaded easily and quickly.\\n\\u200d\\nPrompt Tuning\\nPrompt tuning was one of the first papers to build upon the idea of finetuning only with soft prompts. The ideas of P-Tuning and Prefix Tuning come from this paper. Prompt tuning is a very simple and easy-to-implement idea. It involves prepending a specific prompt to the input and using virtual tokens or new trainable tokens for that specific prompt. These new virtual tokens can be finetuned during the process to learn a better representation of the prompt. This means that the model is tuned to understand the prompt better. Here is a comparison of prompt tuning with full fine-tuning from the paper:\\n\\u200d\\n\\n\\u200d\\nHere you can see that full model tuning requires multiple copies of the model to exist if we want to use the model for multiple tasks. But with Prompt Tuning, you only need to store the learned virtual tokens of the prompt tokens. So for example, if you use a prompt like “Classify this tweet: {tweet}” the goal will be to learn new better embeddings for the prompt. And during inference, only these new embeddings will be used to generate the outputs. This allows the model to tune the prompt to help itself generate better outputs during inference.\\n\\u200d\\nEfficiency of Prompt Tuning\\nThe biggest advantage of using prompt tuning is the small size of learned parameters. The files can be in KBs. As we can determine the dimension size and number of parameters to use for the new tokens, we can greatly control the number of parameters we are going to learn. In the paper, the authors show how even with a very small number of trainable tokens method performs really well. And the performance only goes up as bigger models are used. You can read the paper here.\\n\\u200d\\n\\n\\u200d\\nAnother big advantage is that we can use the same model without any changes for multiple tasks, as the only thing being updated are the embeddings of the prompt tokens. Meaning you can use the same model for a tweet classification task and for a language generation task without any changes to the model itself, given the model is big and sophisticated enough to perform those tasks. But a big limitation is that the model itself doesn’t learn anything new. This is purely a prompt optimization task. This means if the model has never trained on a sentiment classification dataset, prompt tuning might not be of any help. It is very important to note that this method optimizes the prompts, not the model. So, if you cannot handcraft a hard prompt that can do the task relatively well, there is no use of trying to optimize for a soft prompt using prompt optimization techniques.\\n\\u200d\\nLoRA vs Prompt Tuning\\nNow we have explored various PEFT techniques. Now the question becomes whether to use an additive technique like Adapter and LoRA or you use a Prompt based technique like P-Tuning and Prefix Tuning.\\n\\u200d\\nOn comparing LoRA vs P-Tuning and Prefix Tuning, one can say for sure LoRA is the best strategy in terms of getting the most out of the model. But it might not be the most efficient based on your needs. If you want to train the model on a much different task than what it has been trained on, LoRA is without a doubt the best strategy for tuning the model efficiently. But if your task is more or less already understood by the model, but the challenge is to properly prompt the model, then you should use Prompt Tuning techniques. Prompt Tuning doesn’t modify many parameters in the model and mainly focuses on the passed prompt instead.\\n\\u200d\\nOne important point to note is that LoRA decomposes the weight updation matrix into smaller rank matrices and uses them to update the weights of the model. Even though trainable parameters are low, LoRA updates all the parameters in the targeted parts of the neural network. Whereas in Prompt Tuning techniques, a few trainable parameters are added to the model, this usually helps the model adjust to and understand the task better but does not help the model learn new properties well.\\n\\u200d\\nLoRA and PEFT in comparison to full Finetuning\\nPEFT, Parameter Efficient Fine Tuning, is proposed as an alternative to full Finetuning. For most of the tasks, it has already been shown in papers that PEFT techniques like LoRA are comparable to full finetuning, if not better. But, if the new task you want the model to adapt to is completely different from the tasks the model has been trained on, PEFT might not be enough for you. The limited number of trainable parameters can result in major issues in such scenarios.\\n\\u200d\\nIf you are trying to build a code generation model using a text-based model like LLaMA or Alpaca, you should probably consider fine-tuning the whole model instead of tuning the model using LoRA. This is because the task is too different from what the model already knows and has been trained on. Another good example of such a task is training a model, which only understands English, to generate text in the Nepali language.\\n\\u200d\\nWhy you should Fine-tune models for your business use case\\nFinetuning model is an important step for any business that wants to get the most out of its machine-learning applications. It allows you to customize the model to your specific use case, which can lead to improved accuracy and performance. It saves time, money, and resources by eliminating the need to build a new model from the ground up. Fine-tuning lets you optimize the use of your proprietary data, adjusting the model to better fit your available data, and even incorporating new data if needed. This ensures a more accurate model that better serves your business needs. Here are some more benefits:\\n\\u200d\\n\\nCustomization: Fine-tuning allows you to tailor the model to your specific needs, enhancing accuracy and performance.\\xa0\\nResource Efficiency: It saves time, money, and resources by eliminating the need to build a new model from scratch.\\xa0\\nPerformance Boost: Fine-tuning enhances the performance of the pretrained model using your unique datasets.\\xa0\\nData Optimization: It lets you make the most of your data, adjusting the model to better fit your available data, and even incorporating new data if needed.\\n\\n\\u200d\\nBut as the size of models grows to billions of parameters fine-tuning itself can be a challenge. The\\xa0 PEFT\\xa0 techniques we discussed in this blog help to reduce the time and resources needed to fine-tune a model. It helps speed up the training process by making use of the pretrained weights and parameters and allows you to fine-tune the model more efficiently. Also, using PEFT, you can easily transfer models over the internet and even use the same model for multiple purposes. PEFT opens up a whole new world of possibilities for businesses that want to make the most of their machine-learning applications.\\nWant to Train Custom LLMs with PEFT?\\nIf you want to build or train custom LLMs or Chatbots, we can help you fine-tune them to your specific needs. We have done a ton of work on building custom chatbots and training large language models. Contact us today and let us build a custom LLM that revolutionizes your business.\\n\\u200d\\nSubscribe to stay informed\\nSubscribe to our newsletter to stay updated on all things AI!\\nSubscribe\\nAwesome, you subscribed!\\nError! Please try again.\\n\\nLinkedInBlogResearchContact UsServices\\nTemplate pages\\nSubscribe to our newsletter!\\nSubscribe\\nAwesome, you subscribed!\\nError! Please try again.\\n© 2023, Mercity\\n\"),\n",
              "  Document(metadata={}, page_content='Sign up\\n\\nSign in\\n\\nSign up\\n\\nSign in\\n\\nHome\\n\\nFollowing\\n\\nLibrary\\n\\nStories\\n\\nStats\\n\\nOptimizing Language Model Fine-Tuning with PEFT, QLORA Integration, and Training Time Reduction using Unsloth: A Comprehensive Guide\\n\\nTejpal Kumawat\\n\\nFollow\\n\\n--\\n\\n2\\n\\nListen\\n\\nShare\\n\\nIntroduction:\\n\\nLarge language models (LLMs) have revolutionised the field of natural language processing with their comprehensive solutions and enhanced capabilities. These models perform exceptionally well on tasks like question-answering, summarization, translation, and text production since they were trained on large text datasets. Even with their strength, LLMs might not always fit into a particular task or domain.  We will examine how fine-tuning LLMs can lead to more accurate and context-specific outcomes, lower training costs, and much better model performance in this lesson.\\n\\nAbout Fine Tuning :\\n\\nAdjusting Using a smaller, domain-specific dataset, LLM entails retraining an existing model that has already learned patterns and features from a large dataset. When we talk about “LLM Fine-Tuning,” we’re talking about a “Large Language Model,” like OpenAI’s GPT series. This method is important since it saves a lot of time and processing power when training a big language model from scratch. By leveraging the pre-trained model’s incorporated current knowledge, good performance on certain tasks can be achieved with significantly less data and processing resources.\\n\\nAdjusting Natural language processing tasks including sentiment analysis, named entity recognition, summarization, translation, and other applications where producing coherent language and comprehending context are critical are frequent uses for LLMs. It facilitates the use of previously trained models’ expertise for more specialised and domain-specific activities.\\n\\nDifferent Ways of Fine Tuning any LLM\\n\\nFine-tuning a Large Language Model (LLM) involves a supervised learning process where a dataset with labeled examples is used to adjust the model’s weights, improving its performance in specific tasks. Let’s explore some notable techniques employed during the fine-tuning process.\\n\\n2. Parameter Efficient Fine-Tuning (PEFT):\\n\\nWhat is LORA and How it works?\\n\\nBefore it , What is quantization?\\n\\nconversion of higher memory format to lower memory format is quantization.\\n\\nfloating point 32 (7.2345_______)→ 32 bits is full precision/single precision\\n\\nWe use quantization to convert this 32 bits to 8 bits, this is very necessery to deploy our models on a edge device.\\n\\nLoRA is an improved finetuning method where instead of finetuning all the weights that constitute the weight matrix of the pre-trained large language model, two smaller matrices that approximate this larger matrix are fine-tuned. These matrices constitute the LoRA adapter. This fine-tuned adapter is then loaded into the pre-trained model and used for inference.\\n\\nAfter LoRA fine-tuning for a specific task or use case, the outcome is an unchanged original LLM and the emergence of a considerably smaller “LoRA adapter,” often representing a single-digit percentage of the original LLM size (in MBs rather than GBs).\\n\\nDuring inference, the LoRA adapter must be combined with its original LLM. The advantage lies in the ability of many LoRA adapters to reuse the original LLM, thereby reducing overall memory requirements when handling multiple tasks and use cases.\\n\\nIn this image you can see we have pretrained weights and LORA tracked weights, these LORA tracked weights will be decomposed in two smaller matrix A and B with the given hyperparameter RANK.\\n\\nHere is the explanation of Rank 1 matrix ,\\n\\nA rank-1 matrix is a matrix where the maximum rank is 1. In a 3x3 matrix with rank 1, it means that only one row (or column) is linearly independent, and the other two rows (or columns) are dependent on it.\\n\\nLet’s denote a 3x3 rank-1 matrix as A:\\n\\nFor a rank-1 matrix, there is only one linearly independent row (or column). Without loss of generality, let’s assume the first row (a, b, c) is linearly independent, and the other two rows are dependent on it.\\n\\nWhat is QLORA ?\\n\\nQLoRA represents a more memory-efficient iteration of LoRA. QLoRA takes LoRA a step further by also quantizing the weights of the LoRA adapters (smaller matrices) to lower precision (e.g., 4-bit instead of 8-bit). This further reduces the memory footprint and storage requirements. In QLoRA, the pre-trained model is loaded into GPU memory with quantized 4-bit weights, in contrast to the 8-bit used in LoRA. Despite this reduction in bit precision, QLoRA maintains a comparable level of effectiveness to LoRA.\\n\\nIn this blog we will first see the Fine tuning of LLM using PEFT with QLORA and later we will see how can we reduce the training time using unsloth.\\n\\nPART ONE: Parameter-efficient fine-tuning with QLoRA.\\n\\nNow let’s explore how we can fine-tune LLM on a custom dataset using QLoRA on a single GPU.\\n\\nSetting up the NoteBook\\n\\nYou can use Google Colab for this task , use its teslaV4 GPU capabilities\\n\\nInstall Necessery Libraries\\n\\nLet’s understand the importance of some of these libraries.\\n\\nLoading the required libraries\\n\\nLoading dataset\\n\\nNumerous datasets are available for fine-tuning the model. In this instance, we will utilize the DialogSum DataSet from HuggingFace for the fine-tuning process. DialogSum is an extensive dialogue summarization dataset, featuring 13,460 dialogues along with manually labeled summaries and topics.\\n\\nThere is no specific reason for selecting this dataset. Feel free to try this experiment with any custom dataset.\\n\\nLet’s execute the below code to load the above dataset from HuggingFace.\\n\\nOnce the dataset is loaded, we can take a look at it to understand what it contains:\\n\\nIt contains the below fields.\\n\\nCreate Bitsandbytes configuration\\n\\nTo load the model, we need a configuration class that specifies how we want the quantization to be performed. We’ll be using BitsAndBytesConfig to load our model in 4-bit format. This will reduce memory consumption considerably, at a cost of some accuracy.\\n\\nLoading the Pre-Trained model\\n\\nMicrosoft recently open-sourced the Phi-2, a Small Language Model(SLM) with 2.7 billion parameters. Here, we will use Phi-2 for the fine-tuning process. This language model exhibits remarkable reasoning and language understanding capabilities, achieving state-of-the-art performance among base language models.\\n\\nLet’s now load Phi-2 using 4-bit quantization from HuggingFace.\\n\\nThe model is loaded in 4-bit using the `BitsAndBytesConfig` from the bitsandbytes library. This is a part of the QLoRA process, which involves quantizing the pre-trained weights of the model to 4-bit and keeping them fixed during fine-tuning.\\n\\nTokenization\\n\\nNow, let’s configure the tokenizer, incorporating left-padding to optimize memory usage during training.\\n\\nTest the Model with Zero Shot Inferencing\\n\\nWe will evaluate the base model that we loaded above using a few sample inputs.\\n\\nFrom the observation above, it’s evident that the model faces challenges in summarizing the dialogue compared to the baseline summary. However, it manages to extract essential information from the text, suggesting the potential for fine-tuning the model for the specific task at hand.\\n\\nPreprartion of Data for the Fine Tuning\\n\\nThere are mainly two to prepare the dataset for the fine tuning , we will use first option\\n\\n2. Separated Format: Keeping instructions, inputs, and expected outputs in separate fields. This approach can offer more flexibility in how you present data to the model, potentially allowing for more complex instruction or feedback mechanisms during training.\\n\\nWe’ll create some helper functions to format our input dataset, ensuring its suitability for the fine-tuning process. Here, we need to convert the dialog-summary (prompt-response) pairs into explicit instructions for the LLM.\\n\\nThe above function can be used to convert our input into prompt format.\\n\\nNow, we will use our model tokenizer to process these prompts into tokenized ones.\\n\\nOur aim here is to generate input sequences with consistent lengths, which is beneficial for fine-tuning the language model by optimizing efficiency and minimizing computational overhead. It is essential to ensure that these sequences do not surpass the model’s maximum token limit.\\n\\nBy utilizing these functions, our dataset will be prepared for the fine-tuning process!\\n\\nPreparing the model for QLoRA\\n\\nHere, the model is prepared for QLoRA training using the `prepare_model_for_kbit_training()` function. This function initializes the model for QLoRA by setting up the necessary configurations.\\n\\nSetup PEFT for Fine-Tuning\\n\\nLet us now define the LoRA config for Fine-tuning the base model.\\n\\nNote the rank (r) hyper-parameter, which defines the rank/dimension of the adapter to be trained. r is the rank of the low-rank matrix used in the adapters, which thus controls the number of parameters trained. A higher rank will allow for more expressivity, but there is a compute tradeoff.\\n\\nalpha here is the scaling factor for the learned weights. The weight matrix is scaled by alpha/r, and thus a higher value for alpha assigns more weight to the LoRA activations.\\n\\nOnce everything is set up and the PEFT is prepared, we can use the print_trainable_parameters() helper function to see how many trainable parameters are in the model.\\n\\ntrainable parameters\\n\\nTrain PEFT Adapter\\n\\nDefine training arguments and create Trainer instance.\\n\\nHere, we have used 1000 training steps. It seems to be good enough for our custom dataset. We need to try out different numbers before finalizing with training steps. Also, the hyperparameters used above might vary depending on the dataset/model we are trying to fine-tune. This is just to show the capability of fine-tuning.\\n\\nLet’s start the training now. Training the model will take some time depending upon the hyperparameters used in TrainingArguments.\\n\\nOnce the model is trained successfully, we can use it for inference. Let’s now prepare the inference model by adding an adapter to the original Phi-2 model. Here, we are setting is_trainable=False because the plan is only to perform inference with this PEFT model.\\n\\nFine-tuning is often an iterative process. Based on the validation and test sets results, we may need to make further adjustments to the model’s architecture, hyperparameters, or training data to improve its performance. Let’s now see how to evaluate the results of Fine-tuned LLM.\\n\\nEvaluation of our Model Outputs\\n\\nThere are two ways in which we can evaluate our fine tuned model\\n\\na) Evaluate the Model Qualitatively (Human Evaluation)\\n\\nNow, let’s perform inference using the same input but with the PEFT model, as we did previously in step 7 with the original model.\\n\\nb) Evaluate the Model Quantitatively (with ROUGE Metric)\\n\\nROUGE, or Recall-Oriented Understudy for Gisting Evaluation, is a set of metrics and a software package used for evaluating automatic summarization and machine translation software in natural language processing. The metrics compare an automatically produced summary or translation against a reference or a set of references (human-produced) summary or translation.\\n\\nROUGE metric to quantify the validity of summarizations produced by models. It compares summarizations to a “baseline” summary which is usually created by a human. While it’s not a perfect metric, it does indicate the overall increase in summarization effectiveness that we have accomplished by fine-tuning.\\n\\nPART TWO: Reducing the Fine Tuning time of LLM with Unsloth\\n\\nIntroduction to Unsloth\\n\\nUnsloth stands out as an innovative framework that streamlines the fine-tuning process of language models, offering a straightforward approach to elevate model performance. This framework seamlessly integrates with popular open-source LLMs such as Mistral, Llama 2.0, and Gemma, providing researchers and practitioners in natural language processing with a versatile toolset for their endeavors.\\n\\nWhat sets Unsloth apart is its flexibility in fine-tuning methodologies, offering options like LoRa and DPO. This versatility empowers users to tailor the fine-tuning process to their specific needs, enhancing the adaptability of language models for diverse applications.\\n\\nA standout feature of Unsloth is its capability to operate efficiently with minimal memory usage during fine-tuning. This unique aspect opens up new possibilities for fine-tuning models on local GPUs and even on Colab GPU, making advanced natural language processing tasks accessible to a broader audience.\\n\\nFor this task I will be fine tuning gemma-2b , with databricks/databricks-dolly-15k dataset\\n\\nSetting up the Environment\\n\\nWe will be using Colab Notebook with free tier GPU (T5) for our end goal.Before delving into the fine-tuning process, the notebook begins by installing the Unsloth library and importing the necessary modules.The code showcases how to instantiate a FastLanguageModel, a component of Unsloth, with specific configurations such as maximum sequence length, data type, and 4-bit loading.In this article, we will be choosing the latest state-of-the-art LLM model: Gemma, which was released by Google.\\n\\nFastLanguageModel object provides a get_peft_model attribute where we can configure various parameters for finetuning, such as the number of attention heads, target modules, dropout rate, LoRa alpha and more.The use of gradient checkpointing and other advanced techniques showcases Unsloth’s capability to optimize model performance.\\n\\nData Preparation and Formatting\\n\\nIn order to finetune, we need to give LLM the access to an unseen dataset with a prompt template that it will get trained on.In our case, we are using a text generation dataset : databricks/databricks-dolly-15k\\n\\nTo make the data accessible to the model, we undertake the task of mapping all datapoints into a standardized format. This involves ensuring a consistent prompt structure with labeled inputs and outputs, specifically categorized as Instruction, Context, and Response (in this scenario)This standardized format ensures effective utilization of the dataset during the fine-tuning phase.\\n\\nFinetuning of LLM\\n\\nThe penultimate step is initialising a Supervised Fine-tuning Trainer that aids in the fine-tuning process.It initialises the model, along with the dataset that it has to finetune on, along with a tokenizer and all the required Training Arguments (learning rate, maximum steps, weight decay, optimisation, etc).\\n\\nThe fine-tuning looks something like this:\\n\\nGenerating Responses\\n\\nWe conclude the process by showcasing the model’s response generation capabilities. It utilizes a prompt format, including instructions, context, and an initial response.\\n\\nTo sum up, this article offers an in-depth guide on the fine-tuning of language models utilizing Unsloth and with normal approach. Covering everything from the initial setup of the environment to the meticulous mapping of datasets, the article also delves into the crucial steps of instantiating the fine-tuning process and conducting inference from the model.\\n\\nReference:\\n\\nFine-Tuning Large Language Models with Unsloth\\n\\nIn this article, we will explore the fine-tuning process of large language models using Unsloth, a powerful framework…\\n\\nmedium.com\\n\\nGitHub — unslothai/unsloth: 5X faster 60% less memory QLoRA finetuning\\n\\nhttps://huggingface.co/docs/peft/conceptual_guides/lora?source=post_page-----fb60abdeba07--------------------------------\\n\\n--\\n\\n--\\n\\n2\\n\\nWritten by Tejpal Kumawat\\n\\nArtificial Intelligence enthusiast that is constantly looking for new challenges and researching cutting-edge technology to improve the world !!\\n\\nResponses (2)\\n\\nHelp\\n\\nStatus\\n\\nAbout\\n\\nCareers\\n\\nPress\\n\\nBlog\\n\\nPrivacy\\n\\nRules\\n\\nTerms\\n\\nText to speech\\n\\n'),\n",
              "  Document(metadata={}, page_content='Optimizing LLMs: A Step-by-Step Guide to Fine-Tuning with PEFT and QLoRA\\nSkip to content\\n \\n\\nHome\\nGithub\\nDocumentation\\nDiscord\\nYouTube\\n\\nSign in Subscribe\\nLight Dark System\\n\\nOptimizing LLMs: A Step-by-Step Guide to Fine-Tuning with PEFT and QLoRA\\nBlog 14 min read Sep 27, 2023\\nA Practical Guide to Fine-Tuning LLM using QLora\\nConducting inference with large language models (LLMs) demands significant GPU power and memory resources, which can be prohibitively expensive. To enhance inference performance and speed, it is imperative to explore lightweight LLM models. Researchers have developed a few techniques. In this blog, we’ll delve into these essential concepts that enable cost-effective and resource-efficient deployment of LLMs.\\nWhat is Instruction Fine-Tuning?\\nInstruction fine-tuning is a critical technique that empowers large language models (LLMs) to follow specific instructions effectively. When we begin with a base model, pre-trained on an immense corpus of worldly knowledge, it boasts extensive knowledge but might not always comprehend and respond to specific prompts or queries. In essence, it requires fine-tuning to tailor its behavior.\\nWhen Does Instruction Fine-Tuning Work?\\nInstruction fine-tuning shines in specific scenarios:\\n\\nPrecision Tasks: When precision in responses is paramount, such as classifying, summarizing, or translating content, instruction fine-tuning significantly enhances accuracy.\\nComplex Tasks: For intricate tasks involving multiple steps or nuanced understanding, instruction fine-tuning equips the model to generate meaningful outputs.\\nDomain-Specific Tasks: In specialized domains, instruction fine-tuning enables the model to adapt to unique language and context.\\nTasks Requiring Improved Accuracy: When base model responses require refinement for higher accuracy, instruction fine-tuning becomes invaluable.\\n\\nWhen Might Instruction Fine-Tuning Fall Short?\\nDespite its advantages, instruction fine-tuning may face challenges in specific situations:\\n\\nSmaller Models: Instruction fine-tuning can be tough for smaller LLMs with fewer parameters, impacting performance.\\nLimited Space in Prompts: Long examples or instructions in prompts may reduce space for essential context.\\nHigh Memory and Compute Demands: Full fine-tuning, and updating all model weights, needs significant memory and computation, which may not work in resource-limited setups.\\n\\nMitigating Catastrophic Forgetting in Fine-Tuning\\nWhile instruction fine-tuning is a potent tool for boosting LLM performance, it’s crucial to address a potential challenge called catastrophic forgetting. This issue can affect the model’s ability to generalize to other tasks, necessitating strategies to minimize its impact.\\nWhen Does Catastrophic Forgetting Occur?\\nCatastrophic forgetting usually arises during fine-tuning when an LLM is optimized for a single task, potentially erasing or degrading its prior capabilities. For example, fine-tuning a sentiment analysis task may lead the model to struggle with tasks it previously excelled at, like named entity recognition.\\nOptions to Address Catastrophic Forgetting: To mitigate or prevent catastrophic forgetting, consider these approaches:\\n1. Task-Specific Multitask Fine-Tuning: When aiming to preserve a model’s multitask capabilities and prevent catastrophic forgetting, you can opt for task-specific multitask fine-tuning. This approach involves fine-tuning multiple tasks simultaneously, ensuring the model maintains its versatility. However, it comes with a requirement for a substantial dataset containing examples across various tasks.\\ni)\\xa0Single Task Fine-Tuning Example: Imagine you have a base model and a specific task, such as sentiment analysis. Single-task fine-tuning involves optimizing the model exclusively for this task, resulting in improved performance in sentiment analysis. However, this process may lead to forgetting other tasks it previously excelled in.\\nii)Multitask Fine-Tuning Example\\xa0— FLAN-T5: FLAN-T5 serves as an excellent example of multitask fine-tuning. It’s a multitask fine-tuned version of the T5 foundation model. FLAN-T5 has been trained on a diverse range of datasets and tasks, encompassing 473 datasets across 146 task categories. This extensive multitask fine-tuning equips FLAN-T5 to excel in various tasks simultaneously, making it a versatile and capable model.\\n2. Parameter Efficient Fine-Tuning (PEFT): PEFT offers a more memory-efficient alternative to full fine-tuning. It preserves most of the original LLM’s weights while training only a small number of task-specific adapter layers and parameters. We’ll explore PEFT further in this blog series.\\nParameter Efficient Fine-Tuning (PEFT): Making LLMs More Efficient\\nTraining large language models (LLMs) is a computational behemoth. Full fine-tuning, where all model weights are updated during supervised learning, demands immense memory capacity, including storage for model weights, optimizer states, gradients, forward activations, and temporary memory throughout the training process. This memory load can swiftly surpass what’s feasible on consumer hardware.\\nIn contrast, parameter-efficient fine-tuning (PEFT) methods offer an elegant solution. PEFT strategically targets only a fraction of the model’s parameters for modification, significantly reducing memory requirements. Here’s why PEFT matters:\\n\\nFocused Parameter Updates: PEFT targets specific model parameters, reducing memory load.\\nMemory Efficiency: PEFT keeps most LLM weights frozen, using only a fraction of the original model’s parameters, making it suitable for limited hardware.\\nCatastrophic Forgetting Mitigation: PEFT minimizes the risk of catastrophic forgetting.\\nAdaptation to Multiple Tasks: PEFT efficiently adapts to various tasks without significant storage demands.\\n\\nPEFT Methods:\\n\\nSelective Methods: Fine-tune a subset of LLM parameters, offering a balance between parameter efficiency and computational cost.\\nReparameterization Methods: Reduce trainable parameters by creating new low-rank transformations of existing LLM weights, we can use LoRA, QLora methods\\nAdditive Methods: Keep original LLM weights frozen and introduce new trainable components, such as adapter layers or\\xa0soft prompt methods.\\n\\nStay tuned as we explore specific PEFT techniques like prompt tuning and LoRA to understand how they reduce memory requirements during LLM fine-tuning.\\nNow we’ll delve into specific PEFT techniques QLora, a deeper understanding of how these methods reduce memory requirements during LLM fine-tuning\\nLoRA (Low-rank Adaptation): Reducing Memory for LLM Fine-Tuning\\nLow-rank Adaptation, or LoRA, is a parameter-efficient fine-tuning technique categorized under re-parameterization methods. LoRA aims to drastically cut down the number of trainable parameters while fine-tuning large language models (LLMs). Here’s a closer look at how LoRA works:\\n\\nUnderstanding the Transformer Architecture: To appreciate LoRA, let’s revisit the fundamental architecture of a transformer model. The transformer architecture consists of an encoder and/or decoder part, each containing self-attention and feedforward networks. These components have weights that are initially learned during pre-training.\\nReducing Parameters with LoRA: LoRA employs a smart strategy — that freezes all the original model parameters and introduces a pair of rank decomposition matrices alongside the existing weights. The key steps in LoRA are as follows:\\n\\n\\nLow-Rank Matrices: LoRA introduces two low-rank matrices, Matrix A and Matrix B, alongside the original LLM weights.\\nMatrix Dimensions: The dimensions of these smaller matrices are carefully set so that their product results in a matrix of the same dimensions as the weights they’re modifying.\\nTraining Low-Rank Matrices: During fine-tuning, you keep the original LLM weights frozen while training Matrix A and Matrix B using supervised learning, a process you’re already familiar with.\\nInference: For inference, you multiply the two low-rank matrices together to create a matrix with the same dimensions as the frozen weights. You then add this new matrix to the original weights and replace them in the model.\\nSignificant Parameter Reduction: One of LoRA’s remarkable features is its ability to substantially reduce the number of trainable parameters. To put this into perspective, let’s consider an example based on the transformer architecture’s dimensions. A typical weights matrix in a transformer has 32,768 trainable parameters. If you apply LoRA with a rank of eight, you will train two small rank decomposition matrices. Matrix A with dimensions 8 by 64 results in 512 trainable parameters, while Matrix B with dimensions 512 by 8 amounts to 4,096 trainable parameters. In total, you’re training just 4,608 parameters, which is an 86% reduction compared to the original.\\n\\nDue to its parameter efficiency, LoRA can often be executed on a single GPU, eliminating the need for an extensive distributed GPU cluster. The memory required to store LoRA matrices is minimal, enabling fine-tuning for numerous tasks without the burden of storing multiple full-size LLM versions.\\nLoRA Performance: LoRA’s efficiency doesn’t come at the cost of performance. While the reduction in parameters might lead to slightly lower performance gains compared to full fine-tuning, LoRA still delivers impressive results, especially when compared to the base LLM model.\\nIn practice, LoRA is an invaluable tool for efficiently fine-tuning LLMs and adapting them to specific tasks without overwhelming computational and memory resources. It strikes a balance between parameter efficiency and performance, making it a go-to technique for many natural language processing applications.\\nBut wait, there’s a game-changer on the horizon — QLoRA.\\nWhat Is QLoRA?\\nQLoRA, which stands for Quantized Low-rank Adaptation, takes fine-tuning to the next level. It empowers you to fine-tune LLMs on a single GPU, pushing the boundaries of what’s possible. How does QLoRA differ from LoRA?\\nThe paper introduces QLoRA, an efficient fine-tuning method that enables the training of a 65-billion-parameter language model on a single 48GB GPU while maintaining good performance. QLoRA leverages 4-bit quantization and Low-Rank Adapters (LoRA) to achieve this. The authors’ best model family, named Guanaco, outperforms previously released models on the Vicuna benchmark, reaching 99.3% of ChatGPT’s performance with just 24 hours of fine-tuning on a single GPU.\\nKey innovations in QLoRA include the use of a 4-bit NormalFloat (NF4) data type for normally distributed weights, double quantization to reduce memory usage, and paged optimizers to manage memory spikes. They fine-tune over 1,000 models using QLoRA and analyze instruction following and chatbot performance across various datasets, model types (LLaMA, T5), and scales (33B and 65B parameters).\\nResults show that QLoRA fine-tuning with a small high-quality dataset achieves state-of-the-art results, even with smaller models compared to previous state-of-the-art models. The paper also discusses chatbot performance, highlighting that GPT-4 evaluations can be a cost-effective alternative to human evaluation. Additionally, the authors question the reliability of current chatbot benchmarks for evaluating chatbot performance and present a comparative analysis between Guanaco and ChatGPT.\\nThe authors have made their\\xa0models and code, including CUDA kernels for 4-bit training, available to the public.\\nThe QLoRA Advantage\\nQLoRA introduces innovative techniques that set it apart: Certainly, here’s a concise summary of QLORA’s key innovations:\\nQLora’s Memory-Efficient Innovations:\\n\\n4-bit NormalFloat: QLORA introduces a quantization data type optimized for normally distributed data, achieving efficient compression with minimal information loss.\\nDouble Quantization: This technique quantizes the quantization constants, saving an average of about 0.37 bits per parameter, leading to significant memory savings in large models.\\nPaged Optimizers: QLORA uses NVIDIA unified memory to tackle memory spikes during training, especially when processing long sequences, making it feasible to train large models without running into memory limitations.\\n\\nThese innovations collectively enable more efficient and memory-friendly training of large-scale language models, making QLORA a groundbreaking approach for AI research and development\\nGetting Hands-On with QLORA: Implementation and Fine-Tuning\\nEnough theory; it’s time to roll up our sleeves and dive into the exciting world of QLORA. In this hands-on session, we’ll walk through the steps to fine-tune a model using QLORA and save it in a quantized form. To achieve this, we’ll rely on two powerful libraries: Transformers and Bits & Bytes. These libraries are the cornerstone of implementing QLoRA, a remarkable evolution of the Low-Rank Adapter (LoRA) technique, supercharged with quantization.\\nBut before we embark on this coding adventure, let’s make sure we have all the essential libraries in place. So, fasten your seatbelts as we take the first steps towards unleashing the full potential of QLORA in your AI projects.”\\nLibrary Setup:\\nTo work with QLORA, we’ll use two essential libraries:\\n\\nTransformers: This library is crucial for handling pre-trained language models, including QLORA, and facilitates fine-tuning and deployment.\\nBits & Bytes: This is the core of QLORA’s functionality. It seamlessly integrates QLORA with Transformers, simplifying the process.\\n\\nAdditionally, we’ll harness the power of Hugging Face Accelerate, a library that optimizes training for large language models, ensuring faster and more efficient results.\\npython\\n!pip install -q -U trl transformers accelerate git+https://github.com/huggingface/peft.git\\n!pip install -q datasets bitsandbytes einops wandb\\n!pip install -Uqqq pip --progress-bar off\\n!pip install -qqq bitsandbytes==0.39.0 --progress-bar off\\n!pip install -qqq torch==2.0.1 --progress-bar off\\n!pip install -qqq -U git+https://github.com/huggingface/transformers.git@e03a9cc --progress-bar off\\n!pip install -qqq -U git+https://github.com/huggingface/peft.git@42a184f --progress-bar off\\n!pip install -qqq -U git+https://github.com/huggingface/accelerate.git@c9fbb71 --progress-bar off\\n!pip install -qqq datasets==2.12.0 --progress-bar off\\n!pip install -qqq loralib==0.1.1 --progress-bar off\\n!pip install -qqq einops==0.6.1 --progress-bar off\\npython\\nimport json\\nimport os\\nfrom pprint import pprint\\nimport bitsandbytes as bnb\\nimport pandas as pd\\nimport torch\\nimport torch.nn as nn\\nimport transformers\\nfrom datasets import load_dataset\\nfrom huggingface_hub import notebook_login\\nfrom peft import (\\n    LoraConfig,\\n    PeftConfig,\\n    PeftModel,\\n    get_peft_model,\\n    prepare_model_for_kbit_training,\\n)\\nfrom transformers import (\\n    AutoConfig,\\n    AutoModelForCausalLM,\\n    AutoTokenizer,\\n    BitsAndBytesConfig,\\n)\\nWe must include our Hugging Face token, ensure that it’s in write mode, and ultimately, use it to upload our model weights to the Hugging Face platform.\\npython\\nnotebook_login()\\nDownload the sample dataset of e-commerce faq & we will finetune using this dataset\\nconsole\\n!gdown 1tiAscG941evQS8RzjznoPu8meu4unw5A\\nCheck the few samples of data. we are using\\xa0pprint\\xa0library\\npython\\npprint(data[\"questions\"][0], sort_dicts=False)\\nbelow is a data format of our FAQ-based dataset.\\nThis structured dataset provides answers to common queries, ensuring a seamless shopping experience for our valued customers. & we are fine-tuning the model based on this data.\\n\\npython\\nwith open(\"dataset.json\", \"w\") as f:\\n    json.dump(data[\"questions\"], f)\\nModel selection\\nIn our current approach, we have implemented a sharded model\\xa0TinyPixel/Llama-2–7B-bf16-sharded\\xa0which involves dividing a large neural network model into multiple smaller pieces, typically more than 14 pieces in our case. This sharding strategy has proven to be highly beneficial when combined with the ‘accelerate’ framework\\nWhen a model is sharded, each shard represents a portion of the overall model’s parameters. Accelerate can then efficiently manage these shards by distributing them across various parts of the memory, including GPU memory and CPU memory. This dynamic allocation of shards allows us to work with very large models without requiring an excessive amount of memory\\npython\\nMODEL_NAME = \"TinyPixel/Llama-2-7B-bf16-sharded\"\\nNow, let’s explore the advanced usage of 4-bit quantization, a technique that can further optimize our model. Before diving in, let’s understand the key parameters and how to use them.\\nIn our code, we make use of the\\xa0BitsAndBytesConfig\\xa0from the \\'transformers\\' library and pass it as an argument to the\\xa0quantization_config\\xa0when calling\\xa0from_pretrained. Don\\'t forget to set\\xa0load_in_4bit = True\\xa0when using\\xa0BitsAndBytesConfig.\\nCompute Data Type: By default, the compute data type used during computation is\\xa0float32. However, you can change it to\\xa0bf16\\xa0(bfloat16) for faster processing. For example, you might want to use\\xa0bf16\\xa0it for computations while keeping hidden states in\\xa0float32.\\npython\\nbnb_config = BitsAndBytesConfig(\\n    load_in_4bit=True,\\n    bnb_4bit_quant_type=\"nf4\",\\n    bnb_4bit_compute_dtype=torch.bfloat16,  # Change this dtype for speedups.\\n)\\nThe 4-bit integration supports two quantization types:\\xa0FP4\\xa0and\\xa0NF4.\\xa0FP4 stands for Fixed Point 4, while NF4 stands for Normal Float 4. The latter is introduced in the QLoRA paper. You can switch between these two types using the\\xa0bnb_4bit_quant_type\\xa0parameter. By default, FP4 quantization is used.\\nFinally, we load our model and tokenizer with these configurations:\\n```python\\nmodel = AutoModelForCausalLM.from_pretrained(\\n    MODEL_NAME,\\n    trust_remote_code=True,\\n    quantization_config=bnb_config,\\n)\\ntokenizer = AutoTokenizer.from_pretrained(MODEL_NAME)\\ntokenizer.pad_token = tokenizer.eos_token\\ndef print_trainable_parameters(model):\\n    \"\"\"\\n    Prints the number of trainable parameters in the model.\\n    \"\"\"\\n    trainable_params = 0\\n    all_param = 0\\n    for _, param in model.named_parameters():\\n        all_param += param.numel()\\n        if param.requires_grad:\\n            trainable_params += param.numel()\\n    print(\\n        f\"trainable params: {trainable_params} || all params: {all_param} || trainable%: {100 * trainable_params / all_param}\"\\n    )\\n```\\nThis code snippet enables gradient checkpointing to reduce memory usage during training and then preparing the model for quantization\\npython\\nmodel.gradient_checkpointing_enable()\\nmodel = prepare_model_for_kbit_training(model)\\nLoraConfig\\xa0allows you to control how LoRA is applied to the base model through the following parameters:\\n```python\\nfrom peft import LoraConfig, get_peft_model\\nlora_alpha = 16\\nlora_dropout = 0.1\\nlora_r = 64\\nconfig = LoraConfig(\\n    lora_alpha=lora_alpha,\\n    lora_dropout=lora_dropout,\\n    r=lora_r,\\n    bias=\"none\",\\n    task_type=\"CAUSAL_LM\"\\n)\\nmodel = get_peft_model(model, config)\\nprint_trainable_parameters(model)\\n```\\nbelow are the hyperparameters we can choose; you can always do the experiments & select the best\\npython\\ngeneration_config = model.generation_config\\ngeneration_config.max_new_tokens = 80   # maxium no of token in output will get\\ngeneration_config.temperature = 0.7\\ngeneration_config.top_p = 0.7\\ngeneration_config.num_return_sequences = 1\\ngeneration_config.pad_token_id = tokenizer.eos_token_id\\ngeneration_config.eos_token_id = tokenizer.eos_token_id\\n```python\\n%%time\\nSpecify the target device for model execution, typically a GPU.\\ndevice = \"cuda:0\"\\nTokenize the input prompt and move it to the specified device.\\nencoding = tokenizer(prompt, return_tensors=\"pt\").to(device)\\nRun model inference in evaluation mode (inference_mode) for efficiency.\\nwith torch.inference_mode():\\n    outputs = model.generate(\\n        input_ids=encoding.input_ids,\\n        attention_mask=encoding.attention_mask,\\n        generation_config=generation_config,\\n    )\\nDecode the generated output and print it, excluding special tokens.\\nprint(tokenizer.decode(outputs[0], skip_special_tokens=True))\\n```\\nNow we can prepare prompts for text-generation tasks\\n```python\\ndef generate_prompt(data_point):\\n    return f\"\"\"\\n: {data_point[\"question\"]}\\n: {data_point[\"answer\"]}\\n\"\"\".strip()\\ndef generate_and_tokenize_prompt(data_point):\\n    full_prompt = generate_prompt(data_point)\\n    tokenized_full_prompt = tokenizer(full_prompt, padding=True, truncation=True)\\n    return tokenized_full_prompt\\ndata = data[\"train\"].shuffle().map(generate_and_tokenize_prompt)\\n```\\ncreate an output folder for saving all experiments\\npython\\nOUTPUT_DIR = \"experiments\"\\nwe are using TensorBoard for tracking our experiments.\\npython\\n%load_ext tensorboard\\n%tensorboard --logdir experiments/runs\\nBelow are several training parameters. To explore all of them, please refer to the\\xa0BitsAndBytesConfig\\n```python\\ntraining_args = transformers.TrainingArguments(\\n    per_device_train_batch_size=1,\\n    gradient_accumulation_steps=4,\\n    num_train_epochs=1,\\n    learning_rate=2e-4,\\n    fp16=True,\\n    save_total_limit=3,\\n    logging_steps=1,\\n    output_dir=OUTPUT_DIR,\\n    max_steps=80,\\n    optim=\"paged_adamw_8bit\",\\n    lr_scheduler_type=\"cosine\",\\n    warmup_ratio=0.05,\\n    report_to=\"tensorboard\",\\n)\\ntrainer = transformers.Trainer(\\n    model=model,\\n    train_dataset=data,\\n    args=training_args,\\n    data_collator=transformers.DataCollatorForLanguageModeling(tokenizer, mlm=False),\\n)\\nmodel.config.use_cache = False\\ntrainer.train()\\n```\\n\\nTrained model for a few epochs. now save the trained model\\npython\\nmodel.save_pretrained(\"trained-lama_model\")\\nnow we are pushing our weights to Huggingface hub, so later we can use these weights for fine-tuning use your own directory name to push it into your HF repo.\\npython\\nmodel.push_to_hub(\\n    \"akashAD/Llama2-7b-qlora-chat-support-bot-faq\", use_auth_token=True\\n)\\nload the trained model\\n```python\\nPEFT_MODEL = \"akashAD/Llama2-7b-qlora-chat-support-bot-faq\"\\nconfig = PeftConfig.from_pretrained(PEFT_MODEL)\\nmodel = AutoModelForCausalLM.from_pretrained(\\n    config.base_model_name_or_path,\\n    return_dict=True,\\n    quantization_config=bnb_config,\\n    device_map=\"auto\",\\n    trust_remote_code=True,\\n)\\ntokenizer = AutoTokenizer.from_pretrained(config.base_model_name_or_path)\\ntokenizer.pad_token = tokenizer.eos_token\\nmodel = PeftModel.from_pretrained(model, PEFT_MODEL)\\n```\\nbelow are some experimental hyperparameters you can play with it to get the best results\\npython\\ngeneration_config = model.generation_config\\ngeneration_config.max_new_tokens = 50\\ngeneration_config.temperature = 0.3\\ngeneration_config.top_p = 0.7\\ngeneration_config.num_return_sequences = 1\\ngeneration_config.pad_token_id = tokenizer.eos_token_id\\ngeneration_config.eos_token_id = tokenizer.eos_token_id\\n```python\\n%%time\\nprompt = f\"\"\"\\n: How can I create an account?\\n:\\n\"\"\".strip()\\nencoding = tokenizer(prompt, return_tensors=\"pt\").to(DEVICE)\\nwith torch.inference_mode():\\n    outputs = model.generate(\\n        input_ids=encoding.input_ids,\\n        attention_mask=encoding.attention_mask,\\n        generation_config=generation_config,\\n)\\n\\nprint(tokenizer.decode(outputs[0], skip_special_tokens=True))\\n```\\nThe below code utilizes our model to generate text responses from user questions, streamlining conversational AI interactions\\n```python\\ndef generate_response(question: str) -> str:\\n    prompt = f\"\"\"\\n: {question}\\n:\\n\"\"\".strip()\\n    encoding = tokenizer(prompt, return_tensors=\"pt\").to(DEVICE)\\n    with torch.inference_mode():\\n        outputs = model.generate(\\n            input_ids=encoding.input_ids,\\n            attention_mask=encoding.attention_mask,\\n            generation_config=generation_config,\\n        )\\n    response = tokenizer.decode(outputs[0], skip_special_tokens=True)\\nassistant_start = \":\"\\nresponse_start = response.find(assistant_start)\\nreturn response[response_start + len(assistant_start) :].strip()\\n\\n```\\nnow let us ask questions to our model\\npython\\nprompt = \"Can I return a product if it was a clearance or final sale item?\"\\nprint(generate_response(prompt))\\npython\\nprompt = \"What happens when I return a clearance item?\"\\nprint(generate_response(prompt))\\nThat\\'s it; you can try to play with these hyperparameters to achieve better results.\\nFeel free to explore the power of LLMs on your own data with this\\xa0Colab notebook\\nSummary\\nThis blog explores instruction fine-tuning and mitigating catastrophic forgetting in large language models (LLMs). It covers how instruction fine-tuning improves LLMs for precision tasks but may face challenges with smaller models and resource constraints.\\nTo tackle catastrophic forgetting, strategies like task-specific multitask fine-tuning and parameter-efficient fine-tuning (PEFT) are discussed, with a focus on PEFT’s memory efficiency.\\nThe blog introduces LoRA (Low-rank Adaptation), a parameter-efficient fine-tuning technique, and QLoRA (Quantized Low-rank Adaptation), which enhances LoRA. It explains their benefits and differences.\\nA hands-on QLoRA implementation is demonstrated using Transformers and Bits & Bytes libraries, including model selection and training. Lastly, we covered saving and sharing trained models on the Hugging Face Hub and provided instructions for model loading and text generation tasks.\\nStay tuned for upcoming blogs as we delve deeper into the world of Large Language Models (LLMs). Your support is greatly appreciated — leave a like if you found our exploration enlightening!\\nFor a deeper dive into cutting-edge technology, explore the\\xa0vector-recipes\\xa0repository, brimming with real-world examples, use cases, and recipes to ignite your next project. We trust you found this journey informative and inspiring. Cheers!\\nTags\\nBlog\\nShare with friends\\n\\n\\n\\n\\nLink copied\\n\\n\\nPosted by Akash Desai\\nYou might also like\\n\\nLate interaction & efficient Multi-modal retrievers need more than a vector index ---------------------------------------------------------------------------------\\nBlog 10 min read\\n\\nImprove (almost) every retriever with LanceDB hybrid search and Reranking -------------------------------------------------------------------------\\nBlog 7 min read\\n\\nMy summer internship experience at LanceDB ------------------------------------------\\nBlog 6 min read\\n\\nDevelopers, Ditch the Black Box: Welcome to Continue ----------------------------------------------------\\nCase Study 3 min read\\n\\nBenchmarking Cohere Rerankers with LanceDB ------------------------------------------\\nBlog 6 min read\\n\\nTokens Per Second is NOT All You Need -------------------------------------\\nBlog 3 min read\\n\\nFeatured\\n\\nLance v2 is now in Beta -----------------------\\nEngineering 5 min read\\n\\nColumnar File Readers in Depth: Scheduling vs Decoding ------------------------------------------------------\\nEngineering 9 min read\\n\\nNew Funding and A New Foundation for Multimodal AI Data -------------------------------------------------------\\nNews 3 min read\\n\\nColumnar File Readers in Depth: Parallelism without Row Groups --------------------------------------------------------------\\nEngineering 7 min read\\n\\n\\nSign up\\nDocumentation\\nJoin Discord Community\\nYouTube\\n\\nLanceDB'),\n",
              "  Document(metadata={}, page_content='Efficient Fine-Tuning with LoRA for LLMs | Databricks Blog\\nSkip to main content\\n\\nLogin\\n\\n\\n\\nWhy Databricks\\n\\n\\n\\n\\nDiscover\\n\\n\\nFor Executives\\n\\n\\nFor Startups\\n\\n\\nLakehouse Architecture\\n\\n\\nMosaic Research\\n\\n\\n\\n\\nCustomers\\n\\n\\nFeatured Stories\\n\\n\\nSee All Customers\\n\\n\\n\\n\\nPartners\\n\\n\\nCloud Providers Databricks on AWS, Azure, and GCP\\n\\n\\nConsulting & System Integrators Experts to build, deploy and migrate to Databricks\\n\\n\\nTechnology Partners Connect your existing tools to your Lakehouse\\n\\n\\nC&SI Partner Program Build, deploy or migrate to the Lakehouse\\n\\n\\nData Partners Access the ecosystem of data consumers\\n\\n\\nPartner Solutions Find custom industry and migration solutions\\n\\n\\nBuilt on Databricks Build, market and grow your business\\n\\n\\n\\n\\n\\n\\n\\n\\nProduct\\n\\n\\n\\n\\nDatabricks Platform\\n\\n\\nPlatform Overview A unified platform for data, analytics and AI\\n\\n\\nData Management Data reliability, security and performance\\n\\n\\nSharing An open, secure, zero-copy sharing for all data\\n\\n\\nData Warehousing Serverless data warehouse for SQL analytics\\n\\n\\nGovernance Unified governance for all data, analytics and AI assets\\n\\n\\nReal-Time Analytics Real-time analytics, AI and applications made simple\\n\\n\\nArtificial Intelligence Build and deploy ML and GenAI applications\\n\\n\\nData Engineering ETL and orchestration for batch and streaming data\\n\\n\\nBusiness Intelligence Intelligent analytics for real-world data\\n\\n\\nData Science Collaborative data science at scale\\n\\n\\n\\n\\nIntegrations and Data\\n\\n\\nMarketplace Open marketplace for data, analytics and AI\\n\\n\\nIDE Integrations Build on the Lakehouse in your favorite IDE\\n\\n\\nPartner Connect Discover and integrate with the Databricks ecosystem\\n\\n\\n\\n\\nPricing\\n\\n\\nDatabricks Pricing Explore product pricing, DBUs and more\\n\\n\\nCost Calculator Estimate your compute costs on any cloud\\n\\n\\n\\n\\nOpen Source\\n\\nOpen Source Technologies Learn more about the innovations behind the platform\\n\\n\\n\\n\\n\\n\\n\\nSolutions\\n\\n\\n\\n\\nDatabricks for Industries\\n\\n\\nCommunications\\n\\n\\nMedia and Entertainment\\n\\n\\nFinancial Services\\n\\n\\nPublic Sector\\n\\n\\nHealthcare & Life Sciences\\n\\n\\nRetail\\n\\n\\nManufacturing\\n\\n\\nSee All Industries\\n\\n\\n\\n\\nCross Industry Solutions\\n\\n\\nCustomer Data Platform\\n\\n\\nCyber Security\\n\\n\\n\\n\\nMigration & Deployment\\n\\n\\nData Migration\\n\\n\\nProfessional Services\\n\\n\\n\\n\\nSolution Accelerators\\n\\nExplore Accelerators Move faster toward outcomes that matter\\n\\n\\n\\n\\n\\n\\n\\nResources\\n\\n\\n\\n\\nTraining and Certification\\n\\n\\nLearning Overview Hub for training, certification, events and more\\n\\n\\nTraining Overview Discover curriculum tailored to your needs\\n\\n\\nDatabricks Academy Sign in to the Databricks learning platform\\n\\n\\nCertification Gain recognition and differentiation\\n\\n\\nUniversity Alliance Want to teach Databricks? See how.\\n\\n\\n\\n\\nEvents\\n\\n\\nData + AI Summit\\n\\n\\nData + AI World Tour\\n\\n\\nData Intelligence Days\\n\\n\\nEvent Calendar\\n\\n\\n\\n\\nBlog and Podcasts\\n\\n\\nDatabricks Blog Explore news, product announcements, and more\\n\\n\\nDatabricks Mosaic Research Blog Discover the latest in our Gen AI research\\n\\n\\nData Brew Podcast Let’s talk data!\\n\\n\\nChampions of Data + AI Podcast Insights from data leaders powering innovation\\n\\n\\n\\n\\nGet Help\\n\\n\\nCustomer Support\\n\\n\\nDocumentation\\n\\n\\nCommunity\\n\\n\\n\\n\\nDive Deep\\n\\n\\nResource Center\\n\\n\\nDemo Center\\n\\n\\n\\n\\n\\n\\n\\n\\nAbout\\n\\n\\n\\n\\nCompany\\n\\n\\nWho We Are\\n\\n\\nOur Team\\n\\n\\nDatabricks Ventures\\n\\n\\nContact Us\\n\\n\\n\\n\\nCareers\\n\\n\\nWorking at Databricks\\n\\n\\nOpen Jobs\\n\\n\\n\\n\\nPress\\n\\n\\nAwards and Recognition\\n\\n\\nNewsroom\\n\\n\\n\\n\\nSecurity and Trust\\n\\nSecurity and Trust\\n\\n\\n\\n\\n\\n\\n\\nReady to get started?\\n\\n\\nGet a Demo\\n\\n\\nLogin\\n\\nContact Us\\nTry Databricks\\n\\nCategories\\n\\nAll blog posts\\nCompany\\nCulture\\nCustomers\\nEvents\\nNews\\n\\n\\nPlatform\\nAnnouncements\\nPartners\\nProduct\\nSolutions\\nSecurity and Trust\\n\\n\\nGenerative AI\\nMosaic Research\\n\\n\\nEngineering\\nData Science and ML\\nOpen Source\\nSolutions Accelerators\\nData Engineering\\nTutorials\\nData Streaming\\nData Warehousing\\n\\n\\nData Strategy\\nBest Practices\\nData Leader\\nInsights\\n\\n\\nIndustries\\nEnergy\\nFinancial Services\\nHealthcare and Life Sciences\\nMedia and Entertainment\\nRetail and Consumer Goods\\nManufacturing\\nPublic Sector\\n\\n\\n\\n\\nEfficient Fine-Tuning with LoRA: A Guide to Optimal Parameter Selection for Large Language Models\\n\\nby Avinash Sooriyarachchi\\nAugust 30, 2023 in Engineering\\nShare this post\\n\\nWith the rapid advancement of neural network-based techniques and Large Language Model (LLM) research, businesses are increasingly interested in AI applications for value generation. They employ various machine learning approaches, both generative and non-generative, to address text-related challenges such as classification, summarization, sequence-to-sequence tasks, and controlled text generation. Organizations can opt for third-party APIs, but fine-tuning models with proprietary data offers domain-specific and pertinent results, enabling cost-effective and independent solutions deployable across different environments in a secure manner.\\nEnsuring efficient resource utilization and cost-effectiveness is crucial when choosing a strategy for fine-tuning. This blog explores arguably the most popular and effective variant of such parameter efficient methods, Low Rank Adaptation (LoRA), with a particular emphasis on QLoRA (an even more efficient variant of LoRA). The approach here will be to take an open large language model and fine-tune it to generate fictitious product descriptions when prompted with a product name and a category. The model chosen for this exercise is\\xa0OpenLLaMA-3b-v2, an open large language model with a permissive license (Apache 2.0), and the dataset chosen is\\xa0Red Dot Design Award Product Descriptions, both of which can be downloaded from the HuggingFace Hub at the links provided.\\nFine-Tuning, LoRA and QLoRA\\nIn the realm of language models, fine tuning an existing language model to perform a specific task on specific data is a common practice. This involves adding a task-specific head, if necessary, and updating the weights of the neural network through backpropagation during the training process. It is important to note the distinction between this finetuning process and training from scratch. In the latter scenario, the model\\'s weights are randomly initialized, while in finetuning, the weights are already optimized to a certain extent during the pre-training phase. The decision of which weights to optimize or update, and which ones to keep frozen, depends on the chosen technique.\\nFull finetuning involves optimizing or training all layers of the neural network. While this approach typically yields the best results, it is also the most resource-intensive and time-consuming.\\nFortunately, there exist parameter-efficient approaches for fine-tuning that have proven to be effective. Although most such approaches have yielded less performance, Low Rank Adaptation (LoRA) has bucked this trend by even outperforming full finetuning in some cases, as a consequence of avoiding catastrophic forgetting (a phenomenon which occurs when the knowledge of the pretrained model is lost during the fine-tuning process).\\nLoRA\\xa0is an improved finetuning method where instead of finetuning all the weights that constitute the weight matrix of the pre-trained large language model, two smaller matrices that approximate this larger matrix are fine-tuned. These matrices constitute the LoRA adapter. This fine-tuned adapter is then loaded to the pretrained model and used for inference.\\nQLoRA\\xa0is an even more memory efficient version of LoRA where the pretrained model is loaded to GPU memory as quantized 4-bit weights (compared to 8-bits in the case of LoRA), while preserving similar effectiveness to LoRA. Probing this method, comparing the two methods when necessary, and figuring out the best combination of QLoRA hyperparameters to achieve optimal performance with the quickest training time will be the focus here.\\nLoRA is implemented in the Hugging Face Parameter Efficient Fine-Tuning (PEFT) library, offering ease of use and QLoRA can be leveraged by using\\xa0bitsandbytes\\xa0and\\xa0PEFT\\xa0together. HuggingFace\\xa0Transformer Reinforcement Learning (TRL)\\xa0library offers a convenient trainer for supervised finetuning with seamless integration for LoRA. These three libraries will provide the necessary tools to finetune the chosen pretrained model to generate coherent and convincing product descriptions once prompted with an instruction indicating the desired attributes.\\nPrepping the data for supervised fine-tuning\\nTo probe the effectiveness of QLoRA for fine tuning a model for instruction following, it is essential to transform the data to a format suited for supervised fine-tuning. Supervised fine-tuning in essence, further trains a pretrained model to generate text conditioned on a provided prompt. It is supervised in that the model is finetuned on a dataset that has prompt-response pairs formatted in a consistent manner.\\nAn example observation from our chosen dataset from the Hugging Face hub looks as follows:\\nproductcategorydescriptiontext\"Biamp Rack Products\"\"Digital Audio Processors\"\"“High recognition value, uniform aesthetics and practical scalability – this has been impressively achieved with the Biamp brand language …\"\"Product Name: Biamp Rack Products; Product Category: Digital Audio Processors; Product Description: “High recognition value, uniform aesthetics and practical scalability – this has been impressively achieved with the Biamp brand language …\\xa0\\nAs useful as this dataset is, this is not well formatted for fine-tuning of a language model for instruction following in the manner described above.\\nThe following code snippet loads the dataset from the Hugging Face hub into memory, transforms the necessary fields into a consistently formatted string representing the prompt, and inserts the response( i.e. the description), immediately afterwards. This format is known as the ‘Alpaca format’ in large language model research circles as it was the format used to finetune the original LlaMA model from Meta to result in the Alpaca model, one of the first widely distributed instruction-following large language models (although not licensed for commercial use).\\nThe resulting prompts are then loaded into a hugging face dataset for supervised finetuning. Each such prompt has the following format.\\nTo facilitate quick experimentation, each fine-tuning exercise will be done on a 5000 observation subset of this data.\\nTesting model performance before\\xa0fine-tuning\\nBefore any fine-tuning, it’s a good idea to check how the model performs without any fine-tuning to get a baseline for pre-trained model performance.\\nThe model can be loaded in 8-bit as follows and prompted with the format specified in the\\xa0model card on Hugging Face.\\nThe output obtained is not quite what we want.\\nThe first part of the result is actually satisfactory, but the rest of it is more of a rambling mess.\\nSimilarly, if the model is prompted with the input text in the ‘Alpaca format’ as discussed before, the output is expected to be just as sub-optimal:\\nAnd sure enough, it is:\\nThe model performs what it was trained to do, predicts the next most probable token. The point of supervised fine-tuning in this context is to generate the desired text in a controllable manner. Please note that in the subsequent experiments, while QLoRA leverages a model loaded in 4-bit with the weights frozen, the inference process to examine output quality is done once the model has been loaded in 8-bit as shown above for consistency.\\nThe Turnable Knobs\\nWhen using PEFT to train a model with LoRA or QLoRA (note that, as mentioned before, the primary difference between the two is that in the latter, the pretrained models are frozen in 4-bit during the fine-tuning process), the hyperparameters of the low rank adaptation process can be defined in a LoRA config as shown below:\\nTwo of these hyperparameters, r and target_modules are empirically shown to affect adaptation quality significantly and will be the focus of the tests that follow. The other hyperparameters are kept constant at the values indicated above for simplicity.\\nr\\xa0represents the rank of the low rank matrices learned during the finetuning process. As this value is increased, the number of parameters needed to be updated during the low-rank adaptation increases. Intuitively, a lower\\xa0r\\xa0may lead to a quicker, less computationally intensive training process, but may affect the quality of the model thus produced. However, increasing r beyond a certain value may not yield any discernible increase in quality of model output. How the value of r affects adaptation (fine-tuning) quality will be put to the test shortly.\\nWhen fine-tuning with LoRA, it is possible to target specific modules in the model architecture. The adaptation process will target these modules and apply the update matrices to them.\\xa0Similar to the situation with \"r,\" targeting more modules during LoRA adaptation results in increased training time and greater demand for compute resources.\\xa0Thus, it is a common practice to only target the attention blocks of the transformer. However, recent work as shown in the\\xa0QLoRA paper\\xa0by Dettmers\\xa0et al.\\xa0suggests that targeting all linear layers results in better adaptation quality. This will be explored here as well.\\nNames of the linear layers of the model can be conveniently appended to a list with the following code snippet:\\nTuning the finetuning with LoRA\\nThe developer experience of fine tuning large language models in general have improved dramatically over the past year or so. The latest high level abstraction from Hugging Face is the SFTTrainer class in the TRL library. To perform QLoRA, all that is needed is the following:\\n1. \\xa0Load the model to GPU memory in 4-bit (bitsandbytes enables this process).\\n2. \\xa0Define the LoRA configuration as discussed above.\\n3. \\xa0Define the train and test splits of the prepped instruction following data into Hugging Face Dataset objects.\\n4. Define training arguments. These include the number of epochs, batch size and other training hyperparameters which will be kept constant during this exercise.\\n5. Pass these arguments into an instance of SFTTrainer.\\nThese steps are clearly indicated in the source file in the\\xa0repository\\xa0associated with this blog.\\nThe actual training logic is abstracted away nicely as follows:\\nIf MLFlow autologging is enabled in the Databricks workspace, which is highly recommended, all the training parameters and metrics are automatically tracked and logged with the MLFlow tracking server. This functionality is invaluable in monitoring long-running training tasks. Needless to say, the fine-tuning process is performed using a compute cluster (in this case, a single node with a single A100 GPU) created using the latest Databricks Machine runtime with GPU support.\\n\\nHyperparameter Combination #1: QLoRA with r=8 and targeting “q_proj”, “v_proj”\\nThe first combination of QLoRA hyperparameters attempted is\\xa0r=8\\xa0and targets only the attention blocks, namely\\xa0“q_proj”\\xa0and\\xa0“v_proj”\\xa0for adaptation.\\nThe following code snippets gives the number of trainable parameters:\\nThese choices result in 2,662,400 parameters being updated during the fine-tuning process (~2.6 million) from a total of ~3.2 billion parameters the model consists of. This is less than 0.1% of the model parameters. The entire finetuning process on a single Nvidia A100 with 80 GBs of GPU for 3 epochs only takes roughly 12 minutes. The GPU utilization metrics can be conveniently viewed at the metrics tab of the cluster configurations.\\n\\nAt the end of the training process, the fine-tuned model is obtained by loading the adapter weights to the pre-trained model as follows:\\nThis model can now be used for inference as any other model.\\nQualitative Evaluation\\nA couple of example prompt-response pairs are listed below\\nPrompt\\xa0(passed to the model in the Alpaca format, not shown for conciseness here):\\nCreate a detailed description for the following product: Corelogic Smooth Mouse, belonging to category: Optical Mouse\\nResponse:\\nPrompt:\\nCreate a detailed description for the following product: Hoover Lightspeed, belonging to category: Cordless Vacuum Cleaner\\nResponse:\\nThe model has clearly been adapted for generating more consistent descriptions. However the response to the first prompt about the optical mouse is quite short and the following phrase “The vacuum cleaner is equipped with a dust container that can be emptied via a dust container”\\xa0is logically flawed.\\nHyperparameter Combination #2: QLoRA with r=16 and targeting all linear layers\\nSurely, things can be improved here. It is worth exploring increasing the rank of low rank matrices learned during adaptation to 16, i.e. double the value of r to 16 and keep all else \\xa0the same. This doubles the number of trainable parameters to 5,324,800 (~5.3 million).\\nQualitative Evaluation\\nThe quality of output, however, remains unchanged for the same exact prompts.\\nPrompt:\\nCreate a detailed description for the following product: Corelogic Smooth Mouse, belonging to category: Optical Mouse\\nResponse:\\nPrompt:\\nCreate a detailed description for the following product: Hoover Lightspeed, belonging to category: Cordless Vacuum Cleaner\\nResponse:\\nThe same lack of detail and logical flaws in detail where details are available persists. If this fine tuned model is used for product description generation in a real-world scenario, this is not acceptable output.\\nHyperparameter Combination #3: QLoRA with r=8 and targeting all linear layers\\nGiven that doubling r does not seemingly result in any perceivable increase in output quality, it is worth changing the other important knob. i.e. targeting all linear layers instead of just the attention blocks. Here, the LoRA hyperparameters are\\xa0r=8\\xa0and target_layers are \\xa0\\'q_proj\\',\\'k_proj\\',\\'v_proj\\',\\'o_proj\\',\\'gate_proj\\',\\'down_proj\\',\\'up_proj\\'\\xa0and\\xa0\\'lm_head\\'. This increases the number of parameters updated to 12,994,560 and increases the training time to roughly 15.5 minutes.\\nQualitative Evaluation\\nPrompting the model with the same prompts yield the following:\\nPrompt:\\nCreate a detailed description for the following product: Corelogic Smooth Mouse, belonging to category: Optical Mouse\\nResponse:\\nPrompt:\\nCreate a detailed description for the following product: Hoover Lightspeed, belonging to category: Cordless Vacuum Cleaner\\nResponse:\\nNow it is possible to see a somewhat longer coherent description of the fictitious optical mouse and there are no logical flaws in the description of the vacuum cleaner. The product descriptions are not only logical, but relevant. Just as a reminder, these relatively high-quality results are obtained by fine-tuning less than a 1% of the model’s weights with a total dataset of 5000 such prompt-description pairs formatted in a consistent manner.\\nHyperparameter Combination #4: LoRA with \\xa0r=8 and targeting all linear transformer layers\\nIt\\xa0is also worth exploring whether the quality of output from the model improves if the pretrained model is\\xa0frozen in 8-bit instead of 4-bit. In other words, replicating the exact finetuning process using LoRA instead of QLoRA. Here, the LoRA hyperparameters are kept the same as before, in the new-found optimal configuration, i.e.\\xa0r=8\\xa0and targeting\\xa0all linear transformer layers\\xa0during the adaptation process.\\nQualitative Evaluation\\nThe results for the two prompts used throughout the article are as given below:\\nPrompt:\\nCreate a detailed description for the following product: Corelogic Smooth Mouse, belonging to category: Optical Mouse\\nResponse:\\nPrompt:\\nCreate a detailed description for the following product: Hoover Lightspeed, belonging to category: Cordless Vacuum Cleaner\\nResponse:\\nAgain, there isn’t much of an improvement in the quality of the output text.\\nKey Observations\\nBased on the above set of trials, and further evidence detailed in the excellent publication presenting QLoRA, it can be deduced that the value of r (the rank of matrices updated during adaptation) does not improve adaptation quality beyond a certain point. The biggest improvement is observed in targeting all linear layers in the adaptation process, as opposed to just the attention blocks, as commonly documented in technical literature detailing LoRA and QLoRA. The trials executed above and other empirical evidence suggest that QLoRA does not indeed suffer from any discernible reduction in quality of text generated, compared to LoRA.\\nFurther Considerations for using LoRA adapters in deployment\\nIt\\'s important to optimize the usage of adapters and understand the limitations of the technique. The size of the LoRA adapter obtained through finetuning is typically just a few megabytes, while the pretrained base model can be several gigabytes in memory and on disk. During inference, both the adapter and the pretrained LLM need to be loaded, so the memory requirement remains similar.\\nFurthermore, if the weights of the pre-trained LLM and the adapter aren’t merged, there will be a slight increase in inference latency. Fortunately, with the PEFT library, the process of merging the weights with the adapter can be done with a single line of code as shown here:\\nThe figure below outlines the process from fine-tuning an adapter to model deployment.\\n\\nWhile the adapter pattern offers significant benefits, merging adapters is not a universal solution. One advantage of the adapter pattern is the ability to deploy a single large pretrained model with task-specific adapters. This allows for efficient inference by utilizing the pretrained model as a backbone for different tasks. However, merging weights makes this approach impossible. The decision to merge weights depends on the specific use case and acceptable inference latency. Nonetheless, LoRA/ QLoRA continues to be a highly effective method for parameter efficient fine-tuning and is widely used.\\nConclusion\\nLow Rank Adaptation is a powerful fine-tuning technique that can yield great results if used with the right configuration. Choosing the correct value of rank and the layers of the neural network architecture to target during adaptation could decide the quality of the output from the fine-tuned model. QLoRA results in further memory savings while preserving the adaptation quality. Even when the fine-tuning is performed, \\xa0there are several important engineering considerations to ensure the adapted model is deployed in the correct manner.\\nIn summary, a concise table indicating the different combinations of LoRA parameters attempted, text quality output and number of parameters updated when fine-tuning OpenLLaMA-3b-v2 for 3 epochs on 5000 observations on a single A100 is shown below.\\nrtarget_modulesBase model weightsQuality of outputNumber of parameters updated (in millions)8Attention blocks4low2.66216Attention blocks4low5.3248All linear layers4high12.9958All linear layers8high12.995\\nTry this on Databricks! Clone the\\xa0GitHub repository\\xa0associated with the blog\\xa0into a Databricks\\xa0Repo\\xa0to get\\xa0started. More thoroughly documented examples to finetune models on Databricks are available\\xa0here.\\nTry Databricks for free\\nGet Started\\nRelated posts\\n\\nUsing MLflow AI Gateway and Llama 2 to Build Generative AI Apps\\nAugust 23, 2023 by Kasey Uhlenhuth, Xiangrui Meng, Hagay Lupesko, Sean Owen, Corey Zumar, Liang Zhang, Ina Koleva, Vladimir Kolovski and Arpit Jasapara in Data Science and ML\\nTo build customer support bots, internal knowledge graphs, or Q&A systems, customers often use Retrieval Augmented Generation (RAG) applications which leverage pre-trained models...\\n\\nDatabricks + MosaicML\\nJuly 19, 2023 by Matei Zaharia, Patrick Wendell, Reynold Xin and Ali Ghodsi in Company\\nToday, we’re excited to share that we’ve completed our acquisition of MosaicML, a leading platform for creating and customizing generative AI models for...\\nSee all Engineering posts\\n\\nWhy Databricks\\nDiscover\\n\\nFor Executives\\nFor Startups\\nLakehouse Architecture\\nMosaic Research\\n\\nCustomers\\n\\nFeatured\\nSee All\\n\\nPartners\\n\\nCloud Providers\\nTechnology Partners\\nData Partners\\nBuilt on Databricks\\nConsulting & System Integrators\\nC&SI Partner Program\\nPartner Solutions\\n\\nWhy Databricks\\nDiscover\\n\\nFor Executives\\nFor Startups\\nLakehouse Architecture\\nMosaic Research\\n\\nCustomers\\n\\nFeatured\\nSee All\\n\\nPartners\\n\\nCloud Providers\\nTechnology Partners\\nData Partners\\nBuilt on Databricks\\nConsulting & System Integrators\\nC&SI Partner Program\\nPartner Solutions\\n\\nProduct\\nDatabricks Platform\\n\\nPlatform Overview\\nSharing\\nGovernance\\nArtificial Intelligence\\nBusiness Intelligence\\nData Management\\nData Warehousing\\nReal-Time Analytics\\nData Engineering\\nData Science\\n\\nPricing\\n\\nPricing Overview\\nPricing Calculator\\n\\nOpen Source\\nIntegrations and Data\\n\\nMarketplace\\nIDE Integrations\\nPartner Connect\\n\\nProduct\\nDatabricks Platform\\n\\nPlatform Overview\\nSharing\\nGovernance\\nArtificial Intelligence\\nBusiness Intelligence\\nData Management\\nData Warehousing\\nReal-Time Analytics\\nData Engineering\\nData Science\\n\\nPricing\\n\\nPricing Overview\\nPricing Calculator\\n\\nOpen Source\\nIntegrations and Data\\n\\nMarketplace\\nIDE Integrations\\nPartner Connect\\n\\nSolutions\\nDatabricks For Industries\\n\\nCommunications\\nFinancial Services\\nHealthcare and Life Sciences\\nManufacturing\\nMedia and Entertainment\\nPublic Sector\\nRetail\\nView All\\n\\nCross Industry Solutions\\n\\nCustomer Data Platform\\nCyber Security\\n\\nData Migration\\nProfessional Services\\nSolution Accelerators\\nSolutions\\nDatabricks For Industries\\n\\nCommunications\\nFinancial Services\\nHealthcare and Life Sciences\\nManufacturing\\nMedia and Entertainment\\nPublic Sector\\nRetail\\nView All\\n\\nCross Industry Solutions\\n\\nCustomer Data Platform\\nCyber Security\\n\\nData Migration\\nProfessional Services\\nSolution Accelerators\\nResources\\nDocumentation\\nCustomer Support\\nCommunity\\nTraining and Certification\\n\\nLearning Overview\\nTraining Overview\\nCertification\\nUniversity Alliance\\nDatabricks Academy Login\\n\\nEvents\\n\\nData + AI Summit\\nData + AI World Tour\\nData Intelligence Days\\nFull Calendar\\n\\nBlog and Podcasts\\n\\nDatabricks Blog\\nDatabricks Mosaic Research Blog\\nData Brew Podcast\\nChampions of Data & AI Podcast\\n\\nResources\\nDocumentation\\nCustomer Support\\nCommunity\\nTraining and Certification\\n\\nLearning Overview\\nTraining Overview\\nCertification\\nUniversity Alliance\\nDatabricks Academy Login\\n\\nEvents\\n\\nData + AI Summit\\nData + AI World Tour\\nData Intelligence Days\\nFull Calendar\\n\\nBlog and Podcasts\\n\\nDatabricks Blog\\nDatabricks Mosaic Research Blog\\nData Brew Podcast\\nChampions of Data & AI Podcast\\n\\nAbout\\nCompany\\n\\nWho We Are\\nOur Team\\nDatabricks Ventures\\nContact Us\\n\\nCareers\\n\\nOpen Jobs\\nWorking at Databricks\\n\\nPress\\n\\nAwards and Recognition\\nNewsroom\\n\\nSecurity and Trust\\nAbout\\nCompany\\n\\nWho We Are\\nOur Team\\nDatabricks Ventures\\nContact Us\\n\\nCareers\\n\\nOpen Jobs\\nWorking at Databricks\\n\\nPress\\n\\nAwards and Recognition\\nNewsroom\\n\\nSecurity and Trust\\n\\nDatabricks Inc.\\n160 Spear Street, 15th Floor\\nSan Francisco, CA 94105\\n1-866-330-0121\\n\\n\\n\\n\\n\\n\\n\\n\\n\\nSee Careers at Databricks\\n\\n\\n\\n\\n\\n\\n\\n\\n© Databricks 2025. All rights reserved. Apache, Apache Spark, Spark and the Spark logo are trademarks of the\\xa0Apache Software Foundation.\\n\\nPrivacy Notice\\n|Terms of Use\\n|Modern Slavery Statement\\n|California Privacy\\n|Your Privacy Choices\\n\\n'),\n",
              "  Document(metadata={}, page_content='In-depth guide to fine-tuning LLMs with LoRA and QLoRA\\n\\nServicesBlogContact\\n\\n\\nIn-depth guide to fine-tuning LLMs with LoRA and QLoRA\\nPranav Patel\\nPEFT Finetuning\\nWhat is PEFT Finetuning?\\nWhy use PEFT Finetuning?\\nLoRA Finetuning\\nHow LoRA works?\\nLoRA finetuning with HuggingFace\\nQLoRA Finetuning\\nHow does QLoRA work?\\nHow is QLoRA different from LoRA?\\nQLoRA finetuning with HuggingFace\\nQLoRA vs Standard FinetuningOther variants of LoRA finetuning\\nQA LoRA\\nLongLoRA\\nHow finetuning improves model performance for your business\\nLanguage Models like GPT-4 have become the de facto standard in the NLP industry for building products and applications. These models are capable of performing a plethora of tasks and can easily adapt to new tasks using Prompt Engineering Techniques. But these models also present a massive challenge around training. Massive models like GPT-4 cost millions of dollars to train, hence we use smaller models in production settings.\\n\\u200d\\nBut smaller models on the other hand cannot generalize to multiple tasks, and we end up having multiple models for multiple tasks of multiple users. This is where PEFT techniques like LoRA come in, these techniques allow you to train large models much more efficiently compared to fully finetuning them. In this blog, we will walk through LoRA, QLoRA, and other popular techniques that emerged specifically from LoRA.\\nWhat is PEFT Finetuning?\\nPEFT Finetuning is Parameter Efficient Fine Tuning, a set of fine-tuning techniques that allows you to fine-tune and train models much more efficiently than normal training. PEFT techniques usually work by reducing the number of trainable parameters in a neural network. The most famous and in-use PEFT techniques are Prefix Tuning, P-tuning, LoRA, etc. LoRA is perhaps the most used one. LoRA also has many variants like QLoRA and LongLoRA, which have their own applications.\\nWhy use PEFT Finetuning?\\nThere are many reasons to use PEFT techniques, they have become the go-to way to finetune LLMs and other models. But here are some reasons why even enterprises and large businesses like to use these approaches.\\nSaves Time\\nAs the number of trainable parameters decreases, you have to spend less time on training. But that’s only one part of it. With less trainable parameters, you can train models much faster, and as a result test models much faster too. With more time on your hands, you can spend it on testing different models, different datasets different techniques, and whatnot.\\n\\u200d\\nAlso, with more time you can train your models for much longer periods of time leading to a much lower loss, along with an increased batch size as PEFT techniques are heavily optimized for memory usage.\\nSaves Money\\nThis goes without saying but PEFT can save you a ton of money on computing costs. As mentioned, because of heavy memory optimizations, you don’t need to rent instances with high amounts of VRAM, as you can fit bigger batches in smaller VRAM. This saves money on the compute and allows you to train on much bigger datasets leveraging the advantage of fitting in larger batch sizes.\\n\\u200d\\nEasily build Multi-Tenancy architecture services\\nAs said, because LLMs have become so large and complicated to serve and handle, it’s almost impossible to train specialized models for users. If you have multiple users, you can either take on the complicated task of finetuning a new model every time a new user comes in, or you can just finetune the same model on the new data for the new user. Both approaches have their own set of issues, if you finetune a new model for every user, it will lead to better accuracy but then you have to handle massive models, load them into memory, store them, process them, etc, it’s an architecture hell and can cause big issues if you make a small mistake. Training the same model for all users is much easier, but then the model accuracy drops significantly.\\n\\u200d\\n\\n\\u200d\\nPEFT finetuning on the other hand takes the best of both worlds and lets you build small adapters that you can pair with models and get customized results. These adapters can be finetuned for specific datasets or specific users. These adapters are very small, 6MB-8MB, and you only need to apply these adapters to the large model, which is much faster to do in a production environment.\\n\\u200d\\n\\nLoRA Finetuning\\nLoRA is the most popular and perhaps the most used PEFT technique, but was released back in 2021 in this paper. LoRA is more of an adapter approach, where it introduces new parameters into the model to train the model through these new parameters. The trick is in how the new params are introduced and merged back into the model, without increasing the total number of params in the model.\\nHow LoRA works?\\nAs mentioned before, LoRA is an adapter-based approach, but new parameters are added only for the training step, they are not introduced as a part of the model. This keeps the model size completely the same and still offers the flexibility of parameter-efficient finetuning. Here’s a more detailed explanation of how it works.\\n\\u200d\\nLoRA works by breaking down the weight update matrix into smaller matrices and using them to train the model. Take a look at the diagram below, the ΔWAxB is the weight update matrix, the matrix of learned changes from backpropagation, this is the same size as the number of parameters we need to update to finetune our model. This matrix, or any matrix, can be represented as a set of smaller matrices, presented here as A and B with r as their rank. The r parameter controls the size of the smaller matrices.\\n\\u200d\\nThese smaller matrices can then be used to train the model using normal backpropagation but updating the parameters in the smaller matrices rather than updating directly in the model. We basically learn the ΔW through the smaller matrices. These smaller matrices can then be multiplied together to get back the original matrix. As these matrices are much smaller, this process uses fewer parameters and as a result much fewer computation resources. This also results in smaller checkpoints as you don’t have to store the whole model, but just the smaller matrices.\\n\\u200d\\n\\n\\u200d\\nLoRA finetuning with HuggingFace\\nTo implement LoRA finetuning with HuggingFace, you need to use the PEFT library to inject the LoRA adapters into the model and use them as the update matrices.\\n\\u200d\\n```py\\nfrom transformers import AutoModelForCausalLM\\nfrom peft import get_peft_config, get_peft_model, LoraConfig, TaskType\\nmodel = AutoModelForCausalLM.from_pretrained(model_name_or_path, device_map=\"auto\", trust_remote_code=True) # load the model\\npeft_config = LoraConfig(\\n    task_type=TaskType.CAUSAL_LM, inference_mode=False, r=32, lora_alpha=16, lora_dropout=0.1,\\n    target_modules=[\\'query_key_value\\'] # optional, you can target specific layers using this\\n) # create LoRA config for the finetuning\\nmodel = get_peft_model(model, peft_config) # create a model ready for LoRA finetuning\\nmodel.print_trainable_parameters() \\ntrainable params: 9,437,184 || all params: 6,931,162,432 || trainable%: 0.13615586263611604\\n```\\n\\u200d\\nOnce this is done, you can train the model as you would normally do. But this time it will take much less time and compute resources as it normally does.\\nQLoRA Finetuning\\nQLoRA is a finetuning technique that combines a high-precision computing technique with a low-precision storage method. This helps keep the model size small while still making sure the model is still highly performant and accurate.\\nHow does QLoRA work?\\n\\nQLoRA works by introducing 3 new concepts that help to reduce memory while keeping the same quality performance. These are 4-bit Normal Float, Double Quantization, and Paged Optimizers. Let’s talk about these 3 very important concepts in detail.\\n4-Bit Normal Float\\n4-bit NormalFloat or NF is a new information-theoretically optimal data type built on top of Quantile Quantization techniques. 4-Bit NF works by estimating the 2k + 1 (k is the number of bits) quantiles in a 0 to 1 distribution, then normalizing its values into the [-1, 1] range. Once we have that, we can also normalize our neural network weights into the [-1, 1] range and then quantize into the quantiles we got from step 2.\\n\\u200d\\nHere’s an example of what quantile quantization looks like\\n\\u200d\\n\\nYou can see that there are “buckets” or “bins” of data where the data is quantized. Both the numbers 2 and 3 fall into the same quantile, 2. This quantization process allows you to use fewer numbers by “rounding off” to the nearest quantile.\\nDouble Dequantization\\nDouble quantization is the process of quantizing the quantization constants used during the quantization process in the 4-bit NF quantization. This is not important, but can save 0.5 bits per parameter on average, as mentioned in the paper. This helps with the process because QLoRA uses Block-wise k-bit Quantization, meaning instead of quantizing all the weights together, we create multiple chunks or blocks of weights which are then quantized independently.\\n\\u200d\\nThis block-wise method leads to multiple quantization constants being created, which then once again can be quantized to save additional space. This is okay because the number of quantization constants is low and hence not a lot of computing or storage is required.\\nError Reduction with LoRA Tuning\\nAs shown before, quantile quantization creates buckets or bins for a large range of numbers. This process leads to placing multiple different numbers into the same buckets, for example, two numbers 2 and 3 can be converted into 3 during the quantization process. This leads to an error of 1 being introduced during the dequantization of weights.\\n\\u200d\\nHere is a graphical representation of these errors on a larger distribution of weights of a neural network.\\n\\u200d\\n\\n\\u200d\\nThis error is why QLoRA is more of a finetuning mechanism than a standalone quantization strategy. Although it can be used for 4-bit inference. When fine-tuning with QLoRA we use the LoRA tuning mechanism of creating 2 smaller weight update matrices and then using them to update the weights of the neural network. Here, we keep the LoRA matrices in a higher precision format, like brain float 16 or float 16 and during the backpropagation and forward pass the weights of the network are also de-quantized. So the actual training is still happening in higher precision formats, but the storage is still in lower precision. This causes quantization errors to emerge, but the model training itself is able to compensate for these inefficiencies in the quantization process.\\n\\u200d\\nHence, the LoRA training with higher precision helps the model learn about and reduce the quantization errors.\\nHow is QLoRA different from LoRA?\\nQLoRA and LoRA both are finetuning techniques, but QLoRA uses LoRA as an accessory to fix the errors introduced during the quantization errors. LoRA in itself is more of a standalone finetuning technique.\\nQLoRA finetuning with HuggingFace\\nTo do QLoRA finetuning with HuggingFace, you need to install both the BitsandBytes library and the PEFT library. The BitsandBytes library takes care of the 4-bit quantization and the whole low-precision storage and high-precision compute part. The PEFT library will be used for the LoRA finetuning part.\\n\\u200d\\n```py\\nimport torch\\nfrom peft import prepare_model_for_kbit_training, LoraConfig, get_peft_model\\nfrom transformers import AutoTokenizer, AutoModelForCausalLM, BitsAndBytesConfig\\nmodel_id = \"EleutherAI/gpt-neox-20b\"\\nbnb_config = BitsAndBytesConfig(\\n    load_in_4bit=True,\\n    bnb_4bit_use_double_quant=True,\\n    bnb_4bit_quant_type=\"nf4\",\\n    bnb_4bit_compute_dtype=torch.bfloat16\\n) # setup bits and bytes config\\nmodel = AutoModelForCausalLM.from_pretrained(model_id, quantization_config=bnb_config, device_map={\"\":0})\\nmodel.gradient_checkpointing_enable()\\nmodel = prepare_model_for_kbit_training(model) # prepares the whole model for kbit training\\nconfig = LoraConfig(\\n    r=8, \\n    lora_alpha=32, \\n    target_modules=[\"query_key_value\"], \\n    lora_dropout=0.05, \\n    bias=\"none\", \\n    task_type=\"CAUSAL_LM\"\\n)\\nmodel = get_peft_model(model, config) # Now you get a model ready for QLoRA training\\n```\\n\\u200d\\nAnd then once again you can move to normal training using the HF trainer. Check out this colab notebook as a guide for QLoRA training.\\nQLoRA vs Standard Finetuning\\nIn the paper, researchers provide a very detailed comparison between QLoRA, LoRA, and Full Finetuning of a network.\\n\\u200d\\n\\nAs you can see in the above table, there is no loss of performance whatsoever in the T5 model family upon training with QLoRA and even with Double Quantization, we don’t see any major differences. One significant difference is the number of LoRA adapters required. In the paper, the authors mention that they needed more LoRA adapters for QLoRA finetuning, compared to normal LoRA finetuning. The authors suggest applying the LoRA adapters on all the linear transformer blocks along with the query, key, and value layers.\\n\\u200d\\nEven for the much bigger language models, performance remains the same:\\n\\u200d\\n\\nHence the authors trained a model on top of the base LLaMA models, Guanaco. This is a 33 billion parameter model, trained on the OASST1 dataset. At the time of its release, it became a state-of-the-art model and achieved 99.3% performance relative to ChatGPT. Even though other models have lesser models like Vicuna 13B, and Guanaco33B because of the use of 4-bit precision used less memory than the 13B model.\\n\\u200d\\nOther variants of LoRA finetuning\\nQA LoRA\\nQA LoRA is another fine-tuning technique built on top of QLoRA, introduced in this paper. QALoRA was mainly released for finetuning diffusion models, but can easily be generalized for training any type of models, just like LoRA.\\n\\u200d\\nThe difference between QLoRA and QALoRA is that QALoRA is quantization aware meaning the weights of the LoRA adapters are also quantized along with the weights of the model during the finetuning process. This helps in more efficient training as there is no need for the conversion step to update the models during the backpropagation process.\\n\\n\\u200d\\nLongLoRA\\n\\n\\u200d\\nLongLoRA is yet another variation of the LoRA finetuning technique, but this technique is specifically for training longer context models. LongLoRA works by using something called SHIFT SHORT ATTENTION. This method creates chunks or groups of the tokens, in which the attention is calculated independently. This method allows LongLoRA to scale to a much longer context because of the distributed workload.\\n\\u200d\\nAlong with this, the authors show the need to use the LoRA on the normalization and the embedding layers too for this method to work properly.\\n\\u200d\\nHow finetuning improves model performance for your business\\nIf you are considering finetuning a model for your business, you are probably correct. But data becomes an important part of the process, take a look at our synthetic data generation guide. However, there are many ways fine-tuned models can improve the performance of your business by providing customization. Finetuning the models helps you customize the model to your specific needs and knowledge. You can use an RAG pipeline to customize the model, but sometimes the knowledge is so vast that embedding and similarity searches are not enough, that’s where customization via finetuning comes in.\\n\\u200d\\nIf you need finetuned models for your business, reach out, don’t be shy. We have a ton of experience in finetuning all kinds of models, from small T5 models to massive models like Falcon180B. We have seen it all.\\n\\u200d\\nSubscribe to stay informed\\nSubscribe to our newsletter to stay updated on all things AI!\\nSubscribe\\nAwesome, you subscribed!\\nError! Please try again.\\n\\nLinkedInBlogResearchContact UsServices\\nTemplate pages\\nSubscribe to our newsletter!\\nSubscribe\\nAwesome, you subscribed!\\nError! Please try again.\\n© 2023, Mercity\\n')]}"
            ]
          },
          "metadata": {},
          "execution_count": 60
        }
      ]
    },
    {
      "cell_type": "markdown",
      "source": [
        "### Test Web Search Route"
      ],
      "metadata": {
        "id": "eEmGpcxo4T3a"
      }
    },
    {
      "cell_type": "code",
      "source": [
        "query = \"Give a detailed explanation of the various design patterns for Agentic AI Systems\"\n",
        "response = adaptive_rag.invoke({\"orig_question\": query})"
      ],
      "metadata": {
        "colab": {
          "base_uri": "https://localhost:8080/"
        },
        "id": "BwqZoy1c4UJh",
        "outputId": "7f57a58e-20d2-479e-ce52-4a810b00b806"
      },
      "execution_count": 61,
      "outputs": [
        {
          "output_type": "stream",
          "name": "stdout",
          "text": [
            "---ROUTE USER QUESTION---\n",
            "---ROUTING QUESTION TO WEB SEARCH WORKFLOW---\n",
            "---REWRITING USER QUERY FOR OPTIMAL RETRIEVAL FOR WEB SEARCH---\n",
            "---WEB SEARCH---\n",
            "---GENERATE ANSWER---\n",
            "---STANDARD RAG FLOW - GENERATING ANSWER---\n",
            "---CHECK HALLUCINATIONS---\n",
            "---HALLUCINATION CHECK: SUCCESSFUL - GENERATION IS GROUNDED IN DOCUMENTS---\n",
            "---ASSESS HALLUCINATION GRADE---\n",
            "---DECISION: STOP AGENT---\n"
          ]
        }
      ]
    },
    {
      "cell_type": "code",
      "source": [
        "display(Markdown(response['generation']))"
      ],
      "metadata": {
        "id": "QEw4lR5c4W9h",
        "colab": {
          "base_uri": "https://localhost:8080/",
          "height": 370
        },
        "outputId": "a2cb3597-f23c-411b-9d6f-ae74cd414de3"
      },
      "execution_count": 62,
      "outputs": [
        {
          "output_type": "display_data",
          "data": {
            "text/plain": [
              "<IPython.core.display.Markdown object>"
            ],
            "text/markdown": "The context provided outlines four key design patterns for Agentic AI systems, which are designed to make AI models, particularly large language models (LLMs), more autonomous and capable of handling complex tasks. These patterns are:\n\n1. **Reflection Pattern**: This pattern enhances an AI's ability to self-evaluate and refine its outputs. It involves the AI reviewing its own work, identifying errors or areas for improvement, and iteratively refining its responses. This is particularly useful for tasks requiring precision, such as content creation or code generation. An example of this is the SELF-RAG framework, which integrates retrieval and self-reflection to improve the quality and factual accuracy of language models.\n\n2. **Tool Use Pattern**: This pattern allows AI systems to interact with external tools and resources, expanding their problem-solving capabilities beyond their internal knowledge. For instance, an AI might use web searches, databases, or programming languages like Python to gather information or perform complex computations. This pattern is powerful for tackling tasks that require external data or specialized computations.\n\n3. **Planning Pattern**: This pattern enables AI to break down complex tasks into smaller, manageable steps, creating a strategic roadmap for task completion. It involves outlining objectives, analyzing resources, and executing plans step-by-step. Variations like ReAct (Reasoning and Acting) and ReWOO (Reasoning With Open Ontology) incorporate decision-making and adaptive strategies, allowing AI to dynamically adjust plans based on new information.\n\n4. **Multi-Agent Pattern**: This pattern involves orchestrating multiple AI agents to work collaboratively on complex tasks. Each agent may specialize in different aspects of a task, and they communicate and coordinate to achieve a unified outcome. This pattern is akin to project management in human teams, where different team members handle specific roles but work towards a common goal.\n\nThese design patterns collectively enhance the autonomy and efficiency of AI systems, enabling them to perform tasks, make decisions, and interact with other systems in a more human-like manner. They provide a foundation for building intelligent, autonomous AI systems capable of addressing real-world challenges."
          },
          "metadata": {}
        }
      ]
    },
    {
      "cell_type": "markdown",
      "source": [
        "### Test Hallucination Handling"
      ],
      "metadata": {
        "id": "BYwr-U4L5Kkf"
      }
    },
    {
      "cell_type": "markdown",
      "source": [
        "Now we will simulate a hallucination occurence by uncommenting a part of the `generate_answer` node function and hard-code a wrong answer to the below question\n",
        "\n",
        "![](https://i.imgur.com/LkC8oOB.png)\n",
        "\n",
        "Remember to rerun the agent graph compilation code in 'Build the Agent Graph' section before running the below code"
      ],
      "metadata": {
        "id": "pyhvIRob4eyO"
      }
    },
    {
      "cell_type": "code",
      "source": [
        "query = \"Give a detailed explanation of the various design patterns for Agentic AI Systems\"\n",
        "response = adaptive_rag.invoke({\"orig_question\": query})"
      ],
      "metadata": {
        "id": "hjcdWCxn5b5r",
        "colab": {
          "base_uri": "https://localhost:8080/"
        },
        "outputId": "e99c7508-3ade-4b6e-d1e8-11bfcad9a161"
      },
      "execution_count": 66,
      "outputs": [
        {
          "output_type": "stream",
          "name": "stdout",
          "text": [
            "---ROUTE USER QUESTION---\n",
            "---ROUTING QUESTION TO WEB SEARCH WORKFLOW---\n",
            "---REWRITING USER QUERY FOR OPTIMAL RETRIEVAL FOR WEB SEARCH---\n",
            "---WEB SEARCH---\n",
            "---GENERATE ANSWER---\n",
            "---STANDARD RAG FLOW - GENERATING ANSWER---\n",
            "---CHECK HALLUCINATIONS---\n",
            "---HALLUCINATION CHECK: UNSUCCESSFUL - GENERATION IS NOT GROUNDED IN DOCUMENTS, RE-TRYING RESPONSE GENERATION---\n",
            "---ASSESS HALLUCINATION GRADE---\n",
            "---DECISION: HALLUCINATION EXISTS RERUNNING generate_answer NODE with hallucination_feedback---\n",
            "---GENERATE ANSWER---\n",
            "Hallucination Check Feedback: The LLM generated response mentions the observer and factory pattern as the main design patterns, which is not supported by the context documents. The context documents focus on Agentic AI Design Patterns, specifically Reflection, Tool Use, Planning, and Multi-Agent Collaboration, and do not mention the observer or factory patterns.\n",
            "---REFLECTING ON HALLUCINATED FEEDBACK - GENERATING ANSWER---\n",
            "---CHECK HALLUCINATIONS---\n",
            "---HALLUCINATION CHECK: SUCCESSFUL - GENERATION IS GROUNDED IN DOCUMENTS---\n",
            "---ASSESS HALLUCINATION GRADE---\n",
            "---DECISION: STOP AGENT---\n"
          ]
        }
      ]
    },
    {
      "cell_type": "code",
      "source": [
        "display(Markdown(response['generation']))"
      ],
      "metadata": {
        "id": "Nv0cSYOa6cE1",
        "colab": {
          "base_uri": "https://localhost:8080/",
          "height": 405
        },
        "outputId": "4116773b-bdda-47e4-d4ec-9d6e7b888f8f"
      },
      "execution_count": 67,
      "outputs": [
        {
          "output_type": "display_data",
          "data": {
            "text/plain": [
              "<IPython.core.display.Markdown object>"
            ],
            "text/markdown": "Agentic AI systems are designed to operate autonomously, mimicking human-like problem-solving and decision-making processes. These systems are structured using specific design patterns that enhance their autonomy and efficiency. The key Agentic AI design patterns include:\n\n1. **Reflection Pattern**: This pattern focuses on the AI's ability to self-evaluate and refine its outputs. The AI system reviews its actions or decisions, identifies errors or areas for improvement, and iteratively refines its approach. This is akin to a human reviewing their work to improve accuracy and reliability. For example, a trading bot might analyze its daily performance, identify underperforming strategies, and adjust its algorithms for better results.\n\n2. **Tool Use Pattern**: This pattern allows AI systems to extend their capabilities by interacting with external tools and resources. Instead of relying solely on internal computations, the AI can access databases, perform web searches, or execute complex functions using programming languages like Python. This pattern is powerful for tasks that require information or computations beyond the AI's pre-existing data, making the system more versatile and applicable to real-world scenarios.\n\n3. **Planning Pattern**: The Planning Pattern enables AI systems to break down complex tasks into smaller, manageable steps. The AI creates a roadmap of subtasks, determining the most efficient path to achieve a goal. This pattern incorporates strategic thinking, allowing the AI to dynamically adapt its workflows based on goals and constraints. Variations like ReAct (Reasoning and Acting) and ReWOO (Reasoning With Open Ontology) further enhance this pattern by integrating decision-making and contextual reasoning.\n\n4. **Multi-Agent Pattern**: This pattern involves orchestrating multiple AI agents to work collaboratively on complex tasks. Each agent is assigned specific roles or functions, and they communicate and collaborate to achieve a unified outcome. This pattern mirrors human teamwork, where different specialists contribute their expertise to solve a problem. It is particularly useful for large-scale or complex problems that require diverse skill sets.\n\nThese design patterns collectively enable Agentic AI systems to operate more independently and effectively, pushing the boundaries of what AI can achieve by encouraging self-evaluation, tool integration, strategic planning, and collaboration. By mastering these patterns, developers can create more intelligent, autonomous AI systems capable of addressing real-world challenges."
          },
          "metadata": {}
        }
      ]
    }
  ]
}